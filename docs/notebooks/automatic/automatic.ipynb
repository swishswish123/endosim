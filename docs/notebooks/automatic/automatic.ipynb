{
 "cells": [
  {
   "cell_type": "markdown",
   "metadata": {
    "collapsed": true
   },
   "source": [
    "# 9.3 Vision-based simulation\n",
    "\n",
    "In this simulation we go directly from the patient coordinates to the MRI coordinates"
   ]
  },
  {
   "cell_type": "code",
   "execution_count": 1,
   "metadata": {},
   "outputs": [],
   "source": [
    "import numpy as np\n",
    "import matplotlib.pyplot as plt\n",
    "import cv2\n",
    "import random"
   ]
  },
  {
   "cell_type": "code",
   "execution_count": 2,
   "metadata": {},
   "outputs": [
    {
     "name": "stdout",
     "output_type": "stream",
     "text": [
      "added /Users/aure/Desktop/i4health/project/endoSim/endosim/notebooks to sys\n"
     ]
    }
   ],
   "source": [
    "import os\n",
    "import sys\n",
    "module_path = os.path.abspath(os.path.join('..'))\n",
    "if module_path not in sys.path:\n",
    "    print(f'added {module_path} to sys')\n",
    "    sys.path.append(module_path)"
   ]
  },
  {
   "cell_type": "code",
   "execution_count": 3,
   "metadata": {
    "pycharm": {
     "is_executing": true
    }
   },
   "outputs": [],
   "source": [
    "from endosimutilities.end_utils import create_transform, \\\n",
    "                                  multiply_points_by_matrix, \\\n",
    "                                  multiply_point_by_matrix, pointer_to_mri,\\\n",
    "                                  camera_to_mri, mri_to_camera, add_noise_to_points,\\\n",
    "                                  add_noise_to_params, extract_rigid_body_parameters,\\\n",
    "                                  rigid_body_parameters_to_matrix, \\\n",
    "                                  convert_4x1_to_1x1x3, project_camera_point_to_image, \\\n",
    "                                  create_pnt_ref, create_pnt_ref_in_camera_space, create_pat_ref, \\\n",
    "                                  create_pat_ref_in_camera_space, get_ref_T_tip, calculate_euclid_dist, convert_points_nx3_to_1xnx3\n"
   ]
  },
  {
   "cell_type": "code",
   "execution_count": 4,
   "metadata": {
    "pycharm": {
     "is_executing": true
    }
   },
   "outputs": [],
   "source": [
    "# creating 4 points in patient coordinates\n",
    "\n",
    "z = 200 # head length (about 20cm)\n",
    "x = 250 # menton to top of head (about 25cm)\n",
    "y = 150 # head bredth (about 15cm)\n",
    "\n",
    "\n",
    "points = np.array(\n",
    "[\n",
    "    [-x,-y,z],\n",
    "    [-x,y,z],\n",
    "    [x,y,z],\n",
    "    [x,-y,z],\n",
    "])\n",
    "\n",
    "\n",
    "cancer_point = convert_points_nx3_to_1xnx3(np.array([[0,0,0]]))\n",
    "\n",
    "#points_converted = convert_points_nx3_to_1xnx3(points)\n"
   ]
  },
  {
   "cell_type": "code",
   "execution_count": 5,
   "metadata": {
    "pycharm": {
     "is_executing": true
    },
    "scrolled": true
   },
   "outputs": [
    {
     "data": {
      "image/png": "[encoded data removed]",
      "text/plain": [
       "<Figure size 432x288 with 1 Axes>"
      ]
     },
     "metadata": {
      "needs_background": "light"
     },
     "output_type": "display_data"
    }
   ],
   "source": [
    "plt.figure()\n",
    "plt.scatter(points[:,0], points[:,1])\n",
    "plt.show()"
   ]
  },
  {
   "cell_type": "markdown",
   "metadata": {},
   "source": [
    "## projecting points from 3D to 2D"
   ]
  },
  {
   "cell_type": "code",
   "execution_count": 6,
   "metadata": {
    "pycharm": {
     "is_executing": true
    }
   },
   "outputs": [
    {
     "name": "stdout",
     "output_type": "stream",
     "text": [
      "Intrinsics are:[[664.6329766    0.         931.53151205]\n",
      " [  0.         663.83211807 520.64004697]\n",
      " [  0.           0.           1.        ]]\n",
      "Distortion coefficients are:[-4.0929449e-01  2.1631278e-01  1.1120000e-05  1.2712000e-03\n",
      " -7.2057120e-02]\n"
     ]
    }
   ],
   "source": [
    "intrinsics = np.loadtxt('calibration/intrinsics.txt')\n",
    "distortion = np.loadtxt('calibration/distortion.txt')\n",
    "\n",
    "print(\"Intrinsics are:\" + str(intrinsics))\n",
    "print(\"Distortion coefficients are:\" + str(distortion))\n"
   ]
  },
  {
   "cell_type": "code",
   "execution_count": 7,
   "metadata": {
    "pycharm": {
     "is_executing": true
    }
   },
   "outputs": [],
   "source": [
    "points_converted = convert_points_nx3_to_1xnx3(points)\n",
    "\n",
    "rvec = np.zeros((1,3))\n",
    "tvec = np.zeros((1,3))\n",
    "image_points, jacobian = cv2.projectPoints(points_converted, rvec, tvec, intrinsics, distortion)"
   ]
  },
  {
   "cell_type": "code",
   "execution_count": 8,
   "metadata": {
    "pycharm": {
     "is_executing": true
    }
   },
   "outputs": [
    {
     "name": "stdout",
     "output_type": "stream",
     "text": [
      "[[ 590.70593181  315.33086881]\n",
      " [ 590.67821662  725.99720692]\n",
      " [1281.2560626   729.16169462]\n",
      " [1281.2283474   312.1663811 ]]\n"
     ]
    }
   ],
   "source": [
    "image_points = image_points.squeeze()\n",
    "print(image_points)"
   ]
  },
  {
   "cell_type": "code",
   "execution_count": 9,
   "metadata": {
    "pycharm": {
     "is_executing": true
    }
   },
   "outputs": [
    {
     "data": {
      "image/png": "[encoded data removed]",
      "text/plain": [
       "<Figure size 432x288 with 1 Axes>"
      ]
     },
     "metadata": {
      "needs_background": "light"
     },
     "output_type": "display_data"
    }
   ],
   "source": [
    "plt.figure()\n",
    "plt.scatter(image_points[:,0], image_points[:,1])\n",
    "plt.show()"
   ]
  },
  {
   "cell_type": "markdown",
   "metadata": {},
   "source": [
    "# Simulation 1: adding noise to image points (2D)"
   ]
  },
  {
   "cell_type": "code",
   "execution_count": 10,
   "metadata": {},
   "outputs": [],
   "source": [
    "# points-3D\n",
    "# image_points-2D\n",
    "# image_points_noisy-2D noisy"
   ]
  },
  {
   "cell_type": "markdown",
   "metadata": {},
   "source": [
    "First we add noise to the image points (that is- add noise in 2D)"
   ]
  },
  {
   "cell_type": "code",
   "execution_count": 11,
   "metadata": {
    "pycharm": {
     "is_executing": true
    }
   },
   "outputs": [],
   "source": [
    "sigma=0.25\n",
    "image_points_noisy = add_noise_to_points(image_points,sigma)"
   ]
  },
  {
   "cell_type": "markdown",
   "metadata": {},
   "source": [
    "We then find the corresponding transformation to match the 2D image points to the corresponding 3D locations"
   ]
  },
  {
   "cell_type": "code",
   "execution_count": 12,
   "metadata": {
    "pycharm": {
     "is_executing": true
    }
   },
   "outputs": [
    {
     "name": "stdout",
     "output_type": "stream",
     "text": [
      "rotation true:, [[-1.33849327e-04]\n",
      " [ 1.53026096e-02]\n",
      " [ 2.27516157e-07]]\n",
      "translation true:, [[-2.08313803e+00]\n",
      " [-1.82287484e-02]\n",
      " [ 2.01168074e+02]]\n",
      "rotation:, [[4.45433922e-04]\n",
      " [1.66332177e-02]\n",
      " [6.55360193e-05]]\n",
      "translation:, [[-2.68617538e+00]\n",
      " [ 1.78282338e-01]\n",
      " [ 2.01222151e+02]]\n"
     ]
    }
   ],
   "source": [
    "success_true, rotation_vector_true, translation_vector_true = cv2.solvePnP(points.astype('float32'), image_points.astype('float32'), intrinsics, distortion, flags=0 )\n",
    "\n",
    "success, rotation_vector, translation_vector = cv2.solvePnP(points.astype('float32'), image_points_noisy.astype('float32'), intrinsics, distortion, flags=0 )\n",
    "\n",
    "if success_true:\n",
    "    print(f'rotation true:, {rotation_vector_true}')\n",
    "    print(f'translation true:, {translation_vector_true}')\n",
    "else:\n",
    "    print('solution not found')\n",
    "    \n",
    "if success:\n",
    "    print(f'rotation:, {rotation_vector}')\n",
    "    print(f'translation:, {translation_vector}')\n",
    "else:\n",
    "    print('solution not found')\n",
    "    \n",
    "\n",
    "        "
   ]
  },
  {
   "cell_type": "markdown",
   "metadata": {},
   "source": [
    "Finally we project the 3D points to 2D with the true and noisy rotation and translation"
   ]
  },
  {
   "cell_type": "code",
   "execution_count": 13,
   "metadata": {
    "pycharm": {
     "is_executing": true
    },
    "scrolled": true
   },
   "outputs": [
    {
     "name": "stdout",
     "output_type": "stream",
     "text": [
      "[[ 590.71083943  315.32212628]\n",
      " [ 590.68341083  726.00576517]\n",
      " [1281.25122558  729.16991962]\n",
      " [1281.22322562  312.15831522]]\n",
      "[[ 590.52949766  315.56528453]\n",
      " [ 590.60778371  725.85704025]\n",
      " [1280.97291228  729.43275618]\n",
      " [1281.10782153  312.0867723 ]]\n"
     ]
    }
   ],
   "source": [
    "point_projected2D_true, jacobian = cv2.projectPoints(points_converted, rotation_vector_true, translation_vector_true, intrinsics, distortion)\n",
    "point_projected2D_true = point_projected2D_true.squeeze()\n",
    "print(point_projected2D_true)\n",
    "\n",
    "point_projected2D, jacobian = cv2.projectPoints(points_converted, rotation_vector, translation_vector, intrinsics, distortion)\n",
    "point_projected2D = point_projected2D.squeeze()\n",
    "print(point_projected2D)\n",
    "\n"
   ]
  },
  {
   "cell_type": "markdown",
   "metadata": {},
   "source": [
    "We can also use this rotation and translation to transform any other point in this coordinate system- eg. a point where the caner is locaed\n"
   ]
  },
  {
   "cell_type": "code",
   "execution_count": 14,
   "metadata": {},
   "outputs": [
    {
     "name": "stdout",
     "output_type": "stream",
     "text": [
      "[924.64967063 520.57989916]\n",
      "[922.66022744 521.22813891]\n"
     ]
    }
   ],
   "source": [
    "cancer_projected2D_true, jacobian = cv2.projectPoints(cancer_point, rotation_vector_true, translation_vector_true, intrinsics, distortion)\n",
    "cancer_projected2D_true = cancer_projected2D_true.squeeze()\n",
    "print(cancer_projected2D_true)\n",
    "\n",
    "cancer_projected2D, jacobian = cv2.projectPoints(cancer_point, rotation_vector, translation_vector, intrinsics, distortion)\n",
    "cancer_projected2D = cancer_projected2D.squeeze()\n",
    "print(cancer_projected2D)\n"
   ]
  },
  {
   "cell_type": "code",
   "execution_count": 15,
   "metadata": {
    "pycharm": {
     "is_executing": true
    }
   },
   "outputs": [
    {
     "data": {
      "image/png": "[encoded data removed]",
      "text/plain": [
       "<Figure size 432x288 with 1 Axes>"
      ]
     },
     "metadata": {
      "needs_background": "light"
     },
     "output_type": "display_data"
    }
   ],
   "source": [
    "plt.figure()\n",
    "plt.scatter(image_points[:,0], image_points[:,1])\n",
    "plt.scatter(point_projected2D[:,0], point_projected2D[:,1])\n",
    "#plt.scatter(image_points_noisy[:,0], image_points_noisy[:,1])\n",
    "\n",
    "plt.scatter(cancer_projected2D[0], cancer_projected2D[1])\n",
    "plt.scatter(cancer_projected2D_true[0], cancer_projected2D_true[1])\n",
    "\n",
    "plt.legend(['original image points', 'projected points', 'original cancer', 'noisy cancer'])\n",
    "\n",
    "plt.show()"
   ]
  },
  {
   "cell_type": "markdown",
   "metadata": {},
   "source": [
    "Error in 3D"
   ]
  },
  {
   "cell_type": "code",
   "execution_count": 16,
   "metadata": {},
   "outputs": [],
   "source": [
    "cancer_projected2D\n",
    "\n",
    "success_true, rotation_vector_true, translation_vector_true = cv2.solvePnP(points.astype('float32'), image_points.astype('float32'), intrinsics, distortion, flags=0 )\n"
   ]
  },
  {
   "cell_type": "code",
   "execution_count": 17,
   "metadata": {},
   "outputs": [
    {
     "name": "stdout",
     "output_type": "stream",
     "text": [
      "cancer 3D true: [[[0. 0. 0.]]]\n",
      "cancer 2D true: [924.64967063 520.57989916]\n",
      "rotation true:, [[-1.33849327e-04]\n",
      " [ 1.53026096e-02]\n",
      " [ 2.27516157e-07]]\n",
      "translation true:, [[-2.08313803e+00]\n",
      " [-1.82287484e-02]\n",
      " [ 2.01168074e+02]]\n",
      "cancer 2D error: [922.66022744 521.22813891]\n",
      "rotation:, [[4.45433922e-04]\n",
      " [1.66332177e-02]\n",
      " [6.55360193e-05]]\n",
      "translation:, [[-2.68617538e+00]\n",
      " [ 1.78282338e-01]\n",
      " [ 2.01222151e+02]]\n"
     ]
    }
   ],
   "source": [
    "print(f'cancer 3D true: {cancer_point}')\n",
    "print(f'cancer 2D true: {cancer_projected2D_true}')\n",
    "print(f'rotation true:, {rotation_vector_true}')\n",
    "print(f'translation true:, {translation_vector_true}')\n",
    "\n",
    "print(f'cancer 2D error: {cancer_projected2D}')\n",
    "print(f'rotation:, {rotation_vector}')\n",
    "print(f'translation:, {translation_vector}')\n"
   ]
  },
  {
   "cell_type": "code",
   "execution_count": 18,
   "metadata": {},
   "outputs": [],
   "source": [
    "# cancer_projected2D @ intrinsics.T\n",
    "# intrinsics.T @ \n"
   ]
  },
  {
   "cell_type": "code",
   "execution_count": 19,
   "metadata": {},
   "outputs": [
    {
     "data": {
      "text/plain": [
       "'\\noriginal_undistorted = cv2.undistortPoints(cancer_projected2D, intrinsics, distortion)\\nnoisy_undistorted = cv2.undistortPoints(cancer_projected2D_true, intrinsics, distortion)\\n\\nt = translation_vector_true[:,0]\\nr = rotation_vector_true[:,0]\\n\\nparams = [t[0], t[1], t[2],r[0], r[1], r[2]]  \\n\\nQ=rigid_body_parameters_to_matrix(params)\\n\\ncv2.reprojectImageTo3D(cancer_projected2D, intrinsics)\\n'"
      ]
     },
     "execution_count": 19,
     "metadata": {},
     "output_type": "execute_result"
    }
   ],
   "source": [
    "\n",
    "'''\n",
    "original_undistorted = cv2.undistortPoints(cancer_projected2D, intrinsics, distortion)\n",
    "noisy_undistorted = cv2.undistortPoints(cancer_projected2D_true, intrinsics, distortion)\n",
    "\n",
    "t = translation_vector_true[:,0]\n",
    "r = rotation_vector_true[:,0]\n",
    "\n",
    "params = [t[0], t[1], t[2],r[0], r[1], r[2]]  \n",
    "\n",
    "Q=rigid_body_parameters_to_matrix(params)\n",
    "\n",
    "cv2.reprojectImageTo3D(cancer_projected2D, intrinsics)\n",
    "'''"
   ]
  },
  {
   "cell_type": "markdown",
   "metadata": {},
   "source": [
    "Investigating effects of different sigmas"
   ]
  },
  {
   "cell_type": "code",
   "execution_count": 20,
   "metadata": {
    "pycharm": {
     "is_executing": true
    },
    "scrolled": true
   },
   "outputs": [
    {
     "name": "stdout",
     "output_type": "stream",
     "text": [
      "when adding 2D noise, number of pxls off at sigma 0.12 is 0.7763930704692059\n",
      "when adding 2D noise, number of pxls off at sigma 0.15 is 0.9609654131789737\n",
      "when adding 2D noise, number of pxls off at sigma 0.25 is 1.6113716580025907\n"
     ]
    },
    {
     "data": {
      "image/png": "[encoded data removed]",
      "text/plain": [
       "<Figure size 432x288 with 1 Axes>"
      ]
     },
     "metadata": {
      "needs_background": "light"
     },
     "output_type": "display_data"
    }
   ],
   "source": [
    "\n",
    "number_samples = 10000\n",
    "x_values_px_1 = []\n",
    "y_values_px_1 = []\n",
    "\n",
    "x_values_mm = []\n",
    "y_values_mm = []\n",
    "\n",
    "for sigma_counter in range(0, 100, 1):\n",
    "    sigma = float(sigma_counter) / float(100)\n",
    "    rms = 0\n",
    "    for i in range(number_samples):\n",
    "        \n",
    "        # add noise to image points\n",
    "        image_points_noisy = add_noise_to_points(image_points,sigma)\n",
    "        \n",
    "        # try and match noisy 2D to original 3d object points\n",
    "        # true\n",
    "        success_true, rotation_vector_true, translation_vector_true = cv2.solvePnP(points.astype('float32'), image_points.astype('float32'), intrinsics,distortion, flags=0 )\n",
    "        # noisy\n",
    "        success, rotation_vector, translation_vector = cv2.solvePnP(points.astype('float32'), image_points_noisy.astype('float32'), intrinsics,distortion, flags=0 )\n",
    "\n",
    "        \n",
    "        # project cancer 3D point using the found rotations and translations\n",
    "        # true\n",
    "        point_projected2D_true, _ = cv2.projectPoints(cancer_point, rotation_vector_true, translation_vector_true, intrinsics, distortion)\n",
    "        point_projected2D_true = point_projected2D_true.squeeze()\n",
    "        # noisy\n",
    "        point_projected2D, _ = cv2.projectPoints(cancer_point, rotation_vector, translation_vector, intrinsics, distortion)\n",
    "        point_projected2D = point_projected2D.squeeze()\n",
    "\n",
    "        # 3D noise\n",
    "        \n",
    "        #original_undistorted = cv2.undistortPoints(point_projected2D, intrinsics, distortion)\n",
    "        #noisy_undistorted = cv2.undistortPoints(point_projected2D, intrinsics, distortion)\n",
    "\n",
    "        \n",
    "        euclid_dist_px =  (point_projected2D_true[0] - point_projected2D[0]) \\\n",
    "                     * (point_projected2D_true[0] - point_projected2D[0]) \\\n",
    "                     + (point_projected2D_true[1] - point_projected2D[1]) \\\n",
    "                     * (point_projected2D_true[1] - point_projected2D[1]) \n",
    "        \n",
    "        \n",
    "        #euclid_dist_mm = calculate_euclid_dist()\n",
    "        \n",
    "        rms = rms + euclid_dist_px\n",
    "        \n",
    "    rms = rms / float(number_samples)\n",
    "    rms = np.sqrt(rms)\n",
    "    \n",
    "    if sigma == 0.25:\n",
    "        D2_25 = rms\n",
    "        print(f'when adding 2D noise, number of pxls off at sigma {sigma} is {D2_25}')\n",
    "    if sigma == 0.12:\n",
    "        D2_12 = rms\n",
    "        print(f'when adding 2D noise, number of pxls off at sigma {sigma} is {D2_12}')\n",
    "    if sigma == 0.15:\n",
    "        D2_15 = rms\n",
    "        print(f'when adding 2D noise, number of pxls off at sigma {sigma} is {D2_15}')       \n",
    "    x_values_px_1.append(sigma)\n",
    "    y_values_px_1.append(rms)\n",
    "    \n",
    "plt.plot(x_values_px_1, y_values_px_1, 'r', label='TRE (pxls)')\n",
    "plt.title('error after adding noise to image points (in pixels)')\n",
    "plt.legend(loc='upper left')\n",
    "plt.xlabel('sigma')\n",
    "plt.ylabel('RMS (Pixels)')\n",
    "plt.show()\n"
   ]
  },
  {
   "cell_type": "markdown",
   "metadata": {},
   "source": [
    "## Simulation 2: adding noise to 3D\n"
   ]
  },
  {
   "cell_type": "markdown",
   "metadata": {},
   "source": [
    "Add noise to the 3D points"
   ]
  },
  {
   "cell_type": "code",
   "execution_count": 21,
   "metadata": {
    "pycharm": {
     "is_executing": true
    },
    "scrolled": true
   },
   "outputs": [
    {
     "data": {
      "image/png": "[encoded data removed]",
      "text/plain": [
       "<Figure size 432x288 with 1 Axes>"
      ]
     },
     "metadata": {
      "needs_background": "light"
     },
     "output_type": "display_data"
    }
   ],
   "source": [
    "noisy_points = add_noise_to_points(points, 0.5)\n",
    "\n",
    "plt.figure()\n",
    "plt.scatter(points[:,0], points[:,1])\n",
    "plt.scatter(noisy_points[:,0], noisy_points[:,1])\n",
    "plt.show()\n"
   ]
  },
  {
   "cell_type": "markdown",
   "metadata": {},
   "source": [
    "Project both noisy points and real points to 2D"
   ]
  },
  {
   "cell_type": "code",
   "execution_count": 22,
   "metadata": {},
   "outputs": [],
   "source": [
    "image_points, _ = cv2.projectPoints(points_converted, rvec, tvec, intrinsics, distortion)\n",
    "image_points_noisy, _ = cv2.projectPoints(noisy_points, rvec, tvec, intrinsics, distortion)\n",
    "image_points = image_points.squeeze()\n",
    "image_points_noisy = image_points_noisy.squeeze()"
   ]
  },
  {
   "cell_type": "markdown",
   "metadata": {},
   "source": [
    "Find transformations to get from 3D to 2D"
   ]
  },
  {
   "cell_type": "code",
   "execution_count": 23,
   "metadata": {},
   "outputs": [],
   "source": [
    "success_true, rotation_vector_true, translation_vector_true = cv2.solvePnP(points.astype('float32'), image_points.astype('float32'), intrinsics, distortion, flags=0 )\n",
    "\n",
    "success, rotation_vector, translation_vector = cv2.solvePnP(noisy_points.astype('float32'), image_points_noisy.astype('float32'), intrinsics, distortion, flags=0 )\n"
   ]
  },
  {
   "cell_type": "markdown",
   "metadata": {},
   "source": [
    "Use these transformations to transform a cancer"
   ]
  },
  {
   "cell_type": "code",
   "execution_count": 24,
   "metadata": {},
   "outputs": [
    {
     "name": "stdout",
     "output_type": "stream",
     "text": [
      "[924.64967063 520.57989916]\n",
      "[918.36855316 532.15253859]\n"
     ]
    }
   ],
   "source": [
    "cancer_projected2D_true, _ = cv2.projectPoints(cancer_point, rotation_vector_true, translation_vector_true, intrinsics, distortion)\n",
    "cancer_projected2D_true = cancer_projected2D_true.squeeze()\n",
    "print(cancer_projected2D_true)\n",
    "\n",
    "cancer_projected2D, _ = cv2.projectPoints(cancer_point, rotation_vector, translation_vector, intrinsics, distortion)\n",
    "cancer_projected2D = cancer_projected2D.squeeze()\n",
    "print(cancer_projected2D)"
   ]
  },
  {
   "cell_type": "code",
   "execution_count": 25,
   "metadata": {},
   "outputs": [
    {
     "data": {
      "image/png": "[encoded data removed]",
      "text/plain": [
       "<Figure size 432x288 with 1 Axes>"
      ]
     },
     "metadata": {
      "needs_background": "light"
     },
     "output_type": "display_data"
    }
   ],
   "source": [
    "plt.figure()\n",
    "plt.scatter(image_points[:,0], image_points[:,1])\n",
    "plt.scatter(image_points_noisy[:,0], image_points_noisy[:,1])\n",
    "#plt.scatter(image_points_noisy[:,0], image_points_noisy[:,1])\n",
    "\n",
    "plt.scatter(cancer_projected2D[0], cancer_projected2D[1])\n",
    "plt.scatter(cancer_projected2D_true[0], cancer_projected2D_true[1])\n",
    "\n",
    "plt.legend(['original image points', 'projected points', 'original cancer', 'noisy cancer'])\n",
    "\n",
    "plt.show()"
   ]
  },
  {
   "cell_type": "code",
   "execution_count": 26,
   "metadata": {},
   "outputs": [
    {
     "name": "stdout",
     "output_type": "stream",
     "text": [
      "when adding 3D noise, number of pxls off at sigma 0.12 is 4.6146311972532725\n",
      "when adding 3D noise, number of pxls off at sigma 0.15 is 5.729111436847025\n",
      "when adding 3D noise, number of pxls off at sigma 0.25 is 9.482135381604849\n"
     ]
    },
    {
     "data": {
      "image/png": "[encoded data removed]",
      "text/plain": [
       "<Figure size 432x288 with 1 Axes>"
      ]
     },
     "metadata": {
      "needs_background": "light"
     },
     "output_type": "display_data"
    }
   ],
   "source": [
    "\n",
    "number_samples = 10000\n",
    "x_values_px_2 = []\n",
    "y_values_px_2 = []\n",
    "\n",
    "x_values_mm = []\n",
    "y_values_mm = []\n",
    "\n",
    "for sigma_counter in range(0, 100, 1):\n",
    "    sigma = float(sigma_counter) / float(100)\n",
    "    rms = 0\n",
    "    for i in range(number_samples):\n",
    "        \n",
    "        # add noise to 3D points\n",
    "        noisy_points = add_noise_to_points(points, sigma)\n",
    "        \n",
    "        # project both noisy and non-noisy 3D points to 2D\n",
    "        image_points, _ = cv2.projectPoints(points_converted, rvec, tvec, intrinsics, distortion)\n",
    "        image_points_noisy, _ = cv2.projectPoints(noisy_points, rvec, tvec, intrinsics, distortion)\n",
    "        image_points = image_points.squeeze()\n",
    "        image_points_noisy = image_points_noisy.squeeze()\n",
    "    \n",
    "        \n",
    "        # try and match noisy 2D to original 3d object points and get transformation\n",
    "        # true\n",
    "        success_true, rotation_vector_true, translation_vector_true = cv2.solvePnP(points.astype('float32'), image_points.astype('float32'), intrinsics, distortion, flags=0 )\n",
    "        # noisy\n",
    "        success, rotation_vector, translation_vector = cv2.solvePnP(noisy_points.astype('float32'), image_points_noisy.astype('float32'), intrinsics, distortion, flags=0 )\n",
    "        \n",
    "        # project cancer 3D point using the found rotations and translations\n",
    "        # true\n",
    "        cancer_projected2D_true, _ = cv2.projectPoints(cancer_point, rotation_vector_true, translation_vector_true, intrinsics, distortion)\n",
    "        cancer_projected2D_true = cancer_projected2D_true.squeeze()\n",
    "        # noisy\n",
    "        cancer_projected2D, _ = cv2.projectPoints(cancer_point, rotation_vector, translation_vector, intrinsics, distortion)\n",
    "        cancer_projected2D = cancer_projected2D.squeeze()\n",
    "\n",
    "        \n",
    "        euclid_dist_px =  (cancer_projected2D_true[0] - cancer_projected2D[0]) \\\n",
    "                     * (cancer_projected2D_true[0] - cancer_projected2D[0]) \\\n",
    "                     + (cancer_projected2D_true[1] - cancer_projected2D[1]) \\\n",
    "                     * (cancer_projected2D_true[1] - cancer_projected2D[1]) \n",
    "        \n",
    "        \n",
    "        #euclid_dist_mm = calculate_euclid_dist()\n",
    "        \n",
    "        rms = rms + euclid_dist_px\n",
    "        \n",
    "    rms = rms / float(number_samples)\n",
    "    rms = np.sqrt(rms)\n",
    "    \n",
    "    if sigma == 0.25:\n",
    "        D3_25 = rms\n",
    "        print(f'when adding 3D noise, number of pxls off at sigma {sigma} is {D3_25}')\n",
    "    if sigma == 0.12:\n",
    "        D3_12 = rms\n",
    "        print(f'when adding 3D noise, number of pxls off at sigma {sigma} is {D3_12}')\n",
    "    if sigma == 0.15:\n",
    "        D3_15 = rms\n",
    "        print(f'when adding 3D noise, number of pxls off at sigma {sigma} is {D3_15}')\n",
    "                    \n",
    "        \n",
    "    x_values_px_2.append(sigma)\n",
    "    y_values_px_2.append(rms)\n",
    "    \n",
    "plt.plot(x_values_px_2, y_values_px_2, 'r', label='TRE (pxls)')\n",
    "plt.title('error (in pixels) caused by error in 3D point')\n",
    "plt.legend(loc='upper left')\n",
    "plt.xlabel('sigma (rotations(degrees)/translations(mm))')\n",
    "plt.ylabel('RMS (Pixels)')\n",
    "plt.show()\n"
   ]
  },
  {
   "cell_type": "markdown",
   "metadata": {},
   "source": [
    "## Simulation 3: adding noise to both"
   ]
  },
  {
   "cell_type": "code",
   "execution_count": 28,
   "metadata": {
    "pycharm": {
     "is_executing": true
    },
    "scrolled": false
   },
   "outputs": [
    {
     "name": "stdout",
     "output_type": "stream",
     "text": [
      "when adding 3D noise and 2D noise, number of pxls off at sigma 0.12 is 4.629484376832195\n",
      "when adding 3D noise and 2D noise, number of pxls off at sigma 0.15 is 5.741507783589586\n",
      "when adding 3D noise and 2D noise, number of pxls off at sigma 0.25 is 9.598804247195247\n"
     ]
    },
    {
     "data": {
      "image/png": "[encoded data removed]",
      "text/plain": [
       "<Figure size 432x288 with 1 Axes>"
      ]
     },
     "metadata": {
      "needs_background": "light"
     },
     "output_type": "display_data"
    }
   ],
   "source": [
    "\n",
    "number_samples = 10000\n",
    "x_values_px_3 = []\n",
    "y_values_px_3 = []\n",
    "\n",
    "x_values_mm = []\n",
    "y_values_mm = []\n",
    "\n",
    "for sigma_counter in range(0, 100, 1):\n",
    "    sigma = float(sigma_counter) / float(100)\n",
    "    rms = 0\n",
    "    for i in range(number_samples):\n",
    "        \n",
    "        # add noise to 3D points\n",
    "        noisy_points = add_noise_to_points(points, sigma)\n",
    "        \n",
    "        # project both noisy and non-noisy 3D points to 2D\n",
    "        image_points, _ = cv2.projectPoints(points_converted, rvec, tvec, intrinsics, distortion)\n",
    "        image_points_noisy, _ = cv2.projectPoints(noisy_points, rvec, tvec, intrinsics, distortion)\n",
    "        image_points = image_points.squeeze()\n",
    "        image_points_noise_3D = image_points_noisy.squeeze()\n",
    "        #print(image_points_noise_3D)\n",
    "        # add noise to 2D points\n",
    "        image_points_noisy = add_noise_to_points(image_points_noise_3D,sigma)\n",
    "        #print(image_points_noisy)\n",
    "        \n",
    "        # try and match noisy 2D to original 3d object points and get transformation\n",
    "        # true\n",
    "        success_true, rotation_vector_true, translation_vector_true = cv2.solvePnP(points.astype('float32'), image_points.astype('float32'), intrinsics, distortion, flags=0 )\n",
    "        # noisy\n",
    "        success, rotation_vector, translation_vector = cv2.solvePnP(noisy_points.astype('float32'), image_points_noisy.astype('float32'), intrinsics, distortion, flags=0 )\n",
    "        \n",
    "        # project cancer 3D point using the found rotations and translations\n",
    "        # true\n",
    "        cancer_projected2D_true, _ = cv2.projectPoints(cancer_point, rotation_vector_true, translation_vector_true, intrinsics, distortion)\n",
    "        cancer_projected2D_true = cancer_projected2D_true.squeeze()\n",
    "        # noisy\n",
    "        cancer_projected2D, _ = cv2.projectPoints(cancer_point, rotation_vector, translation_vector, intrinsics, distortion)\n",
    "        cancer_projected2D = cancer_projected2D.squeeze()\n",
    "\n",
    "        \n",
    "        euclid_dist_px =  (cancer_projected2D_true[0] - cancer_projected2D[0]) \\\n",
    "                     * (cancer_projected2D_true[0] - cancer_projected2D[0]) \\\n",
    "                     + (cancer_projected2D_true[1] - cancer_projected2D[1]) \\\n",
    "                     * (cancer_projected2D_true[1] - cancer_projected2D[1]) \n",
    "        \n",
    "        \n",
    "        #euclid_dist_mm = calculate_euclid_dist()\n",
    "        \n",
    "        rms = rms + euclid_dist_px\n",
    "        \n",
    "    rms = rms / float(number_samples)\n",
    "    rms = np.sqrt(rms)\n",
    "    \n",
    "    if sigma == 0.25:\n",
    "        D3D2_25 = rms\n",
    "        print(f'when adding 3D noise and 2D noise, number of pxls off at sigma {sigma} is {D3D2_25}')\n",
    "    if sigma == 0.12:\n",
    "        D3D2_12 = rms\n",
    "        print(f'when adding 3D noise and 2D noise, number of pxls off at sigma {sigma} is {D3D2_12}')\n",
    "    if sigma == 0.15:\n",
    "        D3D2_15 = rms\n",
    "        print(f'when adding 3D noise and 2D noise, number of pxls off at sigma {sigma} is {D3D2_15}')\n",
    "            \n",
    "    x_values_px_3.append(sigma)\n",
    "    y_values_px_3.append(rms)\n",
    "    \n",
    "plt.plot(x_values_px_3, y_values_px_3, 'r', label='TRE (pxls)')\n",
    "plt.title('error (in pixels) caused by error in 3D point and 2D projection')\n",
    "plt.legend(loc='upper left')\n",
    "plt.xlabel('sigma')\n",
    "plt.ylabel('RMS (Pixels)')\n",
    "plt.show()\n"
   ]
  },
  {
   "cell_type": "code",
   "execution_count": null,
   "metadata": {
    "pycharm": {
     "is_executing": true
    },
    "scrolled": true
   },
   "outputs": [],
   "source": [
    "image_points_noisy"
   ]
  },
  {
   "cell_type": "code",
   "execution_count": null,
   "metadata": {
    "scrolled": true
   },
   "outputs": [],
   "source": [
    "add_noise_to_points(image_points_noisy, 0.5)"
   ]
  },
  {
   "cell_type": "code",
   "execution_count": 30,
   "metadata": {},
   "outputs": [
    {
     "data": {
      "image/png": "[encoded data removed]",
      "text/plain": [
       "<Figure size 432x288 with 1 Axes>"
      ]
     },
     "metadata": {
      "needs_background": "light"
     },
     "output_type": "display_data"
    }
   ],
   "source": [
    "\n",
    "plt.figure()\n",
    "plt.xlabel('sigma')\n",
    "plt.ylabel('TRE (pixels)')\n",
    "plt.title('TRE for different souces of noise on vision-based simulation')\n",
    "\n",
    "\n",
    "plt.plot(x_values_px_1, y_values_px_1, label='2D noise')\n",
    "plt.plot(x_values_px_2, y_values_px_2, label='3D noise')\n",
    "plt.plot(x_values_px_3, y_values_px_3, label='2D & 3D noise')\n",
    "plt.legend()\n",
    "plt.show()"
   ]
  },
  {
   "cell_type": "code",
   "execution_count": null,
   "metadata": {},
   "outputs": [],
   "source": []
  }
 ],
 "metadata": {
  "kernelspec": {
   "display_name": "Python 3.10.4 ('endosim_env')",
   "language": "python",
   "name": "python3"
  },
  "language_info": {
   "codemirror_mode": {
    "name": "ipython",
    "version": 3
   },
   "file_extension": ".py",
   "mimetype": "text/x-python",
   "name": "python",
   "nbconvert_exporter": "python",
   "pygments_lexer": "ipython3",
   "version": "3.8.13"
  },
  "vscode": {
   "interpreter": {
    "hash": "76612cf21b3f7763602e093d763eb30060b87fc85d81bea869bab25f53b57d8d"
   }
  }
 },
 "nbformat": 4,
 "nbformat_minor": 1
}
