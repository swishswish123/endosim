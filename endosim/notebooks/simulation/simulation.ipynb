{
 "cells": [
  {
   "cell_type": "markdown",
   "metadata": {},
   "source": [
    "# Model 1. Accuracy of pointer-based endonasal image-guidance system\n",
    "\n",
    "The current state of the art uses a tracked pointer, registered to a pre-operative MR scan. This notebook explores what the expected level of accuracy might be.\n",
    "\n",
    "\n",
    "\n",
    "\n"
   ]
  },
  {
   "cell_type": "code",
   "execution_count": 1,
   "metadata": {
    "pycharm": {
     "is_executing": true,
     "name": "#%%\n"
    }
   },
   "outputs": [],
   "source": [
    "import copy\n",
    "import numpy as np\n",
    "import cv2\n",
    "import random\n",
    "from scipy.spatial.transform import Rotation as spr\n",
    "from matplotlib import pyplot as plt\n",
    "import sksurgerycore.algorithms.procrustes as pro\n",
    "import sksurgerycore.transforms.matrix as mu\n"
   ]
  },
  {
   "cell_type": "markdown",
   "metadata": {},
   "source": [
    "## Utility functions\n",
    "\n",
    "Here follows some useful utility functions. Scroll down to see the start of the analysis. Ideally these would be in some common library, as pasting utility functions into a Jupyter notebook tends to lead to duplication."
   ]
  },
  {
   "cell_type": "code",
   "execution_count": 2,
   "metadata": {
    "pycharm": {
     "name": "#%%\n"
    }
   },
   "outputs": [],
   "source": [
    "def create_transform(array_of_parameters):\n",
    "    \"\"\"\n",
    "    Returns a homogeneous rigid transformation as 4x4 np.ndarray.\n",
    "    \n",
    "    :param array_of_parameters: list of [tx, ty, tz, rx, ry, rz] where rotations are in degrees.\n",
    "    \"\"\"\n",
    "    rotation = mu.construct_rotm_from_euler(array_of_parameters[3],\n",
    "                                            array_of_parameters[4],\n",
    "                                            array_of_parameters[5],\n",
    "                                            sequence='xyz',\n",
    "                                            is_in_radians=False)\n",
    "    translation = np.zeros((3,1))\n",
    "    translation[0][0] = array_of_parameters[0]\n",
    "    translation[1][0] = array_of_parameters[1]\n",
    "    translation[2][0] = array_of_parameters[2]\n",
    "    \n",
    "    transform = mu.construct_rigid_transformation(rotation, translation)\n",
    "    return transform\n",
    "    \n",
    "def multiply_points_by_matrix(matrix_4x4, matrix_of_points, do_transpose):\n",
    "    \"\"\"\n",
    "    Multiplies all points by the same matrix.\n",
    "    \n",
    "    :param matrix_4x4: Numpy ndarray, 4x4, containing homogenous, rigid transformation\n",
    "    :param matrix_of_points: Numpy ndarray, 4xN, containing N points as 4D homogeneous column vectors.\n",
    "    :param do_transpose: if true, we also transpose\n",
    "    \"\"\"\n",
    "    input_matrix = matrix_of_points\n",
    "    \n",
    "    if do_transpose:\n",
    "        input_matrix = np.transpose(matrix_of_points)\n",
    "        \n",
    "    result = np.matmul(matrix_4x4, input_matrix)\n",
    "    \n",
    "    if do_transpose:\n",
    "        result = np.transpose(result)\n",
    "        \n",
    "    return result\n",
    "\n",
    "def multiply_point_by_matrix(transform, point_as_array):\n",
    "    in_point = np.ones((4, 1))\n",
    "    in_point[0][0] = point_as_array[0]\n",
    "    in_point[1][0] = point_as_array[1]\n",
    "    in_point[2][0] = point_as_array[2]\n",
    "    out_point = np.matmul(transform, in_point)\n",
    "    return out_point\n",
    "    \n",
    "def pointer_to_mri(Cam_T_PntRef, Cam_T_PatRef, PatRef_T_MRI, point_in_pointer_coords=[0, 0, 0]):\n",
    "    \"\"\"\n",
    "    Converts a point in pointer space to MRI space.\n",
    "    \"\"\"\n",
    "    transform = np.linalg.inv(PatRef_T_MRI) @ np.linalg.inv(Cam_T_PatRef) @ Cam_T_PntRef\n",
    "    out_point = multiply_point_by_matrix(transform, point_in_pointer_coords)\n",
    "    return out_point\n",
    "\n",
    "def camera_to_mri(Cam_T_Endo, Cam_T_PatRef, PatRef_T_MRI, Eye_T_Hand, point_in_camera_coords=[0, 0, 0]):\n",
    "    \"\"\"\n",
    "    Converts a point in camera space to MRI space.\n",
    "    \"\"\"\n",
    "    transform = np.linalg.inv(PatRef_T_MRI) @ np.linalg.inv(Cam_T_PatRef) @ Cam_T_Endo @ np.linalg.inv(Eye_T_Hand)\n",
    "    out_point = multiply_point_by_matrix(transform, point_in_camera_coords)\n",
    "    return out_point\n",
    "\n",
    "def mri_to_camera(Cam_T_Endo, Cam_T_PatRef, PatRef_T_MRI, Eye_T_Hand, point_in_mri_coords=[0, 0, 0]):\n",
    "    \"\"\"\n",
    "    Converts a point in camera space to MRI space.\n",
    "    \"\"\"\n",
    "    transform = np.linalg.inv(PatRef_T_MRI) @ np.linalg.inv(Cam_T_PatRef) @ Cam_T_Endo @ np.linalg.inv(Eye_T_Hand)\n",
    "    transform = np.linalg.inv(transform)\n",
    "    out_point = multiply_point_by_matrix(transform, point_in_mri_coords)\n",
    "    return out_point\n",
    "\n",
    "def add_noise_to_points(points_in, sigma):\n",
    "    points_out = np.zeros((points_in.shape))\n",
    "    for r in range(points_in.shape[0]):\n",
    "        for c in range(points_in.shape[1]):\n",
    "            multiplier = 1.0\n",
    "            if c >= 2:\n",
    "                multiplier = 1.0 # for if you want different noise in tracker z-direction\n",
    "            points_out[r][c] = points_in[r][c] + (random.normalvariate(0, sigma) * multiplier)\n",
    "    return points_out\n",
    "\n",
    "def add_noise_to_params(params, sigma):\n",
    "    params_out = copy.deepcopy(params)\n",
    "    for i, p in enumerate(params):\n",
    "        params_out[i] = params[i] + random.normalvariate(0, sigma)\n",
    "    return params_out\n",
    "\n",
    "def extract_rigid_body_parameters(matrix):\n",
    "    t = matrix[0:3, 3]\n",
    "    r = matrix[0:3, 0:3]\n",
    "    rot = spr.from_matrix(r)    \n",
    "    euler = rot.as_euler('zyx', degrees=True)\n",
    "    return [euler[0], euler[1], euler[2], t[0], t[1], t[2]]\n",
    "\n",
    "def rigid_body_parameters_to_matrix(params):\n",
    "    matrix = np.eye(4)\n",
    "    r = (spr.from_euler('zyx', [params[0], params[1], params[2]], degrees=True)).as_matrix()\n",
    "    matrix[0:3, 0:3] = r\n",
    "    matrix[0][3] = params[3]\n",
    "    matrix[1][3] = params[4]\n",
    "    matrix[2][3] = params[5]\n",
    "    return matrix\n",
    "\n",
    "def convert_4x1_to_1x1x3(p_41):\n",
    "    p_113 = np.zeros((1,1,3))\n",
    "    p_113[0][0][0] = p_41[0][0]\n",
    "    p_113[0][0][1] = p_41[1][0]\n",
    "    p_113[0][0][2] = p_41[2][0]\n",
    "    return p_113\n",
    "\n",
    "def project_camera_point_to_image(point, intrinsics, distortion):\n",
    "    rvec = np.zeros((1,3))\n",
    "    tvec = np.zeros((1,3))\n",
    "    image_points, jacobian = cv2.projectPoints(convert_4x1_to_1x1x3(point), rvec, tvec, intrinsics, distortion)\n",
    "    return image_points[0][0] # returns a list\n"
   ]
  },
  {
   "cell_type": "markdown",
   "metadata": {},
   "source": [
    "## System layout\n",
    "\n",
    "The following diagram shows the layout of the navigation system."
   ]
  },
  {
   "cell_type": "markdown",
   "metadata": {},
   "source": [
    "![img](./images/pointer_setup.png)"
   ]
  },
  {
   "cell_type": "markdown",
   "metadata": {},
   "source": [
    "In the above image, we can see the general setup involved in the surgery when using a pointer. The goal is to be able to display the pointer in image coordinates as we can see in the image below:\n",
    "\n",
    "![pointer on MRI](./images/MRI_pointer.png)"
   ]
  },
  {
   "cell_type": "markdown",
   "metadata": {},
   "source": [
    "The goal is therefore turning the pointer's coordinates to MRI coordinates.\n",
    "\n",
    "X<sub>MRI</sub> = T X<sub>PntEnd</sub>\n",
    "\n",
    "where T are the transformations involved in turning from the pointer's point to the MRI coordinates. These transformations are the following:\n",
    "\n",
    "T = <sup>MRI</sup>T<sub>PatRef</sub> * \n",
    "    <sup>PatRef</sup>T<sub>Cam</sub>  * \n",
    "    <sup>Cam</sup>T<sub>PntRef</sub> * \n",
    "    <sup>PntRef</sup>T<sub>endP</sub>\n",
    "    \n",
    "In the following sections we will go step by step on how to go from each of these transforms"
   ]
  },
  {
   "cell_type": "markdown",
   "metadata": {},
   "source": [
    "Here is an image with all the transforms:\n",
    "\n",
    "![pointer setup with transforms](./images/pointer_setup_transforms.png)"
   ]
  },
  {
   "cell_type": "markdown",
   "metadata": {},
   "source": [
    "## Assumptions / setup"
   ]
  },
  {
   "cell_type": "markdown",
   "metadata": {},
   "source": [
    "1. Cancer, patient reference, pointer reference are all aligned in z direction (have same z coordinate) and are facing the camera straight on so that the distance is D\n",
    "\n",
    "2. Patient reference is at a set distance Yc from the cancer but aligned in the X direction\n",
    "\n",
    "3. pointer is touching the cancer, so the pointer and cancer have the same coordinates\n",
    "\n",
    "4. Length of pointer is known\n",
    "\n",
    "5. Angle of pointer is known"
   ]
  },
  {
   "cell_type": "markdown",
   "metadata": {},
   "source": [
    "![pointer assumptions from sagittal view](./images/pointer_setup_assumptions_sagittal.png)\n",
    "![pointer assumptions from transverse view](./images/pointer_setup_assumptions_transverse.png)"
   ]
  },
  {
   "cell_type": "markdown",
   "metadata": {},
   "source": [
    "## Configurable parameters"
   ]
  },
  {
   "cell_type": "code",
   "execution_count": 3,
   "metadata": {
    "pycharm": {
     "name": "#%%\n"
    }
   },
   "outputs": [],
   "source": [
    "# ALL MEASUREMENTS IN MM\n",
    "\n",
    "# P - length from tip of pointer to reference of pointer\n",
    "pointer_length = 100\n",
    "\n",
    "# D - z distance from camera to plane where everything is located\n",
    "distance_from_cam = 1000 # since the camera and patient reference are aligned in the x and y directions, only distance is in z\n",
    "\n",
    "# 0 - angle of pointer\n",
    "pointer_angle = 45\n",
    "\n",
    "# Yc - distances from cancer to patient reference\n",
    "cancer_patref_y = 50  \n",
    "\n",
    "# NDI quotes 0.25mm for Polaris Spectra, some papers estimate it at 0.17mm\n",
    "typical_tracking_sigma = 0.25\n",
    "\n",
    "# For Model 2 and 3, using an endoscope, this determines the distance of a target of interest from the endoscope.\n",
    "working_distance = 50\n",
    "\n",
    "# For Model 2 and 3, the length of the endoscope.\n",
    "length_of_endoscope = 300\n"
   ]
  },
  {
   "cell_type": "markdown",
   "metadata": {},
   "source": [
    "## Creating the reference data for the pointer, in pointer coordinates.\n",
    "\n",
    "Here is an image of the pointer with its reference:\n",
    "\n",
    "![pointer image](./images/pointer_image.png)\n",
    "![pointer image](./images/pointer_geometry.png)\n",
    "\n",
    "In our case, let us assume we already know what the length of the pointer is."
   ]
  },
  {
   "cell_type": "code",
   "execution_count": 4,
   "metadata": {
    "pycharm": {
     "name": "#%%\n"
    },
    "scrolled": true
   },
   "outputs": [
    {
     "name": "stdout",
     "output_type": "stream",
     "text": [
      "pointer length is: 100mm\n"
     ]
    }
   ],
   "source": [
    "print(f'pointer length is: {pointer_length}mm' )"
   ]
  },
  {
   "cell_type": "code",
   "execution_count": 5,
   "metadata": {
    "pycharm": {
     "name": "#%%\n"
    },
    "scrolled": true
   },
   "outputs": [
    {
     "name": "stdout",
     "output_type": "stream",
     "text": [
      "[[  0.   0.   0.   1.]\n",
      " [  0.   0.  50.   1.]\n",
      " [  0.  25. 100.   1.]\n",
      " [  0. -25. 135.   1.]]\n"
     ]
    },
    {
     "data": {
      "image/png": "[encoded data removed]",
      "text/plain": [
       "<Figure size 432x288 with 1 Axes>"
      ]
     },
     "metadata": {
      "needs_background": "light"
     },
     "output_type": "display_data"
    }
   ],
   "source": [
    "# Creating pointer reference (from datasheet). Using homogenous (4 numbers, x,y,z,1) as row vectors.\n",
    "pnt_ref =  np.zeros((4, 4))\n",
    "pnt_ref[0][3] = 1\n",
    "pnt_ref[1][2] = 50\n",
    "pnt_ref[1][3] = 1\n",
    "pnt_ref[2][1] = 25\n",
    "pnt_ref[2][2] = 100\n",
    "pnt_ref[2][3] = 1\n",
    "pnt_ref[3][1] = -25\n",
    "pnt_ref[3][2] = 135\n",
    "pnt_ref[3][3] = 1\n",
    "print(pnt_ref)\n",
    "\n",
    "# Plotting original points, to check it looks ok.\n",
    "plt.figure()\n",
    "plt.plot(pnt_ref[:,1],pnt_ref[:,2], marker='*',linestyle = 'None',)\n",
    "plt.title('markers on pointer in pointer coordinates')\n",
    "plt.xlabel('y')\n",
    "plt.ylabel('z')\n",
    "plt.gca().set_aspect('equal', adjustable='box')\n",
    "\n",
    "plt.show()\n"
   ]
  },
  {
   "cell_type": "code",
   "execution_count": 6,
   "metadata": {
    "pycharm": {
     "name": "#%%\n"
    },
    "scrolled": false
   },
   "outputs": [
    {
     "name": "stdout",
     "output_type": "stream",
     "text": [
      "Original pointer, as per datasheet:\n",
      "[[  0.   0.   0.   1.]\n",
      " [  0.   0.  50.   1.]\n",
      " [  0.  25. 100.   1.]\n",
      " [  0. -25. 135.   1.]]\n",
      "offset_pointer_transform=\n",
      "[[  1.   0.   0.   0.]\n",
      " [  0.   1.   0.   0.]\n",
      " [  0.   0.   1. 100.]\n",
      " [  0.   0.   0.   1.]]\n",
      "pnt_ref_transformed=\n",
      "[[  0.   0. 100.   1.]\n",
      " [  0.   0. 150.   1.]\n",
      " [  0.  25. 200.   1.]\n",
      " [  0. -25. 235.   1.]]\n",
      "pnt_ref_with_tip=\n",
      "[[  0.   0. 100.   1.]\n",
      " [  0.   0. 150.   1.]\n",
      " [  0.  25. 200.   1.]\n",
      " [  0. -25. 235.   1.]\n",
      " [  0.   0.   0.   1.]]\n"
     ]
    },
    {
     "data": {
      "image/png": "[encoded data removed]",
      "text/plain": [
       "<Figure size 432x288 with 1 Axes>"
      ]
     },
     "metadata": {
      "needs_background": "light"
     },
     "output_type": "display_data"
    }
   ],
   "source": [
    "# Here we offset the points by the length of the pointer.\n",
    "offset_pointer_transform = create_transform([0, 0, pointer_length, 0, 0, 0])\n",
    "pnt_ref_transformed = multiply_points_by_matrix(offset_pointer_transform, pnt_ref, do_transpose=True)\n",
    "pnt_ref_with_tip = np.concatenate((pnt_ref_transformed, [[0, 0, 0, 1]]), axis=0)\n",
    "\n",
    "print(\"Original pointer, as per datasheet:\\n\" + str(pnt_ref))\n",
    "print(\"offset_pointer_transform=\\n\" + str(offset_pointer_transform))\n",
    "print(\"pnt_ref_transformed=\\n\" + str(pnt_ref_transformed))\n",
    "print(\"pnt_ref_with_tip=\\n\" + str(pnt_ref_with_tip))\n",
    "\n",
    "plt.figure()\n",
    "plt.plot(pnt_ref_with_tip[:,1],pnt_ref_with_tip[:,2], marker='*',linestyle = 'None',)\n",
    "plt.title('Markers on pointer in pointer coordinates')\n",
    "plt.xlabel('y')\n",
    "plt.ylabel('z')\n",
    "plt.gca().set_aspect('equal', adjustable='box')\n",
    "plt.show()"
   ]
  },
  {
   "cell_type": "markdown",
   "metadata": {},
   "source": [
    "## Creating the reference data for the pointer in camera coordinates"
   ]
  },
  {
   "cell_type": "code",
   "execution_count": 7,
   "metadata": {
    "pycharm": {
     "name": "#%%\n"
    }
   },
   "outputs": [
    {
     "name": "stdout",
     "output_type": "stream",
     "text": [
      "Pointer in camera/tracker space:\n",
      "[[  0.   0.   0.   1.]\n",
      " [ 50.   0.   0.   1.]\n",
      " [100.  25.   0.   1.]\n",
      " [135. -25.   0.   1.]]\n",
      "offset_pointer_transform=\n",
      "[[  1.   0.   0. 100.]\n",
      " [  0.   1.   0.   0.]\n",
      " [  0.   0.   1.   0.]\n",
      " [  0.   0.   0.   1.]]\n",
      "pnt_ref_in_camera_space_transformed=\n",
      "[[100.   0.   0.   1.]\n",
      " [150.   0.   0.   1.]\n",
      " [200.  25.   0.   1.]\n",
      " [235. -25.   0.   1.]]\n",
      "pnt_ref_in_camera_space_with_tip=\n",
      "[[100.   0.   0.   1.]\n",
      " [150.   0.   0.   1.]\n",
      " [200.  25.   0.   1.]\n",
      " [235. -25.   0.   1.]\n",
      " [  0.   0.   0.   1.]]\n",
      "pnt_ref_in_camera_space_at_patient=\n",
      "[[  70.71067812   70.71067812 1000.            1.        ]\n",
      " [ 106.06601718  106.06601718 1000.            1.        ]\n",
      " [ 123.74368671  159.09902577 1000.            1.        ]\n",
      " [ 183.84776311  148.49242405 1000.            1.        ]\n",
      " [   0.            0.         1000.            1.        ]]\n"
     ]
    },
    {
     "data": {
      "image/png": "[encoded data removed]",
      "text/plain": [
       "<Figure size 432x288 with 1 Axes>"
      ]
     },
     "metadata": {
      "needs_background": "light"
     },
     "output_type": "display_data"
    }
   ],
   "source": [
    "pnt_ref_in_camera_space =  np.zeros((4, 4))\n",
    "pnt_ref_in_camera_space[0][3] = 1\n",
    "pnt_ref_in_camera_space[1][0] = 50\n",
    "pnt_ref_in_camera_space[1][3] = 1\n",
    "pnt_ref_in_camera_space[2][0] = 100\n",
    "pnt_ref_in_camera_space[2][1] = 25\n",
    "pnt_ref_in_camera_space[2][3] = 1\n",
    "pnt_ref_in_camera_space[3][0] = 135\n",
    "pnt_ref_in_camera_space[3][1] = -25\n",
    "pnt_ref_in_camera_space[3][3] = 1\n",
    "\n",
    "offset_pointer_transform = create_transform([pointer_length, 0, 0, 0, 0, 0])\n",
    "pnt_ref_in_camera_space_transformed = multiply_points_by_matrix(offset_pointer_transform, pnt_ref_in_camera_space, do_transpose=True)\n",
    "pnt_ref_in_camera_space_with_tip = np.concatenate((pnt_ref_in_camera_space_transformed, [[0, 0, 0, 1]]), axis=0)\n",
    "\n",
    "print(\"Pointer in camera/tracker space:\\n\" + str(pnt_ref_in_camera_space))\n",
    "print(\"offset_pointer_transform=\\n\" + str(offset_pointer_transform))\n",
    "print(\"pnt_ref_in_camera_space_transformed=\\n\" + str(pnt_ref_in_camera_space_transformed))\n",
    "print(\"pnt_ref_in_camera_space_with_tip=\\n\" + str(pnt_ref_in_camera_space_with_tip))\n",
    "\n",
    "# Now we want to rotate around z (according to diagram above), then translate to a distance from camera.\n",
    "rotate_about_z = create_transform([0, 0, 0, 0, 0, pointer_angle]) \n",
    "translate_away_from_camera = create_transform([0, 0, distance_from_cam, 0, 0, 0])\n",
    "pnt_ref_in_camera_space_at_patient = multiply_points_by_matrix(translate_away_from_camera @ rotate_about_z, pnt_ref_in_camera_space_with_tip, do_transpose=True)\n",
    "print(\"pnt_ref_in_camera_space_at_patient=\\n\" + str(pnt_ref_in_camera_space_at_patient))\n",
    "\n",
    "# Plotting result\n",
    "plt.figure()\n",
    "plt.plot(pnt_ref_in_camera_space_at_patient[:,1],pnt_ref_in_camera_space_at_patient[:,0], marker='*',linestyle = 'None',)\n",
    "plt.title('Markers on pointer in camera/tracker coordinates')\n",
    "plt.xlabel('y')\n",
    "plt.ylabel('x')\n",
    "plt.gca().set_aspect('equal', adjustable='box')\n",
    "\n",
    "plt.show()"
   ]
  },
  {
   "cell_type": "markdown",
   "metadata": {},
   "source": [
    "## Computing the Tracking transformation, Cam_T_PntRef.\n",
    "\n",
    "For sanity checking, we should now be able to register the PntRef model (moving) to Cam (fixed) transform."
   ]
  },
  {
   "cell_type": "code",
   "execution_count": 8,
   "metadata": {},
   "outputs": [
    {
     "name": "stdout",
     "output_type": "stream",
     "text": [
      "Cam_T_PntRef_r=\n",
      "[[ 1.38483821e-15 -7.07106781e-01  7.07106781e-01]\n",
      " [-1.62248986e-15  7.07106781e-01  7.07106781e-01]\n",
      " [-1.00000000e+00 -2.11636264e-15  0.00000000e+00]]\n",
      "Cam_T_PntRef_t=\n",
      "[[5.68434189e-14]\n",
      " [2.84217094e-14]\n",
      " [1.00000000e+03]]\n",
      "Cam_T_PntRef_FRE=\n",
      "3.759838749409412e-14\n",
      "Cam_T_PntRef=\n",
      "[[ 1.38483821e-15 -7.07106781e-01  7.07106781e-01  5.68434189e-14]\n",
      " [-1.62248986e-15  7.07106781e-01  7.07106781e-01  2.84217094e-14]\n",
      " [-1.00000000e+00 -2.11636264e-15  0.00000000e+00  1.00000000e+03]\n",
      " [ 0.00000000e+00  0.00000000e+00  0.00000000e+00  1.00000000e+00]]\n"
     ]
    }
   ],
   "source": [
    "Cam_T_PntRef_r, Cam_T_PntRef_t, Cam_T_PntRef_FRE = pro.orthogonal_procrustes(pnt_ref_in_camera_space_at_patient[:,0:3], pnt_ref_with_tip[:,0:3])\n",
    "print(\"Cam_T_PntRef_r=\\n\" + str(Cam_T_PntRef_r))\n",
    "print(\"Cam_T_PntRef_t=\\n\" + str(Cam_T_PntRef_t))\n",
    "print(\"Cam_T_PntRef_FRE=\\n\" + str(Cam_T_PntRef_FRE))\n",
    "\n",
    "# Also, construct a 4x4 tracking transformation. It should look like a rotation and a translation.\n",
    "Cam_T_PntRef = mu.construct_rigid_transformation(Cam_T_PntRef_r, Cam_T_PntRef_t)\n",
    "print(\"Cam_T_PntRef=\\n\" + str(Cam_T_PntRef))\n"
   ]
  },
  {
   "cell_type": "markdown",
   "metadata": {},
   "source": [
    "## Creating reference data for the the Patient Reference\n",
    "\n",
    "![real patient reference](./images/real_pat_ref.png)\n"
   ]
  },
  {
   "cell_type": "markdown",
   "metadata": {},
   "source": [
    "![patient reference coordinates](./images/pointer_patref_marker.png)"
   ]
  },
  {
   "cell_type": "code",
   "execution_count": 9,
   "metadata": {},
   "outputs": [],
   "source": [
    "# Defining reference coordibates in ref coords (from datasheet)\n",
    "#A: x=0.00, y= 0.00, z=0.00 \n",
    "#B: x=0.00, y= 28.59, z=41.02 \n",
    "#C: x=0.00, y= 00.00, z=88.00 \n",
    "#D: x=0.00, y=-44.32, z=40.45\n",
    "    \n",
    "# Encoding the reference marker points into a numpy matrix\n",
    "pat_ref = np.zeros((4, 4))\n",
    "pat_ref[0][3] = 1.0\n",
    "pat_ref[1][1] = 28.59 \n",
    "pat_ref[1][2] = 41.02\n",
    "pat_ref[1][3] = 1.0\n",
    "pat_ref[2][2] = 88 \n",
    "pat_ref[2][3] = 1.0\n",
    "pat_ref[3][1] = -44.32 \n",
    "pat_ref[3][2] = 40.45\n",
    "pat_ref[3][3] = 1.0"
   ]
  },
  {
   "cell_type": "markdown",
   "metadata": {},
   "source": [
    "## Creating the reference data for the patient reference in camera space.\n",
    "\n",
    "- we assume the patient reference centre is at the same level as the cancer and so the x coordinates are the same\n",
    "- the distance in y direction between cancer and reference is known\n",
    "\n",
    "\n",
    "![reminder of patient reference assumptions](./images/pat_ref_assumptions.png)\n",
    "\n",
    "The patient reference model coordinates are in the YZ plane. In camera space, the X direction is vertical, the Z direction goes from the camera to the patient. So, in camera space, lets place these points in the ZY plane. So, all we have to do is swap the Y, Z coordinates, then translate to the patient, then translate along the negative Y axis to match the picture above. \n"
   ]
  },
  {
   "cell_type": "code",
   "execution_count": 10,
   "metadata": {},
   "outputs": [
    {
     "name": "stdout",
     "output_type": "stream",
     "text": [
      "Patient ref, in model coordinates=\n",
      "[[  0.     0.     0.     1.  ]\n",
      " [  0.    28.59  41.02   1.  ]\n",
      " [  0.     0.    88.     1.  ]\n",
      " [  0.   -44.32  40.45   1.  ]]\n",
      "Patient ref, in camera coordinates=\n",
      "[[ 0.00000e+00 -5.00000e+01  1.00000e+03  1.00000e+00]\n",
      " [ 0.00000e+00 -8.98000e+00  1.02859e+03  1.00000e+00]\n",
      " [ 0.00000e+00  3.80000e+01  1.00000e+03  1.00000e+00]\n",
      " [ 0.00000e+00 -9.55000e+00  9.55680e+02  1.00000e+00]]\n"
     ]
    }
   ],
   "source": [
    "# Encoding the reference marker points into a numpy matrix, in camera space.\n",
    "pat_ref_in_camera_space = np.zeros((4, 4))\n",
    "pat_ref_in_camera_space[0][3] = 1.0 \n",
    "pat_ref_in_camera_space[1][1] = 41.02\n",
    "pat_ref_in_camera_space[1][2] = 28.59\n",
    "pat_ref_in_camera_space[1][3] = 1.0\n",
    "pat_ref_in_camera_space[2][1] = 88 \n",
    "pat_ref_in_camera_space[2][3] = 1.0\n",
    "pat_ref_in_camera_space[3][1] = 40.45\n",
    "pat_ref_in_camera_space[3][2] = -44.32 \n",
    "pat_ref_in_camera_space[3][3] = 1.0\n",
    "\n",
    "# Now put it in the right place.\n",
    "translate_along_negative_y = create_transform([0, -cancer_patref_y, 0, 0, 0, 0])\n",
    "pat_ref_in_camera_space_at_patient = multiply_points_by_matrix(translate_along_negative_y @ translate_away_from_camera, pat_ref_in_camera_space, do_transpose=True)\n",
    "\n",
    "print(\"Patient ref, in model coordinates=\\n\" + str(pat_ref))\n",
    "print(\"Patient ref, in camera coordinates=\\n\" + str(pat_ref_in_camera_space_at_patient))\n",
    "\n"
   ]
  },
  {
   "cell_type": "markdown",
   "metadata": {},
   "source": [
    "## Computing the Tracking transformation Cam_T_PntRef"
   ]
  },
  {
   "cell_type": "code",
   "execution_count": 11,
   "metadata": {},
   "outputs": [
    {
     "name": "stdout",
     "output_type": "stream",
     "text": [
      "Cam_T_PatRef_r=\n",
      "[[-1.00000000e+00  0.00000000e+00  0.00000000e+00]\n",
      " [ 0.00000000e+00  3.46944695e-17  1.00000000e+00]\n",
      " [ 0.00000000e+00  1.00000000e+00 -9.02056208e-17]]\n",
      "Cam_T_PatRef_t=\n",
      "[[   0.]\n",
      " [ -50.]\n",
      " [1000.]]\n",
      "Cam_T_PatRef_FRE=\n",
      "7.105427357601002e-15\n",
      "Cam_T_PatRef=\n",
      "[[-1.00000000e+00  0.00000000e+00  0.00000000e+00  0.00000000e+00]\n",
      " [ 0.00000000e+00  3.46944695e-17  1.00000000e+00 -5.00000000e+01]\n",
      " [ 0.00000000e+00  1.00000000e+00 -9.02056208e-17  1.00000000e+03]\n",
      " [ 0.00000000e+00  0.00000000e+00  0.00000000e+00  1.00000000e+00]]\n"
     ]
    }
   ],
   "source": [
    "\n",
    "# As above, compute the tracking transformation.\n",
    "Cam_T_PatRef_r, Cam_T_PatRef_t, Cam_T_PatRef_FRE = pro.orthogonal_procrustes(pat_ref_in_camera_space_at_patient[:,0:3], pat_ref[:,0:3])\n",
    "print(\"Cam_T_PatRef_r=\\n\" + str(Cam_T_PatRef_r))\n",
    "print(\"Cam_T_PatRef_t=\\n\" + str(Cam_T_PatRef_t))\n",
    "print(\"Cam_T_PatRef_FRE=\\n\" + str(Cam_T_PatRef_FRE))\n",
    "\n",
    "# Also, construct a 4x4 tracking transformation. It should look like a translation, with no rotation.\n",
    "Cam_T_PatRef = mu.construct_rigid_transformation(Cam_T_PatRef_r, Cam_T_PatRef_t)\n",
    "print(\"Cam_T_PatRef=\\n\" + str(Cam_T_PatRef))\n"
   ]
  },
  {
   "cell_type": "markdown",
   "metadata": {},
   "source": [
    "## CT to PatRef coordinates"
   ]
  },
  {
   "cell_type": "markdown",
   "metadata": {},
   "source": [
    "In order to convert CT coordinates to patient reference coordinates, we typically would take the pointer and move it over the surface of the patient's head. The software would collect coordinates of the tip of the pointer, and transform them to the patient reference coordinate system. We then use an ICP algorithm to match the two surfaces of the points on the face. This results in PatRef_T_MRI as shown above."
   ]
  },
  {
   "cell_type": "markdown",
   "metadata": {},
   "source": [
    "For the purpose of this simulation, we can just place them at an offset to the patient reference, which has already been placed, somewhere near the patients head.\n",
    "\n",
    "![MRI to camera coordinates](./images/3D_to_cam.png)"
   ]
  },
  {
   "cell_type": "code",
   "execution_count": 12,
   "metadata": {},
   "outputs": [
    {
     "name": "stdout",
     "output_type": "stream",
     "text": [
      "Cam_T_PntRef=\n",
      "[[   1.    0.    0. -100.]\n",
      " [   0.    1.    0. -130.]\n",
      " [   0.    0.    1.  -80.]\n",
      " [   0.    0.    0.    1.]]\n"
     ]
    }
   ],
   "source": [
    "# Average head dimensions from: https://en.wikipedia.org/wiki/Human_head\n",
    "\n",
    "x_t = 100 # head length (about 20cm)\n",
    "y_t = 130 # menton to top of head (about 25cm)\n",
    "z_t = 80 # head breadth (about 15cm)\n",
    "\n",
    "PatRef_T_MRI = create_transform([-x_t, -y_t, -z_t, 0, 0, 0])\n",
    "print(\"Cam_T_PntRef=\\n\" + str(PatRef_T_MRI))"
   ]
  },
  {
   "cell_type": "markdown",
   "metadata": {},
   "source": [
    "# Summary of Reference data.\n",
    "\n",
    "Give this setup:\n",
    "\n",
    "![pointer setup with transforms](./images/pointer_setup_transforms.png)\n",
    "\n",
    "we have now computed"
   ]
  },
  {
   "cell_type": "code",
   "execution_count": 13,
   "metadata": {},
   "outputs": [
    {
     "name": "stdout",
     "output_type": "stream",
     "text": [
      "Summary: Cam_T_PntRef=\n",
      "[[ 1.38483821e-15 -7.07106781e-01  7.07106781e-01  5.68434189e-14]\n",
      " [-1.62248986e-15  7.07106781e-01  7.07106781e-01  2.84217094e-14]\n",
      " [-1.00000000e+00 -2.11636264e-15  0.00000000e+00  1.00000000e+03]\n",
      " [ 0.00000000e+00  0.00000000e+00  0.00000000e+00  1.00000000e+00]]\n",
      "Summary: Cam_T_PatRef=\n",
      "[[-1.00000000e+00  0.00000000e+00  0.00000000e+00  0.00000000e+00]\n",
      " [ 0.00000000e+00  3.46944695e-17  1.00000000e+00 -5.00000000e+01]\n",
      " [ 0.00000000e+00  1.00000000e+00 -9.02056208e-17  1.00000000e+03]\n",
      " [ 0.00000000e+00  0.00000000e+00  0.00000000e+00  1.00000000e+00]]\n",
      "Summary: PatRef_T_MRI=\n",
      "[[   1.    0.    0. -100.]\n",
      " [   0.    1.    0. -130.]\n",
      " [   0.    0.    1.  -80.]\n",
      " [   0.    0.    0.    1.]]\n"
     ]
    }
   ],
   "source": [
    "print(\"Summary: Cam_T_PntRef=\\n\" + str(Cam_T_PntRef))\n",
    "print(\"Summary: Cam_T_PatRef=\\n\" + str(Cam_T_PatRef))\n",
    "print(\"Summary: PatRef_T_MRI=\\n\" + str(PatRef_T_MRI))"
   ]
  },
  {
   "cell_type": "markdown",
   "metadata": {},
   "source": [
    "and dont forget that we constructed the pointer, so that the origin is the tip, and we computed Cam_T_PntRef based on this. So, in the above diagram, PntRef_T_EndP is effectively the identity transformation.\n",
    "\n",
    "In addition, we can just place the tumour at the location given by the pointer tip:\n"
   ]
  },
  {
   "cell_type": "code",
   "execution_count": 14,
   "metadata": {},
   "outputs": [
    {
     "name": "stdout",
     "output_type": "stream",
     "text": [
      "Tumour location in camera space=\n",
      "[[5.68434189e-14]\n",
      " [2.84217094e-14]\n",
      " [1.00000000e+03]\n",
      " [1.00000000e+00]]\n",
      "Tumour location in MRI space=\n",
      "[[100.]\n",
      " [130.]\n",
      " [130.]\n",
      " [  1.]]\n"
     ]
    }
   ],
   "source": [
    "origin = [0, 0, 0]\n",
    "tumour_in_camera_space = multiply_point_by_matrix(Cam_T_PntRef, origin)\n",
    "tumour_in_mri_space = pointer_to_mri(Cam_T_PntRef, Cam_T_PatRef, PatRef_T_MRI, origin)\n",
    "print(\"Tumour location in camera space=\\n\" + str(tumour_in_camera_space))\n",
    "print(\"Tumour location in MRI space=\\n\" + str(tumour_in_mri_space))\n"
   ]
  },
  {
   "cell_type": "markdown",
   "metadata": {},
   "source": [
    "And we have the following reference data from above:"
   ]
  },
  {
   "cell_type": "code",
   "execution_count": 15,
   "metadata": {},
   "outputs": [
    {
     "name": "stdout",
     "output_type": "stream",
     "text": [
      "Pointer model=\n",
      "[[  0.   0. 100.   1.]\n",
      " [  0.   0. 150.   1.]\n",
      " [  0.  25. 200.   1.]\n",
      " [  0. -25. 235.   1.]\n",
      " [  0.   0.   0.   1.]]\n",
      "Pointer model in camera space=\n",
      "[[  70.71067812   70.71067812 1000.            1.        ]\n",
      " [ 106.06601718  106.06601718 1000.            1.        ]\n",
      " [ 123.74368671  159.09902577 1000.            1.        ]\n",
      " [ 183.84776311  148.49242405 1000.            1.        ]\n",
      " [   0.            0.         1000.            1.        ]]\n",
      "Patient ref model=\n",
      "[[  0.     0.     0.     1.  ]\n",
      " [  0.    28.59  41.02   1.  ]\n",
      " [  0.     0.    88.     1.  ]\n",
      " [  0.   -44.32  40.45   1.  ]]\n",
      "Patient ref model in camera space=\n",
      "[[ 0.00000e+00 -5.00000e+01  1.00000e+03  1.00000e+00]\n",
      " [ 0.00000e+00 -8.98000e+00  1.02859e+03  1.00000e+00]\n",
      " [ 0.00000e+00  3.80000e+01  1.00000e+03  1.00000e+00]\n",
      " [ 0.00000e+00 -9.55000e+00  9.55680e+02  1.00000e+00]]\n"
     ]
    }
   ],
   "source": [
    "print(\"Pointer model=\\n\" + str(pnt_ref_with_tip))\n",
    "print(\"Pointer model in camera space=\\n\" + str(pnt_ref_in_camera_space_at_patient))\n",
    "print(\"Patient ref model=\\n\" + str(pat_ref))\n",
    "print(\"Patient ref model in camera space=\\n\" + str(pat_ref_in_camera_space_at_patient))\n"
   ]
  },
  {
   "cell_type": "markdown",
   "metadata": {},
   "source": [
    "which are the 4 sets of points that we computed tracking transformations from, using orthogonal procrustes."
   ]
  },
  {
   "cell_type": "markdown",
   "metadata": {},
   "source": [
    "# Simulation 1: Effect of tracking noise on pointer tip accuracy.\n",
    "\n",
    "Here we add random noise to the location of the tracking markers (pointer and patient ref) and see how far tip position moves relative to the tumour.\n",
    "\n",
    "### Pseudo code\n",
    "\n",
    "* initialise some arrays to store accuracy data, so we can then compute mean/stddev.\n",
    "* for sigma in 0 to 0.5, in steps of 0.05\n",
    "*   for iteration in 1 to 1000.\n",
    "*     add zero mean Gaussian(sigma) noise to each tracking marker. \n",
    "*     recompute transforms.\n",
    "*     recompute position of pointer tip\n",
    "*     measure Euclidean distance in MRI space\n",
    "*   compute RMS error over each iteration\n",
    "* produce graph of RMS (TRE) for each value of sigma\n"
   ]
  },
  {
   "cell_type": "code",
   "execution_count": 16,
   "metadata": {},
   "outputs": [
    {
     "data": {
      "image/png": "[encoded data removed]",
      "text/plain": [
       "<Figure size 432x288 with 1 Axes>"
      ]
     },
     "metadata": {
      "needs_background": "light"
     },
     "output_type": "display_data"
    }
   ],
   "source": [
    "number_samples = 1000\n",
    "x_values = []\n",
    "y_values = []\n",
    "for sigma_counter in range(0, 50, 5):\n",
    "    sigma = float(sigma_counter) / float(100)\n",
    "    rms = 0\n",
    "    for i in range(number_samples):\n",
    "        tmp_pointer = add_noise_to_points(pnt_ref_in_camera_space_at_patient[0:4,0:3], sigma) # Mustn't include pointer tip! \n",
    "        tmp_ref = add_noise_to_points(pat_ref_in_camera_space_at_patient[:,0:3], sigma)\n",
    "        \n",
    "        R, t, FRE = pro.orthogonal_procrustes(tmp_pointer, pnt_ref_with_tip[0:4, 0:3])\n",
    "        tmp_pointer_to_cam = mu.construct_rigid_transformation(R, t)\n",
    "        \n",
    "        R, t, FRE = pro.orthogonal_procrustes(tmp_ref, pat_ref[0:4, 0:3])\n",
    "        tmp_reference_to_cam = mu.construct_rigid_transformation(R, t)\n",
    "        \n",
    "        pointer_tip_in_mri_space = pointer_to_mri(tmp_pointer_to_cam, tmp_reference_to_cam, PatRef_T_MRI, origin)\n",
    "        \n",
    "        euclid_dist =  (pointer_tip_in_mri_space[0] - tumour_in_mri_space[0]) \\\n",
    "                     * (pointer_tip_in_mri_space[0] - tumour_in_mri_space[0]) \\\n",
    "                     + (pointer_tip_in_mri_space[1] - tumour_in_mri_space[1]) \\\n",
    "                     * (pointer_tip_in_mri_space[1] - tumour_in_mri_space[1]) \\\n",
    "                     + (pointer_tip_in_mri_space[2] - tumour_in_mri_space[2]) \\\n",
    "                     * (pointer_tip_in_mri_space[2] - tumour_in_mri_space[2])\n",
    "        \n",
    "        rms = rms + euclid_dist\n",
    "    rms = rms / float(number_samples)\n",
    "    rms = np.sqrt(rms)\n",
    "    x_values.append(sigma)\n",
    "    y_values.append(rms)\n",
    "    \n",
    "plt.plot(x_values, y_values, 'r', label='TRE (mm)')\n",
    "plt.legend(loc='upper left')\n",
    "plt.xlabel('sigma (pixels)')\n",
    "plt.ylabel('TRE (mm)')\n",
    "plt.show()\n",
    "        \n",
    "\n",
    "        \n",
    "        "
   ]
  },
  {
   "cell_type": "markdown",
   "metadata": {},
   "source": [
    "# Variation of pointer length #\n",
    "\n",
    "The way this code is written, the pointer length is used to generate the test data. Also vendors provide a specific pointer. So, in practice we wont be responsible for designing a new pointer. \n",
    "\n",
    "To study the effect of pointer length, just vary the parameter 'pointer_length' above, and re-run the simulation.\n"
   ]
  },
  {
   "cell_type": "markdown",
   "metadata": {},
   "source": [
    "# Simulation 2: Effect of misregistration of pre-op data\n",
    "\n",
    "The total system accuracy will be affected by the PatRef_T_MRI transformation. This is achieved using a point-based-registration (PBR), or an ICP surface-based-registration. However, ultimately, both produce a rigid matrix. If we decompose the PatRef_T_MRI matrix into individual rotations and translations, we can study the effect of registration error, as noise is added to these rotation and translation parameters."
   ]
  },
  {
   "cell_type": "code",
   "execution_count": 17,
   "metadata": {},
   "outputs": [
    {
     "name": "stdout",
     "output_type": "stream",
     "text": [
      "PatRef_T_MRI=\n",
      "[[   1.    0.    0. -100.]\n",
      " [   0.    1.    0. -130.]\n",
      " [   0.    0.    1.  -80.]\n",
      " [   0.    0.    0.    1.]]\n",
      "PatRef_T_MRI_parameters=[0.0, 0.0, 0.0, -100.0, -130.0, -80.0]\n"
     ]
    }
   ],
   "source": [
    "\n",
    "\n",
    "# These are the baseline parameters for the MRI registration (whether thats PBR or SBR)\n",
    "PatRef_T_MRI_parameters = extract_rigid_body_parameters(PatRef_T_MRI)\n",
    "print(\"PatRef_T_MRI=\\n\" + str(PatRef_T_MRI))\n",
    "print(\"PatRef_T_MRI_parameters=\" + str(PatRef_T_MRI_parameters))"
   ]
  },
  {
   "cell_type": "code",
   "execution_count": 18,
   "metadata": {},
   "outputs": [
    {
     "data": {
      "image/png": "[encoded data removed]",
      "text/plain": [
       "<Figure size 432x288 with 1 Axes>"
      ]
     },
     "metadata": {
      "needs_background": "light"
     },
     "output_type": "display_data"
    }
   ],
   "source": [
    "number_samples = 1000\n",
    "x_values = []\n",
    "y_values = []\n",
    "for sigma_counter in range(0, 10, 1):\n",
    "    sigma = float(sigma_counter) / float(10)\n",
    "    rms = 0\n",
    "    for i in range(number_samples):\n",
    "        \n",
    "        # Here we add tracking noise to the pointer and reference.\n",
    "        tmp_pointer = add_noise_to_points(pnt_ref_in_camera_space_at_patient[0:4,0:3], typical_tracking_sigma) # Mustn't include pointer tip! \n",
    "        tmp_ref = add_noise_to_points(pat_ref_in_camera_space_at_patient[:,0:3], typical_tracking_sigma)\n",
    "        \n",
    "        # Here we add noise onto the PatRef_T_MRI_parameters, and reconstruct a new registration\n",
    "        tmp_params = add_noise_to_params(PatRef_T_MRI_parameters, sigma)\n",
    "        tmp_mri_to_patref = rigid_body_parameters_to_matrix(tmp_params)\n",
    "        \n",
    "        R, t, FRE = pro.orthogonal_procrustes(tmp_pointer, pnt_ref_with_tip[0:4, 0:3])\n",
    "        tmp_pointer_to_cam = mu.construct_rigid_transformation(R, t)\n",
    "        \n",
    "        R, t, FRE = pro.orthogonal_procrustes(tmp_ref, pat_ref[0:4, 0:3])\n",
    "        tmp_reference_to_cam = mu.construct_rigid_transformation(R, t)\n",
    "        \n",
    "        pointer_tip_in_mri_space = pointer_to_mri(tmp_pointer_to_cam, tmp_reference_to_cam, tmp_mri_to_patref, origin)\n",
    "        \n",
    "        euclid_dist =  (pointer_tip_in_mri_space[0] - tumour_in_mri_space[0]) \\\n",
    "                     * (pointer_tip_in_mri_space[0] - tumour_in_mri_space[0]) \\\n",
    "                     + (pointer_tip_in_mri_space[1] - tumour_in_mri_space[1]) \\\n",
    "                     * (pointer_tip_in_mri_space[1] - tumour_in_mri_space[1]) \\\n",
    "                     + (pointer_tip_in_mri_space[2] - tumour_in_mri_space[2]) \\\n",
    "                     * (pointer_tip_in_mri_space[2] - tumour_in_mri_space[2])\n",
    "        \n",
    "        rms = rms + euclid_dist\n",
    "    rms = rms / float(number_samples)\n",
    "    rms = np.sqrt(rms)\n",
    "    x_values.append(sigma)\n",
    "    y_values.append(rms)\n",
    "    \n",
    "plt.plot(x_values, y_values, 'r', label='TRE (mm)')\n",
    "plt.legend(loc='upper left')\n",
    "plt.xlabel('sigma (rotations(degrees)/translations(mm))')\n",
    "plt.ylabel('TRE (mm)')\n",
    "plt.show()\n",
    "        \n"
   ]
  },
  {
   "cell_type": "markdown",
   "metadata": {},
   "source": [
    "# Summary of Model 1\n",
    "\n",
    "Experiment 1 shows that for a pointer of length X, we would expect the tracking error, when transformed into MRI/CT space to be of the order of Y.\n",
    "\n",
    "This paper here: http://dx.doi.org/10.1118/1.4898103 suggests to me that errors in translation and rotation for a surface based registration might be of the order of 0.5-1.0 mm or degrees. \n",
    "\n",
    "Combining the two, with a tracking sigma of 0.25mm, and expecting rotations and translation errors of between 0.5 and 1.0mm or degress, we would expect total system error to be between 2.5 and 5mm. \n"
   ]
  },
  {
   "cell_type": "markdown",
   "metadata": {},
   "source": [
    "# Model 2: Accuracy of AR using tracked endoscope\n",
    "\n",
    "In Model 1, we studied the accuracy of measuring a point in 3D space, using a tracked pointer, and converting that to a point in the MR/CT scan, via registration.\n",
    "\n",
    "In Model 2, we want to study the accuracy of a tracked endoscope, and what the expected accuracy of an overlay will be. The overlay accuracy, could be measured in terms of accuracy in 3D in the endoscope camera frame, or in terms of 2D pixel accuracy.\n",
    "\n",
    "In order to make this a like-for-like comparison, we should keep most of the reference data identical. The difference now, is we swap a pointer for a laparoscope. We will need an additional hand-eye calibration, and reference data to project from camera space onto image space, but we leave all other data the same. \n",
    "\n",
    "## Recap of Reference Data so far"
   ]
  },
  {
   "cell_type": "code",
   "execution_count": 19,
   "metadata": {},
   "outputs": [
    {
     "name": "stdout",
     "output_type": "stream",
     "text": [
      "endoscope_markers_in_camera_space=\n",
      "[[  70.71067812   70.71067812 1000.        ]\n",
      " [ 106.06601718  106.06601718 1000.        ]\n",
      " [ 123.74368671  159.09902577 1000.        ]\n",
      " [ 183.84776311  148.49242405 1000.        ]]\n",
      "endoscope_markers_in_marker_space=\n",
      "[[  0.   0. 100.]\n",
      " [  0.   0. 150.]\n",
      " [  0.  25. 200.]\n",
      " [  0. -25. 235.]]\n",
      "Cam_T_Endo_r=\n",
      "[[ 1.59218830e-16 -7.07106781e-01  7.07106781e-01]\n",
      " [-1.92482452e-16  7.07106781e-01  7.07106781e-01]\n",
      " [-1.00000000e+00 -2.77555756e-16  0.00000000e+00]]\n",
      "Cam_T_Endo_t=\n",
      "[[2.84217094e-14]\n",
      " [0.00000000e+00]\n",
      " [1.00000000e+03]]\n",
      "Cam_T_Endo_FRE=\n",
      "1.2306961192854808e-14\n",
      "Cam_T_Endo=\n",
      "[[ 1.59218830e-16 -7.07106781e-01  7.07106781e-01  2.84217094e-14]\n",
      " [-1.92482452e-16  7.07106781e-01  7.07106781e-01  0.00000000e+00]\n",
      " [-1.00000000e+00 -2.77555756e-16  0.00000000e+00  1.00000000e+03]\n",
      " [ 0.00000000e+00  0.00000000e+00  0.00000000e+00  1.00000000e+00]]\n",
      "Patient ref model=\n",
      "[[  0.     0.     0.     1.  ]\n",
      " [  0.    28.59  41.02   1.  ]\n",
      " [  0.     0.    88.     1.  ]\n",
      " [  0.   -44.32  40.45   1.  ]]\n",
      "Patient ref model in camera space=\n",
      "[[ 0.00000e+00 -5.00000e+01  1.00000e+03  1.00000e+00]\n",
      " [ 0.00000e+00 -8.98000e+00  1.02859e+03  1.00000e+00]\n",
      " [ 0.00000e+00  3.80000e+01  1.00000e+03  1.00000e+00]\n",
      " [ 0.00000e+00 -9.55000e+00  9.55680e+02  1.00000e+00]]\n",
      "Cam_T_PatRef_r=\n",
      "[[-1.00000000e+00  0.00000000e+00  0.00000000e+00]\n",
      " [ 0.00000000e+00  3.46944695e-17  1.00000000e+00]\n",
      " [ 0.00000000e+00  1.00000000e+00 -9.02056208e-17]]\n",
      "Cam_T_PatRef_t=\n",
      "[[   0.]\n",
      " [ -50.]\n",
      " [1000.]]\n",
      "Cam_T_PatRef_FRE=\n",
      "7.105427357601002e-15\n",
      "Cam_T_PatRef=\n",
      "[[-1.00000000e+00  0.00000000e+00  0.00000000e+00  0.00000000e+00]\n",
      " [ 0.00000000e+00  3.46944695e-17  1.00000000e+00 -5.00000000e+01]\n",
      " [ 0.00000000e+00  1.00000000e+00 -9.02056208e-17  1.00000000e+03]\n",
      " [ 0.00000000e+00  0.00000000e+00  0.00000000e+00  1.00000000e+00]]\n",
      "PatRef_T_MRI=\n",
      "[[   1.    0.    0. -100.]\n",
      " [   0.    1.    0. -130.]\n",
      " [   0.    0.    1.  -80.]\n",
      " [   0.    0.    0.    1.]]\n",
      "PatRef_T_MRI_parameters=[0.0, 0.0, 0.0, -100.0, -130.0, -80.0]\n"
     ]
    }
   ],
   "source": [
    "# Endoscope tracking\n",
    "endoscope_markers_in_camera_space = pnt_ref_in_camera_space_at_patient[0:4,0:3]\n",
    "endoscope_markers_in_marker_space = pnt_ref_with_tip[0:4,0:3]\n",
    "\n",
    "print(\"endoscope_markers_in_camera_space=\\n\" + str(endoscope_markers_in_camera_space))\n",
    "print(\"endoscope_markers_in_marker_space=\\n\" + str(endoscope_markers_in_marker_space))\n",
    "\n",
    "Cam_T_Endo_r, Cam_T_Endo_t, Cam_T_Endo_FRE = pro.orthogonal_procrustes(endoscope_markers_in_camera_space, endoscope_markers_in_marker_space)\n",
    "print(\"Cam_T_Endo_r=\\n\" + str(Cam_T_Endo_r))\n",
    "print(\"Cam_T_Endo_t=\\n\" + str(Cam_T_Endo_t))\n",
    "print(\"Cam_T_Endo_FRE=\\n\" + str(Cam_T_Endo_FRE))\n",
    "\n",
    "Cam_T_Endo = mu.construct_rigid_transformation(Cam_T_Endo_r, Cam_T_Endo_t)\n",
    "print(\"Cam_T_Endo=\\n\" + str(Cam_T_Endo))\n",
    "\n",
    "# Patient ref tracking\n",
    "print(\"Patient ref model=\\n\" + str(pat_ref))\n",
    "print(\"Patient ref model in camera space=\\n\" + str(pat_ref_in_camera_space_at_patient))\n",
    "print(\"Cam_T_PatRef_r=\\n\" + str(Cam_T_PatRef_r))\n",
    "print(\"Cam_T_PatRef_t=\\n\" + str(Cam_T_PatRef_t))\n",
    "print(\"Cam_T_PatRef_FRE=\\n\" + str(Cam_T_PatRef_FRE))\n",
    "print(\"Cam_T_PatRef=\\n\" + str(Cam_T_PatRef))\n",
    "\n",
    "# MRI to PatRef transform and parameters\n",
    "print(\"PatRef_T_MRI=\\n\" + str(PatRef_T_MRI))\n",
    "print(\"PatRef_T_MRI_parameters=\" + str(PatRef_T_MRI_parameters))\n"
   ]
  },
  {
   "cell_type": "markdown",
   "metadata": {},
   "source": [
    "## Laparoscope specific parameters\n",
    "\n",
    "Previously the length of the pointer was specified in the variable: pointer_length, typically about 100mm.\n",
    "\n",
    "(To Do, actually measure the medtronic one).\n",
    "\n",
    "We need a function to create a hand-eye transformation, between the tracking marker on the laparoscope, and the camera coordinate system.\n"
   ]
  },
  {
   "cell_type": "code",
   "execution_count": 20,
   "metadata": {},
   "outputs": [],
   "source": [
    "def create_hand_eye(length_of_endoscope):\n",
    "    transform = np.eye(4)\n",
    "    transform[2][3] = -(pointer_length - length_of_endoscope)\n",
    "    return transform"
   ]
  },
  {
   "cell_type": "markdown",
   "metadata": {},
   "source": [
    "### Check hand-eye is working\n",
    "\n",
    "If you look at the above coordinates in the variable endoscope_markers_in_marker_space, then the tracking ball nearest the tip has a +ve z coordinate of 100. If we move towards the pointer/laparoscope tip, you'd expect the z-coordinate to decrease. Furthermore, if we imagine that the laparoscope is 30cm/300mm long, then a point that is 300mm from the tracking ball would have z-coordinate -200. So, if we multiple [0, 0, -200] by hand-eye (i.e. the marker-to-camera transformation, we would expect the [0, 0, -200] to be mapped to [0, 0, 0], i.e the centre of projection of the laparoscope. "
   ]
  },
  {
   "cell_type": "code",
   "execution_count": 21,
   "metadata": {},
   "outputs": [
    {
     "name": "stdout",
     "output_type": "stream",
     "text": [
      "Input=[[   0.]\n",
      " [   0.]\n",
      " [-200.]\n",
      " [   1.]]\n",
      "Transform=[[  1.   0.   0.   0.]\n",
      " [  0.   1.   0.   0.]\n",
      " [  0.   0.   1. 200.]\n",
      " [  0.   0.   0.   1.]]\n",
      "Output=[[0.]\n",
      " [0.]\n",
      " [0.]\n",
      " [1.]]\n"
     ]
    }
   ],
   "source": [
    "\n",
    "\n",
    "cop_in_laparascope_marker_space=np.zeros((4,1))\n",
    "cop_in_laparascope_marker_space[2][0] = -200\n",
    "cop_in_laparascope_marker_space[3][0] = 1\n",
    "hand_eye = create_hand_eye(length_of_endoscope)\n",
    "cop_in_camera_space = multiply_point_by_matrix(hand_eye, cop_in_laparascope_marker_space)\n",
    "print(\"Input=\" + str(cop_in_laparascope_marker_space))\n",
    "print(\"Transform=\" + str(hand_eye))\n",
    "print(\"Output=\" + str(cop_in_camera_space))"
   ]
  },
  {
   "cell_type": "markdown",
   "metadata": {},
   "source": [
    "## Target Point in Camera and MRI space\n",
    "\n",
    "Imagine that the working distance of the endoscope is about 5cm? (ToDo, check this for something realistic). Then we need to know the location of the target point in camera, and world space."
   ]
  },
  {
   "cell_type": "code",
   "execution_count": 22,
   "metadata": {},
   "outputs": [
    {
     "name": "stdout",
     "output_type": "stream",
     "text": [
      "Target in camera space=[[ 0.]\n",
      " [ 0.]\n",
      " [50.]\n",
      " [ 1.]]\n",
      "Target in MRI space=[[206.06601718]\n",
      " [130.        ]\n",
      " [ 23.93398282]\n",
      " [  1.        ]]\n"
     ]
    }
   ],
   "source": [
    "\n",
    "\n",
    "target_location_in_camera_space = np.zeros((4,1))\n",
    "target_location_in_camera_space[2][0] = working_distance\n",
    "target_location_in_camera_space[3][0] = 1\n",
    "\n",
    "target_location_in_mri_space = camera_to_mri(Cam_T_Endo, Cam_T_PatRef, PatRef_T_MRI, hand_eye, target_location_in_camera_space)\n",
    "\n",
    "print(\"Target in camera space=\" + str(target_location_in_camera_space))\n",
    "print(\"Target in MRI space=\" + str(target_location_in_mri_space))\n"
   ]
  },
  {
   "cell_type": "markdown",
   "metadata": {},
   "source": [
    "We now have a laparoscope system set up. Let's simulate what the effect of tracker noise is on 3D and 2D overlay accuracy, and also registration errors (mm/degrees), on both 3D and 2D overlay accuracy. "
   ]
  },
  {
   "cell_type": "markdown",
   "metadata": {},
   "source": [
    "# Simulation 3: Effect of Tracker Noise on Endoscope System"
   ]
  },
  {
   "cell_type": "code",
   "execution_count": 23,
   "metadata": {},
   "outputs": [
    {
     "data": {
      "image/png": "[encoded data removed]",
      "text/plain": [
       "<Figure size 432x288 with 1 Axes>"
      ]
     },
     "metadata": {
      "needs_background": "light"
     },
     "output_type": "display_data"
    }
   ],
   "source": [
    "number_samples = 1000\n",
    "x_values = []\n",
    "y_values = []\n",
    "for sigma_counter in range(0, 10, 1):\n",
    "    sigma = float(sigma_counter) / float(10)\n",
    "    rms = 0\n",
    "    for i in range(number_samples):\n",
    "        \n",
    "        # Here we add tracking noise to the endoscope and reference.\n",
    "        tmp_endoscope = add_noise_to_points(endoscope_markers_in_camera_space, sigma) # Mustn't include pointer tip! \n",
    "        tmp_ref = add_noise_to_points(pat_ref_in_camera_space_at_patient[:,0:3], sigma)\n",
    "        \n",
    "        R, t, FRE = pro.orthogonal_procrustes(tmp_endoscope, endoscope_markers_in_marker_space)\n",
    "        tmp_endoscope_to_cam = mu.construct_rigid_transformation(R, t)\n",
    "        \n",
    "        R, t, FRE = pro.orthogonal_procrustes(tmp_ref, pat_ref[0:4, 0:3])\n",
    "        tmp_reference_to_cam = mu.construct_rigid_transformation(R, t)\n",
    "        \n",
    "        transformed_point = camera_to_mri(tmp_endoscope_to_cam, tmp_reference_to_cam, PatRef_T_MRI, hand_eye, target_location_in_camera_space)\n",
    "        \n",
    "        euclid_dist =  (transformed_point[0] - target_location_in_mri_space[0]) \\\n",
    "                     * (transformed_point[0] - target_location_in_mri_space[0]) \\\n",
    "                     + (transformed_point[1] - target_location_in_mri_space[1]) \\\n",
    "                     * (transformed_point[1] - target_location_in_mri_space[1]) \\\n",
    "                     + (transformed_point[2] - target_location_in_mri_space[2]) \\\n",
    "                     * (transformed_point[2] - target_location_in_mri_space[2])\n",
    "        \n",
    "        rms = rms + euclid_dist\n",
    "    rms = rms / float(number_samples)\n",
    "    rms = np.sqrt(rms)\n",
    "    x_values.append(sigma)\n",
    "    y_values.append(rms)\n",
    "    \n",
    "plt.plot(x_values, y_values, 'r', label='TRE (mm)')\n",
    "plt.legend(loc='upper left')\n",
    "plt.xlabel('sigma ')\n",
    "plt.ylabel('TRE (mm)')\n",
    "plt.show()\n",
    "        \n"
   ]
  },
  {
   "cell_type": "markdown",
   "metadata": {},
   "source": [
    "# Simulation 4: Tracking error + Registration error for Endoscope System\n",
    "\n",
    "As above, we'd like to simulate the effects of registration error, as well as tracking error.\n"
   ]
  },
  {
   "cell_type": "code",
   "execution_count": 24,
   "metadata": {},
   "outputs": [
    {
     "data": {
      "image/png": "[encoded data removed]",
      "text/plain": [
       "<Figure size 432x288 with 1 Axes>"
      ]
     },
     "metadata": {
      "needs_background": "light"
     },
     "output_type": "display_data"
    }
   ],
   "source": [
    "number_samples = 1000\n",
    "x_values = []\n",
    "y_values = []\n",
    "for sigma_counter in range(0, 10, 1):\n",
    "    sigma = float(sigma_counter) / float(10)\n",
    "    rms = 0\n",
    "    for i in range(number_samples):\n",
    "        \n",
    "        # Here we add tracking noise to the pointer and reference.\n",
    "        tmp_endoscope = add_noise_to_points(endoscope_markers_in_camera_space, typical_tracking_sigma) # Mustn't include pointer tip! \n",
    "        tmp_ref = add_noise_to_points(pat_ref_in_camera_space_at_patient[:,0:3], typical_tracking_sigma)\n",
    "        \n",
    "        # Here we add noise onto the PatRef_T_MRI_parameters, and reconstruct a new registration\n",
    "        tmp_params = add_noise_to_params(PatRef_T_MRI_parameters, sigma)\n",
    "        tmp_mri_to_patref = rigid_body_parameters_to_matrix(tmp_params)\n",
    "        \n",
    "        R, t, FRE = pro.orthogonal_procrustes(tmp_endoscope, endoscope_markers_in_marker_space)\n",
    "        tmp_endoscope_to_cam = mu.construct_rigid_transformation(R, t)\n",
    "        \n",
    "        R, t, FRE = pro.orthogonal_procrustes(tmp_ref, pat_ref[0:4, 0:3])\n",
    "        tmp_reference_to_cam = mu.construct_rigid_transformation(R, t)\n",
    "        \n",
    "        transformed_point = camera_to_mri(tmp_endoscope_to_cam, tmp_reference_to_cam, tmp_mri_to_patref, hand_eye, target_location_in_camera_space)\n",
    "        \n",
    "        euclid_dist =  (transformed_point[0] - target_location_in_mri_space[0]) \\\n",
    "                     * (transformed_point[0] - target_location_in_mri_space[0]) \\\n",
    "                     + (transformed_point[1] - target_location_in_mri_space[1]) \\\n",
    "                     * (transformed_point[1] - target_location_in_mri_space[1]) \\\n",
    "                     + (transformed_point[2] - target_location_in_mri_space[2]) \\\n",
    "                     * (transformed_point[2] - target_location_in_mri_space[2])\n",
    "        \n",
    "        rms = rms + euclid_dist\n",
    "    rms = rms / float(number_samples)\n",
    "    rms = np.sqrt(rms)\n",
    "    x_values.append(sigma)\n",
    "    y_values.append(rms)\n",
    "    \n",
    "plt.plot(x_values, y_values, 'r', label='TRE (mm)')\n",
    "plt.legend(loc='upper left')\n",
    "plt.xlabel('sigma (rotations(degrees)/translations(mm))')\n",
    "plt.ylabel('TRE (mm)')\n",
    "plt.show()\n",
    "     "
   ]
  },
  {
   "cell_type": "markdown",
   "metadata": {},
   "source": [
    "# Simulation 5: Effect of Hand-Eye and Tracking Error in Endoscope System\n",
    "\n",
    "In addition to above, what if we vary hand-eye, is this better/worse, meaning less/more important to get right than the registration?\n",
    "\n",
    "Matt: The problem with this experiment, is we don't yet know how variable a typical hand-eye calibration is. Imagine the scenario where 10 different members of staff, did 10 different calibrations, and we looked at the standard-deviation (sigma) of the rotation parameters, and translation parameters. Would they be within the range of sigma of 0-1? If they are much worse, then the numbers below will need adjusting."
   ]
  },
  {
   "cell_type": "code",
   "execution_count": 25,
   "metadata": {},
   "outputs": [
    {
     "data": {
      "image/png": "[encoded data removed]",
      "text/plain": [
       "<Figure size 432x288 with 1 Axes>"
      ]
     },
     "metadata": {
      "needs_background": "light"
     },
     "output_type": "display_data"
    }
   ],
   "source": [
    "Hand_T_Eye_parameters = extract_rigid_body_parameters(hand_eye)\n",
    "\n",
    "number_samples = 1000\n",
    "x_values = []\n",
    "y_values = []\n",
    "for sigma_counter in range(0, 10, 1):\n",
    "    sigma = float(sigma_counter) / float(10)\n",
    "    rms = 0\n",
    "    for i in range(number_samples):\n",
    "        \n",
    "        # Here we add tracking noise to the pointer and reference.\n",
    "        tmp_endoscope = add_noise_to_points(endoscope_markers_in_camera_space, typical_tracking_sigma) # Mustn't include pointer tip! \n",
    "        tmp_ref = add_noise_to_points(pat_ref_in_camera_space_at_patient[:,0:3], typical_tracking_sigma)\n",
    "        \n",
    "        # Here we add noise onto the PatRef_T_MRI_parameters, and reconstruct a new registration\n",
    "        tmp_hand_eye_params = add_noise_to_params(Hand_T_Eye_parameters, sigma)\n",
    "        tmp_hand_eye = rigid_body_parameters_to_matrix(tmp_hand_eye_params)\n",
    "        \n",
    "        R, t, FRE = pro.orthogonal_procrustes(tmp_endoscope, endoscope_markers_in_marker_space)\n",
    "        tmp_endoscope_to_cam = mu.construct_rigid_transformation(R, t)\n",
    "        \n",
    "        R, t, FRE = pro.orthogonal_procrustes(tmp_ref, pat_ref[0:4, 0:3])\n",
    "        tmp_reference_to_cam = mu.construct_rigid_transformation(R, t)\n",
    "        \n",
    "        transformed_point = camera_to_mri(tmp_endoscope_to_cam, tmp_reference_to_cam, PatRef_T_MRI, tmp_hand_eye, target_location_in_camera_space)\n",
    "        \n",
    "        euclid_dist =  (transformed_point[0] - target_location_in_mri_space[0]) \\\n",
    "                     * (transformed_point[0] - target_location_in_mri_space[0]) \\\n",
    "                     + (transformed_point[1] - target_location_in_mri_space[1]) \\\n",
    "                     * (transformed_point[1] - target_location_in_mri_space[1]) \\\n",
    "                     + (transformed_point[2] - target_location_in_mri_space[2]) \\\n",
    "                     * (transformed_point[2] - target_location_in_mri_space[2])\n",
    "        \n",
    "        rms = rms + euclid_dist\n",
    "    rms = rms / float(number_samples)\n",
    "    rms = np.sqrt(rms)\n",
    "    x_values.append(sigma)\n",
    "    y_values.append(rms)\n",
    "    \n",
    "plt.plot(x_values, y_values, 'r', label='TRE (mm)')\n",
    "plt.legend(loc='upper left')\n",
    "plt.xlabel('sigma (rotations(degrees)/translations(mm))')\n",
    "plt.ylabel('TRE (mm)')\n",
    "plt.show()\n",
    "     "
   ]
  },
  {
   "cell_type": "markdown",
   "metadata": {},
   "source": [
    "# Simulation 6: In AR How Many Pixels Off?\n",
    "\n",
    "The above simulations simply measure the true 3D distance in MRI space. So, given tracking errors, and either hand-eye or registration errors, how far off would we be if we mapped back to MRI space. (Similarly we could run the application the other way round, and express this in camera space, but the error would be the same).\n",
    "\n",
    "But, given that the field of view is so, small, how many pixels would this amount to? Most endoscopes run on 1920x1080p Full HD, on a reasonable monitor. So, how many pixels off are we?\n",
    "\n",
    "In the simulation below, we will assume we are dealing with a perfect hand-eye calibration, and repeat the experiment that investigated errors in registration, but this time, projecting to the image coordinates, and measuring the distance in pixels. If subsequent lab experiments show that hand-eye is more critical, then the experiment below can be repeated, but varying the hand-eye instead of the registration."
   ]
  },
  {
   "cell_type": "code",
   "execution_count": 26,
   "metadata": {},
   "outputs": [
    {
     "name": "stdout",
     "output_type": "stream",
     "text": [
      "Intrinsics are:[[1.62188148e+03 0.00000000e+00 7.97383573e+02]\n",
      " [0.00000000e+00 1.62275557e+03 5.76112074e+02]\n",
      " [0.00000000e+00 0.00000000e+00 1.00000000e+00]]\n",
      "Distortion coefficients are:[-0.430378  0.242636 -0.003683  0.001973 -0.082406]\n",
      "target_location_in_image_coordinates=[797.383573 576.112074]\n"
     ]
    }
   ],
   "source": [
    "# Camera calibration\n",
    "intrinsics = np.loadtxt('calibration/intrinsics.txt')\n",
    "distortion = np.loadtxt('calibration/distortion.txt')\n",
    "\n",
    "print(\"Intrinsics are:\" + str(intrinsics))\n",
    "print(\"Distortion coefficients are:\" + str(distortion))\n",
    "\n",
    "# Need to project target point to image plane. Incidentally, the target point \n",
    "# was straight along the optical axis, so should project to the middle of the image.\n",
    "target_location_in_image_coordinates = project_camera_point_to_image(target_location_in_camera_space, intrinsics, distortion)\n",
    "print(\"target_location_in_image_coordinates=\" + str(target_location_in_image_coordinates))"
   ]
  },
  {
   "cell_type": "code",
   "execution_count": 27,
   "metadata": {},
   "outputs": [
    {
     "data": {
      "image/png": "[encoded data removed]",
      "text/plain": [
       "<Figure size 432x288 with 1 Axes>"
      ]
     },
     "metadata": {
      "needs_background": "light"
     },
     "output_type": "display_data"
    }
   ],
   "source": [
    "number_samples = 1000\n",
    "x_values = []\n",
    "y_values = []\n",
    "for sigma_counter in range(0, 10, 1):\n",
    "    sigma = float(sigma_counter) / float(10)\n",
    "    rms = 0\n",
    "    for i in range(number_samples):\n",
    "        \n",
    "        # Here we add tracking noise to the pointer and reference.\n",
    "        tmp_endoscope = add_noise_to_points(endoscope_markers_in_camera_space, typical_tracking_sigma) # Mustn't include pointer tip! \n",
    "        tmp_ref = add_noise_to_points(pat_ref_in_camera_space_at_patient[:,0:3], typical_tracking_sigma)\n",
    "        \n",
    "        # Here we add noise onto the PatRef_T_MRI_parameters, and reconstruct a new registration\n",
    "        tmp_params = add_noise_to_params(PatRef_T_MRI_parameters, sigma)\n",
    "        tmp_mri_to_patref = rigid_body_parameters_to_matrix(tmp_params)\n",
    "        \n",
    "        R, t, FRE = pro.orthogonal_procrustes(tmp_endoscope, endoscope_markers_in_marker_space)\n",
    "        tmp_endoscope_to_cam = mu.construct_rigid_transformation(R, t)\n",
    "        \n",
    "        R, t, FRE = pro.orthogonal_procrustes(tmp_ref, pat_ref[0:4, 0:3])\n",
    "        tmp_reference_to_cam = mu.construct_rigid_transformation(R, t)\n",
    "        \n",
    "        transformed_point_in_camera_space = mri_to_camera(tmp_endoscope_to_cam, tmp_reference_to_cam, tmp_mri_to_patref, hand_eye, target_location_in_mri_space)\n",
    "        transformed_point_in_image_space = project_camera_point_to_image(transformed_point_in_camera_space, intrinsics, distortion)\n",
    "\n",
    "        euclid_dist =  (transformed_point_in_image_space[0] - target_location_in_image_coordinates[0]) \\\n",
    "                     * (transformed_point_in_image_space[0] - target_location_in_image_coordinates[0]) \\\n",
    "                     + (transformed_point_in_image_space[1] - target_location_in_image_coordinates[1]) \\\n",
    "                     * (transformed_point_in_image_space[1] - target_location_in_image_coordinates[1]) \n",
    "        \n",
    "        rms = rms + euclid_dist\n",
    "    rms = rms / float(number_samples)\n",
    "    rms = np.sqrt(rms)\n",
    "    x_values.append(sigma)\n",
    "    y_values.append(rms)\n",
    "    \n",
    "plt.plot(x_values, y_values, 'r', label='TRE (mm)')\n",
    "plt.legend(loc='upper left')\n",
    "plt.xlabel('sigma (rotations(degrees)/translations(mm))')\n",
    "plt.ylabel('RMS (Pixels)')\n",
    "plt.show()\n"
   ]
  },
  {
   "cell_type": "markdown",
   "metadata": {},
   "source": [
    "# Summary of Model 2\n",
    "\n",
    "It's interesting to compare 3D errors, and the subsequent effect in pixels in 2D. \n",
    "\n",
    "From Simulation 3, we can see that with an NDI Polaris Spectra that has a sigma of 0.25, we would expect to get TREs of about 1.5mm. Furthermore, if we upgraded to the latest Veiga, which has a sigma of about 0.12, we might achieve TREs around 0.5mm. \n",
    "\n",
    "In Simulation 4, and assuming from the literature that rotational errors and translational errors of surface based registration are 0.5-1.0 mm/degrees, then we might expect TRE errors of about 3-6mm. (TODO: Can we do a surface based registration experiment ourselves?)\n",
    "\n",
    "In simulation 5, we can see that with an NDI Polaris Spectra that has a sigma of 0.25, and simulating Hand-Eye calibration errors with sigma 0-1 for rotational and translational parameters, we see that if errors are in the 0.5-1.0mm/degrees level, then we might expect TRE errors of about 2.75-4.0mm. (TODO: We need to do some calibrations and get realistic values for intrinsic, distortion, and distance from camera.)\n",
    "\n",
    "Simulation 6 shows us that given a perfect hand-eye, and if we again use a sigma of 0.5-1.0 mm/degrees for the registration performance, and a 'typical' level of noise on tracking markers (e.g. like Simulation 4), that TRE of around 3-6mm would map to 80 - 140 pixels. Given that a modern endoscope is 1920x1080, (full HD), then we would expect errors between 4-7% of the screen width and 7-13%& in height, which will look pretty terrible.\n"
   ]
  },
  {
   "cell_type": "code",
   "execution_count": null,
   "metadata": {},
   "outputs": [],
   "source": []
  }
 ],
 "metadata": {
  "kernelspec": {
   "display_name": "Python 3 (ipykernel)",
   "language": "python",
   "name": "python3"
  },
  "language_info": {
   "codemirror_mode": {
    "name": "ipython",
    "version": 3
   },
   "file_extension": ".py",
   "mimetype": "text/x-python",
   "name": "python",
   "nbconvert_exporter": "python",
   "pygments_lexer": "ipython3",
   "version": "3.8.12"
  }
 },
 "nbformat": 4,
 "nbformat_minor": 1
}