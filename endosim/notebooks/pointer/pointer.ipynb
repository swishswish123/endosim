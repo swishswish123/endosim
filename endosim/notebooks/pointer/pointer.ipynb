{
 "cells": [
  {
   "cell_type": "markdown",
   "metadata": {},
   "source": [
    "# Model 1. Understanding the accuracy of current endonasal image guidance system.\n",
    "\n",
    "The current state of the art uses a tracked pointer, registered to a pre-operative MR scan. This notebook explores what the expected level of accuracy might be.\n",
    "\n",
    "\n",
    "\n",
    "\n"
   ]
  },
  {
   "cell_type": "code",
   "execution_count": 1,
   "metadata": {
    "pycharm": {
     "name": "#%%\n"
    }
   },
   "outputs": [],
   "source": [
    "import numpy as np\n",
    "import random\n",
    "from matplotlib import pyplot as plt\n",
    "import sksurgerycore.algorithms.procrustes as pro\n",
    "import sksurgerycore.transforms.matrix as mu\n"
   ]
  },
  {
   "cell_type": "markdown",
   "metadata": {},
   "source": [
    "## Utility functions\n",
    "\n",
    "Here follows some useful utility functions. Scroll down to see the start of the analysis."
   ]
  },
  {
   "cell_type": "code",
   "execution_count": 2,
   "metadata": {
    "pycharm": {
     "name": "#%%\n"
    }
   },
   "outputs": [],
   "source": [
    "def create_transform(array_of_parameters):\n",
    "    \"\"\"\n",
    "    Returns a homogeneous rigid transformation as 4x4 np.ndarray.\n",
    "    \n",
    "    :param array_of_parameters: list of [tx, ty, tz, rx, ry, rz] where rotations are in degrees.\n",
    "    \"\"\"\n",
    "    rotation = mu.construct_rotm_from_euler(array_of_parameters[3],\n",
    "                                            array_of_parameters[4],\n",
    "                                            array_of_parameters[5],\n",
    "                                            sequence='xyz',\n",
    "                                            is_in_radians=False)\n",
    "    translation = np.zeros((3,1))\n",
    "    translation[0][0] = array_of_parameters[0]\n",
    "    translation[1][0] = array_of_parameters[1]\n",
    "    translation[2][0] = array_of_parameters[2]\n",
    "    \n",
    "    transform = mu.construct_rigid_transformation(rotation, translation)\n",
    "    return transform\n",
    "    \n",
    "def multiply_points_by_matrix(matrix_4x4, matrix_of_points, do_transpose):\n",
    "    \"\"\"\n",
    "    Multiplies all points by the same matrix.\n",
    "    \n",
    "    :param matrix_4x4: Numpy ndarray, 4x4, containing homogenous, rigid transformation\n",
    "    :param matrix_of_points: Numpy ndarray, 4xN, containing N points as 4D homogeneous column vectors.\n",
    "    :param do_transpose: if true, we also transpose\n",
    "    \"\"\"\n",
    "    input_matrix = matrix_of_points\n",
    "    \n",
    "    if do_transpose:\n",
    "        input_matrix = np.transpose(matrix_of_points)\n",
    "        \n",
    "    result = np.matmul(matrix_4x4, input_matrix)\n",
    "    \n",
    "    if do_transpose:\n",
    "        result = np.transpose(result)\n",
    "        \n",
    "    return result\n",
    "\n",
    "def multiply_point_by_matrix(transform, point_as_array):\n",
    "    in_point = np.ones((4, 1))\n",
    "    in_point[0][0] = point_as_array[0]\n",
    "    in_point[1][0] = point_as_array[1]\n",
    "    in_point[2][0] = point_as_array[2]\n",
    "    out_point = np.matmul(transform, in_point)\n",
    "    return out_point\n",
    "    \n",
    "def pointer_to_mri(Cam_T_PntRef, Cam_T_PatRef, PatRef_T_MRI, point_in_pointer_coords=[0, 0, 0]):\n",
    "    \"\"\"\n",
    "    Converts a point in pointer space to MRI space.\n",
    "    \"\"\"\n",
    "    transform = np.linalg.inv(PatRef_T_MRI) @ np.linalg.inv(Cam_T_PatRef) @ Cam_T_PntRef\n",
    "    out_point = multiply_point_by_matrix(transform, point_in_pointer_coords)\n",
    "    return out_point\n",
    "\n",
    "def add_noise_to_points(points_in, sigma):\n",
    "    points_out = np.zeros((points_in.shape))\n",
    "    for r in range(points_in.shape[0]):\n",
    "        for c in range(points_in.shape[1]):\n",
    "            points_out[r][c] = points_in[r][c] + random.normalvariate(0, sigma)\n",
    "    return points_out\n"
   ]
  },
  {
   "cell_type": "markdown",
   "metadata": {},
   "source": [
    "## System layout\n",
    "\n",
    "The following diagram shows the layout of the navigation system."
   ]
  },
  {
   "cell_type": "markdown",
   "metadata": {},
   "source": [
    "![img](./images/pointer_setup.png)"
   ]
  },
  {
   "cell_type": "markdown",
   "metadata": {},
   "source": [
    "In the above image, we can see the general setup involved in the surgery when using a pointer. The goal is to be able to display the pointer in image coordinates as we can see in the image below:\n",
    "\n",
    "![pointer on MRI](./images/MRI_pointer.png)"
   ]
  },
  {
   "cell_type": "markdown",
   "metadata": {},
   "source": [
    "The goal is therefore turning the pointer's coordinates to MRI coordinates.\n",
    "\n",
    "X<sub>MRI</sub> = T X<sub>PntEnd</sub>\n",
    "\n",
    "where T are the transformations involved in turning from the pointer's point to the MRI coordinates. These transformations are the following:\n",
    "\n",
    "T = <sup>MRI</sup>T<sub>PatRef</sub> * \n",
    "    <sup>PatRef</sup>T<sub>Cam</sub>  * \n",
    "    <sup>Cam</sup>T<sub>PntRef</sub> * \n",
    "    <sup>PntRef</sup>T<sub>endP</sub>\n",
    "    \n",
    "In the following sections we will go step by step on how to go from each of these transforms"
   ]
  },
  {
   "cell_type": "markdown",
   "metadata": {},
   "source": [
    "Here is an image with all the transforms:\n",
    "\n",
    "![pointer setup with transforms](./images/pointer_setup_transforms.png)"
   ]
  },
  {
   "cell_type": "markdown",
   "metadata": {},
   "source": [
    "## Assumptions / setup"
   ]
  },
  {
   "cell_type": "markdown",
   "metadata": {},
   "source": [
    "1. Cancer, patient reference, pointer reference are all aligned in z direction (have same z coordinate) and are facing the camera straight on so that the distance is D\n",
    "\n",
    "2. Patient reference is at a set distance Yc from the cancer but aligned in the X direction\n",
    "\n",
    "3. pointer is touching the cancer, so the pointer and cancer have the same coordinates\n",
    "\n",
    "4. Length of pointer is known\n",
    "\n",
    "5. Angle of pointer is known"
   ]
  },
  {
   "cell_type": "markdown",
   "metadata": {},
   "source": [
    "![pointer assumptions from sagittal view](./images/pointer_setup_assumptions_sagittal.png)\n",
    "![pointer assumptions from transverse view](./images/pointer_setup_assumptions_transverse.png)"
   ]
  },
  {
   "cell_type": "markdown",
   "metadata": {},
   "source": [
    "## Configurable parameters"
   ]
  },
  {
   "cell_type": "code",
   "execution_count": 3,
   "metadata": {
    "pycharm": {
     "name": "#%%\n"
    }
   },
   "outputs": [],
   "source": [
    "# ALL MEASUREMENTS IN MM\n",
    "\n",
    "# P - length from tip of pointer to reference of pointer\n",
    "pointer_length = 100\n",
    "\n",
    "# D - z distance from camera to plane where everything is located\n",
    "distance_from_cam = 1000 # since the camera and patient reference are aligned in the x and y directions, only distance is in z\n",
    "\n",
    "# 0 - angle of pointer\n",
    "pointer_angle = 45\n",
    "\n",
    "# Yc - distances from cancer to patient reference\n",
    "cancer_patref_y = 50  "
   ]
  },
  {
   "cell_type": "markdown",
   "metadata": {},
   "source": [
    "## Creating the reference data for the pointer, in pointer coordinates.\n",
    "\n",
    "Here is an image of the pointer with its reference:\n",
    "\n",
    "![pointer image](./images/pointer_image.png)\n",
    "![pointer image](./images/pointer_geometry.png)\n",
    "\n",
    "In our case, let us assume we already know what the length of the pointer is."
   ]
  },
  {
   "cell_type": "code",
   "execution_count": 4,
   "metadata": {
    "pycharm": {
     "name": "#%%\n"
    },
    "scrolled": false
   },
   "outputs": [
    {
     "name": "stdout",
     "output_type": "stream",
     "text": [
      "pointer length is: 100mm\n"
     ]
    }
   ],
   "source": [
    "print(f'pointer length is: {pointer_length}mm' )"
   ]
  },
  {
   "cell_type": "code",
   "execution_count": 5,
   "metadata": {
    "pycharm": {
     "name": "#%%\n"
    },
    "scrolled": true
   },
   "outputs": [
    {
     "name": "stdout",
     "output_type": "stream",
     "text": [
      "[[  0.   0.   0.   1.]\n",
      " [  0.   0.  50.   1.]\n",
      " [  0.  25. 100.   1.]\n",
      " [  0. -25. 135.   1.]]\n"
     ]
    },
    {
     "data": {
      "image/png": "[encoded data removed]",
      "text/plain": [
       "<Figure size 432x288 with 1 Axes>"
      ]
     },
     "metadata": {
      "needs_background": "light"
     },
     "output_type": "display_data"
    }
   ],
   "source": [
    "# Creating pointer reference (from datasheet). Using homogenous (4 numbers, x,y,z,1) as row vectors.\n",
    "pnt_ref =  np.zeros((4, 4))\n",
    "\n",
    "# marker b \n",
    "pnt_ref[1][2] = 50 # z\n",
    "\n",
    "# marker c\n",
    "pnt_ref[2][1] = 25  # y\n",
    "pnt_ref[2][2] = 100 # z\n",
    "\n",
    "# marker d\n",
    "pnt_ref[3][1] = -25 # y\n",
    "pnt_ref[3][2] = 135 # z\n",
    "\n",
    "# adding 1 to 3rd dimension to turn to homogeneous coordinates\n",
    "pnt_ref[0][3] = 1\n",
    "pnt_ref[1][3] = 1\n",
    "pnt_ref[2][3] = 1\n",
    "pnt_ref[3][3] = 1\n",
    "print(pnt_ref)\n",
    "\n",
    "# Plotting original points, to check it looks ok.\n",
    "plt.figure()\n",
    "plt.plot(pnt_ref[:,1],pnt_ref[:,2], marker='*',linestyle = 'None',)\n",
    "plt.title('markers on pointer in pointer coordinates')\n",
    "plt.xlabel('y')\n",
    "plt.ylabel('z')\n",
    "plt.gca().set_aspect('equal', adjustable='box')\n",
    "\n",
    "plt.show()\n"
   ]
  },
  {
   "cell_type": "code",
   "execution_count": 6,
   "metadata": {},
   "outputs": [],
   "source": [
    "def get_Ref_T_End(pointer_length, dimension):\n",
    "    if dimension == 'z':\n",
    "        Ref_T_End = create_transform([0, 0, pointer_length, 0, 0, 0]) # create transform of all points depending on pointer's length\n",
    "    elif dimension == 'x':\n",
    "        Ref_T_End = create_transform([pointer_length, 0, 0, 0, 0, 0])\n",
    "    return Ref_T_End\n"
   ]
  },
  {
   "cell_type": "markdown",
   "metadata": {},
   "source": [
    "converting reference points to coordinate system where the origin is at the end of the pointer"
   ]
  },
  {
   "cell_type": "code",
   "execution_count": 7,
   "metadata": {
    "pycharm": {
     "name": "#%%\n"
    },
    "scrolled": false
   },
   "outputs": [
    {
     "name": "stdout",
     "output_type": "stream",
     "text": [
      "Original pointer, as per datasheet:\n",
      "[[  0.   0.   0.   1.]\n",
      " [  0.   0.  50.   1.]\n",
      " [  0.  25. 100.   1.]\n",
      " [  0. -25. 135.   1.]]\n",
      "offset_pointer_transform=\n",
      "[[  1.   0.   0.   0.]\n",
      " [  0.   1.   0.   0.]\n",
      " [  0.   0.   1. 100.]\n",
      " [  0.   0.   0.   1.]]\n",
      "pnt_ref_transformed=\n",
      "[[  0.   0. 100.   1.]\n",
      " [  0.   0. 150.   1.]\n",
      " [  0.  25. 200.   1.]\n",
      " [  0. -25. 235.   1.]]\n",
      "pnt_ref_with_tip=\n",
      "[[  0.   0. 100.   1.]\n",
      " [  0.   0. 150.   1.]\n",
      " [  0.  25. 200.   1.]\n",
      " [  0. -25. 235.   1.]\n",
      " [  0.   0.   0.   1.]]\n"
     ]
    },
    {
     "data": {
      "image/png": "[encoded data removed]",
      "text/plain": [
       "<Figure size 432x288 with 1 Axes>"
      ]
     },
     "metadata": {
      "needs_background": "light"
     },
     "output_type": "display_data"
    }
   ],
   "source": [
    "# Here we offset the points by the length of the pointer.\n",
    "offset_pointer_transform = get_Ref_T_End(pointer_length, 'z') # create transform of all points depending on pointer's length\n",
    "pnt_ref_transformed = multiply_points_by_matrix(offset_pointer_transform, pnt_ref, do_transpose=True) # transform all pointer points by this reference\n",
    "pnt_ref_with_tip = np.concatenate((pnt_ref_transformed, [[0, 0, 0, 1]]), axis=0) # adding tip to points\n",
    "\n",
    "# displaying results\n",
    "print(\"Original pointer, as per datasheet:\\n\" + str(pnt_ref))\n",
    "print(\"offset_pointer_transform=\\n\" + str(offset_pointer_transform))\n",
    "print(\"pnt_ref_transformed=\\n\" + str(pnt_ref_transformed))\n",
    "print(\"pnt_ref_with_tip=\\n\" + str(pnt_ref_with_tip))\n",
    "\n",
    "plt.figure()\n",
    "plt.plot(pnt_ref_with_tip[:,1],pnt_ref_with_tip[:,2], marker='*',linestyle = 'None',)\n",
    "plt.title('Markers on pointer in pointer coordinates')\n",
    "plt.xlabel('y')\n",
    "plt.ylabel('z')\n",
    "plt.gca().set_aspect('equal', adjustable='box')\n",
    "plt.show()"
   ]
  },
  {
   "cell_type": "markdown",
   "metadata": {},
   "source": [
    "## Creating the reference data for the pointer in camera coordinates"
   ]
  },
  {
   "cell_type": "code",
   "execution_count": 8,
   "metadata": {
    "pycharm": {
     "name": "#%%\n"
    }
   },
   "outputs": [
    {
     "name": "stdout",
     "output_type": "stream",
     "text": [
      "Pointer in camera/tracker space:\n",
      "[[  0.   0.   0.   1.]\n",
      " [ 50.   0.   0.   1.]\n",
      " [100.  25.   0.   1.]\n",
      " [135. -25.   0.   1.]]\n",
      "offset_pointer_transform_cam=\n",
      "[[  1.   0.   0. 100.]\n",
      " [  0.   1.   0.   0.]\n",
      " [  0.   0.   1.   0.]\n",
      " [  0.   0.   0.   1.]]\n",
      "pnt_ref_in_camera_space_transformed=\n",
      "[[100.   0.   0.   1.]\n",
      " [150.   0.   0.   1.]\n",
      " [200.  25.   0.   1.]\n",
      " [235. -25.   0.   1.]]\n",
      "pnt_ref_in_camera_space_with_tip=\n",
      "[[100.   0.   0.   1.]\n",
      " [150.   0.   0.   1.]\n",
      " [200.  25.   0.   1.]\n",
      " [235. -25.   0.   1.]\n",
      " [  0.   0.   0.   1.]]\n",
      "pnt_ref_in_camera_space_at_patient=\n",
      "[[  70.71067812   70.71067812 1000.            1.        ]\n",
      " [ 106.06601718  106.06601718 1000.            1.        ]\n",
      " [ 123.74368671  159.09902577 1000.            1.        ]\n",
      " [ 183.84776311  148.49242405 1000.            1.        ]\n",
      " [   0.            0.         1000.            1.        ]]\n"
     ]
    },
    {
     "data": {
      "image/png": "[encoded data removed]",
      "text/plain": [
       "<Figure size 432x288 with 1 Axes>"
      ]
     },
     "metadata": {
      "needs_background": "light"
     },
     "output_type": "display_data"
    }
   ],
   "source": [
    "pnt_ref_in_camera_space =  np.zeros((4, 4))\n",
    "\n",
    "# marker b\n",
    "pnt_ref_in_camera_space[1][0] = 50 # x\n",
    "# marker c\n",
    "pnt_ref_in_camera_space[2][0] = 100 # x\n",
    "pnt_ref_in_camera_space[2][1] = 25 # should this be -y?------- to check\n",
    "# marker d\n",
    "pnt_ref_in_camera_space[3][0] = 135 # x\n",
    "pnt_ref_in_camera_space[3][1] = -25 # should this be -y?----- to check\n",
    "\n",
    "# adding 1 to third dimension to make homogeneous coords\n",
    "pnt_ref_in_camera_space[0][3] = 1\n",
    "pnt_ref_in_camera_space[1][3] = 1\n",
    "pnt_ref_in_camera_space[2][3] = 1\n",
    "pnt_ref_in_camera_space[3][3] = 1\n",
    "\n",
    "# once again creating offset to all the points to move origin to the pointer's tip\n",
    "offset_pointer_transform_cam = get_Ref_T_End(pointer_length, 'x')\n",
    "pnt_ref_in_camera_space_transformed = multiply_points_by_matrix(offset_pointer_transform_cam, pnt_ref_in_camera_space, do_transpose=True)\n",
    "pnt_ref_in_camera_space_with_tip = np.concatenate((pnt_ref_in_camera_space_transformed, [[0, 0, 0, 1]]), axis=0)\n",
    "\n",
    "print(\"Pointer in camera/tracker space:\\n\" + str(pnt_ref_in_camera_space))\n",
    "print(\"offset_pointer_transform_cam=\\n\" + str(offset_pointer_transform_cam))\n",
    "print(\"pnt_ref_in_camera_space_transformed=\\n\" + str(pnt_ref_in_camera_space_transformed))\n",
    "print(\"pnt_ref_in_camera_space_with_tip=\\n\" + str(pnt_ref_in_camera_space_with_tip))\n",
    "\n",
    "# Now we want to rotate around z (according to diagram above), then translate to a distance from camera.\n",
    "rotate_about_z = create_transform([0, 0, 0, 0, 0, pointer_angle]) \n",
    "translate_away_from_camera = create_transform([0, 0, distance_from_cam, 0, 0, 0])\n",
    "pnt_ref_in_camera_space_at_patient = multiply_points_by_matrix(translate_away_from_camera @ rotate_about_z, pnt_ref_in_camera_space_with_tip, do_transpose=True)\n",
    "print(\"pnt_ref_in_camera_space_at_patient=\\n\" + str(pnt_ref_in_camera_space_at_patient))\n",
    "\n",
    "# Plotting result\n",
    "plt.figure()\n",
    "plt.plot(pnt_ref_in_camera_space_at_patient[:,1],pnt_ref_in_camera_space_at_patient[:,0], marker='*',linestyle = 'None',)\n",
    "plt.title('Markers on pointer in camera/tracker coordinates')\n",
    "plt.xlabel('y')\n",
    "plt.ylabel('x')\n",
    "plt.gca().set_aspect('equal', adjustable='box')\n",
    "\n",
    "plt.show()"
   ]
  },
  {
   "cell_type": "markdown",
   "metadata": {},
   "source": [
    "## Computing the Tracking transformation, Cam_T_PntRef.\n",
    "\n",
    "For sanity checking, we should now be able to register the PntRef model (moving) to Cam (fixed) transform."
   ]
  },
  {
   "cell_type": "code",
   "execution_count": 9,
   "metadata": {},
   "outputs": [
    {
     "name": "stdout",
     "output_type": "stream",
     "text": [
      "Cam_T_PntRef_r=\n",
      "[[ 1.38483821e-15 -7.07106781e-01  7.07106781e-01]\n",
      " [-1.62248986e-15  7.07106781e-01  7.07106781e-01]\n",
      " [-1.00000000e+00 -2.11636264e-15  0.00000000e+00]]\n",
      "Cam_T_PntRef_t=\n",
      "[[5.68434189e-14]\n",
      " [2.84217094e-14]\n",
      " [1.00000000e+03]]\n",
      "Cam_T_PntRef_FRE=\n",
      "3.759838749409412e-14\n",
      "Cam_T_PntRef=\n",
      "[[ 1.38483821e-15 -7.07106781e-01  7.07106781e-01  5.68434189e-14]\n",
      " [-1.62248986e-15  7.07106781e-01  7.07106781e-01  2.84217094e-14]\n",
      " [-1.00000000e+00 -2.11636264e-15  0.00000000e+00  1.00000000e+03]\n",
      " [ 0.00000000e+00  0.00000000e+00  0.00000000e+00  1.00000000e+00]]\n"
     ]
    }
   ],
   "source": [
    "Cam_T_PntRef_r, Cam_T_PntRef_t, Cam_T_PntRef_FRE = pro.orthogonal_procrustes(pnt_ref_in_camera_space_at_patient[:,0:3], pnt_ref_with_tip[:,0:3])\n",
    "print(\"Cam_T_PntRef_r=\\n\" + str(Cam_T_PntRef_r))\n",
    "print(\"Cam_T_PntRef_t=\\n\" + str(Cam_T_PntRef_t))\n",
    "print(\"Cam_T_PntRef_FRE=\\n\" + str(Cam_T_PntRef_FRE))\n",
    "\n",
    "# Also, construct a 4x4 tracking transformation. It should look like a rotation and a translation.\n",
    "Cam_T_PntRef = mu.construct_rigid_transformation(Cam_T_PntRef_r, Cam_T_PntRef_t)\n",
    "print(\"Cam_T_PntRef=\\n\" + str(Cam_T_PntRef))\n"
   ]
  },
  {
   "cell_type": "markdown",
   "metadata": {},
   "source": [
    "## Creating reference data for the the Patient Reference\n",
    "\n",
    "![real patient reference](./images/real_pat_ref.png)\n"
   ]
  },
  {
   "cell_type": "markdown",
   "metadata": {},
   "source": [
    "![patient reference coordinates](./images/pointer_patref_marker.png)"
   ]
  },
  {
   "cell_type": "code",
   "execution_count": 10,
   "metadata": {},
   "outputs": [],
   "source": [
    "# Defining reference coordibates in ref coords (from datasheet)\n",
    "#A: x=0.00, y= 0.00, z=0.00 \n",
    "#B: x=0.00, y= 28.59, z=41.02 \n",
    "#C: x=0.00, y= 00.00, z=88.00 \n",
    "#D: x=0.00, y=-44.32, z=40.45\n",
    "    \n",
    "# Encoding the reference marker points into a numpy matrix\n",
    "pat_ref = np.zeros((4, 4))\n",
    "\n",
    "# marker b\n",
    "pat_ref[1][1] = 28.59 # y\n",
    "pat_ref[1][2] = 41.02 # z\n",
    "\n",
    "# marker c\n",
    "pat_ref[2][2] = 88 # z\n",
    "\n",
    "# marker d\n",
    "pat_ref[3][1] = -44.32 # y\n",
    "pat_ref[3][2] = 40.45 # z\n",
    "\n",
    "# adding 1 to last row to make coordinates homogenous\n",
    "pat_ref[0][3] = 1.0\n",
    "pat_ref[1][3] = 1.0 \n",
    "pat_ref[2][3] = 1.0\n",
    "pat_ref[3][3] = 1.0\n"
   ]
  },
  {
   "cell_type": "markdown",
   "metadata": {},
   "source": [
    "## Creating the reference data for the patient reference in camera space.\n",
    "\n",
    "- we assume the patient reference centre is at the same level as the cancer and so the x coordinates are the same\n",
    "- the distance in y direction between cancer and reference is known\n",
    "\n",
    "\n",
    "![reminder of patient reference assumptions](./images/pat_ref_assumptions.png)\n",
    "\n",
    "The patient reference model coordinates are in the YZ plane. In camera space, the X direction is vertical, the Z direction goes from the camera to the patient. So, in camera space, lets place these points in the ZY plane. So, all we have to do is swap the Y, Z coordinates, then translate to the patient, then translate along the negative Y axis to match the picture above. \n"
   ]
  },
  {
   "cell_type": "code",
   "execution_count": 11,
   "metadata": {},
   "outputs": [
    {
     "name": "stdout",
     "output_type": "stream",
     "text": [
      "[[  0.     0.     0.     1.  ]\n",
      " [  0.    28.59  41.02   1.  ]\n",
      " [  0.     0.    88.     1.  ]\n",
      " [  0.   -44.32  40.45   1.  ]]\n",
      "[[  0.     0.     0.     0.  ]\n",
      " [  0.    41.02  28.59   0.  ]\n",
      " [  0.    88.     0.     0.  ]\n",
      " [  0.    40.45 -44.32   0.  ]]\n",
      "Patient ref, in model coordinates=\n",
      "[[  0.     0.     0.     1.  ]\n",
      " [  0.    28.59  41.02   1.  ]\n",
      " [  0.     0.    88.     1.  ]\n",
      " [  0.   -44.32  40.45   1.  ]]\n",
      "Patient ref, in camera coordinates=\n",
      "[[ 0.00000e+00 -5.00000e+01  1.00000e+03  1.00000e+00]\n",
      " [ 0.00000e+00 -8.98000e+00  1.02859e+03  1.00000e+00]\n",
      " [ 0.00000e+00  3.80000e+01  1.00000e+03  1.00000e+00]\n",
      " [ 0.00000e+00 -9.55000e+00  9.55680e+02  1.00000e+00]]\n"
     ]
    }
   ],
   "source": [
    "# Encoding the reference marker points into a numpy matrix, in camera space.\n",
    "pat_ref_in_camera_space = np.zeros((4, 4))\n",
    "\n",
    "#  TO ASK MATT-------> Which direction????\n",
    "pat_ref_in_camera_space[1][1] = 41.02 # \n",
    "pat_ref_in_camera_space[1][2] = 28.59\n",
    "\n",
    "pat_ref_in_camera_space[2][1] = 88 \n",
    "\n",
    "pat_ref_in_camera_space[3][1] = 40.45\n",
    "pat_ref_in_camera_space[3][2] = -44.32 \n",
    "\n",
    "'''\n",
    "\n",
    "# marker b\n",
    "pat_ref[1][1] = 28.59 # y\n",
    "pat_ref[1][2] = 41.02 # z\n",
    "\n",
    "# marker c\n",
    "pat_ref[2][2] = 88 # z\n",
    "\n",
    "# marker d\n",
    "pat_ref[3][1] = -44.32 # y\n",
    "pat_ref[3][2] = 40.45 # z\n",
    "'''\n",
    "print(pat_ref)\n",
    "print(pat_ref_in_camera_space)\n",
    "\n",
    "# converting to homogenous coords\n",
    "pat_ref_in_camera_space[0][3] = 1.0 \n",
    "pat_ref_in_camera_space[1][3] = 1.0\n",
    "pat_ref_in_camera_space[2][3] = 1.0\n",
    "pat_ref_in_camera_space[3][3] = 1.0\n",
    "\n",
    "\n",
    "# Now put it in the right place.\n",
    "translate_along_negative_y = create_transform([0, -cancer_patref_y, 0, 0, 0, 0])\n",
    "pat_ref_in_camera_space_at_patient = multiply_points_by_matrix(translate_along_negative_y @ translate_away_from_camera, pat_ref_in_camera_space, do_transpose=True)\n",
    "\n",
    "print(\"Patient ref, in model coordinates=\\n\" + str(pat_ref))\n",
    "print(\"Patient ref, in camera coordinates=\\n\" + str(pat_ref_in_camera_space_at_patient))\n",
    "\n"
   ]
  },
  {
   "cell_type": "markdown",
   "metadata": {},
   "source": [
    "## Computing the Tracking transformation Cam_T_PatRef"
   ]
  },
  {
   "cell_type": "code",
   "execution_count": 12,
   "metadata": {},
   "outputs": [
    {
     "name": "stdout",
     "output_type": "stream",
     "text": [
      "Cam_T_PatRef_r=\n",
      "[[-1.00000000e+00  0.00000000e+00  0.00000000e+00]\n",
      " [ 0.00000000e+00  3.46944695e-17  1.00000000e+00]\n",
      " [ 0.00000000e+00  1.00000000e+00 -9.02056208e-17]]\n",
      "Cam_T_PatRef_t=\n",
      "[[   0.]\n",
      " [ -50.]\n",
      " [1000.]]\n",
      "Cam_T_PatRef_FRE=\n",
      "7.105427357601002e-15\n",
      "Cam_T_PatRef=\n",
      "[[-1.00000000e+00  0.00000000e+00  0.00000000e+00  0.00000000e+00]\n",
      " [ 0.00000000e+00  3.46944695e-17  1.00000000e+00 -5.00000000e+01]\n",
      " [ 0.00000000e+00  1.00000000e+00 -9.02056208e-17  1.00000000e+03]\n",
      " [ 0.00000000e+00  0.00000000e+00  0.00000000e+00  1.00000000e+00]]\n"
     ]
    }
   ],
   "source": [
    "\n",
    "# As above, compute the tracking transformation.\n",
    "Cam_T_PatRef_r, Cam_T_PatRef_t, Cam_T_PatRef_FRE = pro.orthogonal_procrustes(pat_ref_in_camera_space_at_patient[:,0:3], pat_ref[:,0:3])\n",
    "print(\"Cam_T_PatRef_r=\\n\" + str(Cam_T_PatRef_r))\n",
    "print(\"Cam_T_PatRef_t=\\n\" + str(Cam_T_PatRef_t))\n",
    "print(\"Cam_T_PatRef_FRE=\\n\" + str(Cam_T_PatRef_FRE))\n",
    "\n",
    "# Also, construct a 4x4 tracking transformation. It should look like a translation, with no rotation.\n",
    "Cam_T_PatRef = mu.construct_rigid_transformation(Cam_T_PatRef_r, Cam_T_PatRef_t)\n",
    "print(\"Cam_T_PatRef=\\n\" + str(Cam_T_PatRef))\n"
   ]
  },
  {
   "cell_type": "markdown",
   "metadata": {},
   "source": [
    "## CT to PatRef coordinates"
   ]
  },
  {
   "cell_type": "markdown",
   "metadata": {},
   "source": [
    "In order to convert CT coordinates to patient reference coordinates, we typically would take the pointer and move it over the surface of the patient's head. The software would collect coordinates of the tip of the pointer, and transform them to the patient reference coordinate system. We then use an ICP algorithm to match the two surfaces of the points on the face. This results in PatRef_T_MRI as shown above."
   ]
  },
  {
   "cell_type": "markdown",
   "metadata": {},
   "source": [
    "For the purpose of this simulation, we can just place them at an offset to the patient reference, which has already been placed, somewhere near the patients head.\n",
    "\n",
    "![MRI to camera coordinates](./images/3D_to_cam.png)"
   ]
  },
  {
   "cell_type": "code",
   "execution_count": 13,
   "metadata": {},
   "outputs": [
    {
     "name": "stdout",
     "output_type": "stream",
     "text": [
      "Cam_T_PntRef=\n",
      "[[   1.    0.    0. -100.]\n",
      " [   0.    1.    0. -130.]\n",
      " [   0.    0.    1.  -80.]\n",
      " [   0.    0.    0.    1.]]\n"
     ]
    }
   ],
   "source": [
    "# Average head dimensions from: https://en.wikipedia.org/wiki/Human_head\n",
    "\n",
    "x_t = 100 # head length (about 20cm)\n",
    "y_t = 130 # menton to top of head (about 25cm)\n",
    "z_t = 80 # head bredth (about 15cm)\n",
    "\n",
    "PatRef_T_MRI = create_transform([-x_t, -y_t, -z_t, 0, 0, 0])\n",
    "print(\"Cam_T_PntRef=\\n\" + str(PatRef_T_MRI))"
   ]
  },
  {
   "cell_type": "markdown",
   "metadata": {},
   "source": [
    "# Summary of Reference data.\n",
    "\n",
    "Give this setup:\n",
    "\n",
    "![pointer setup with transforms](./images/pointer_setup_transforms.png)\n",
    "\n",
    "we have now computed"
   ]
  },
  {
   "cell_type": "code",
   "execution_count": 14,
   "metadata": {
    "scrolled": true
   },
   "outputs": [
    {
     "name": "stdout",
     "output_type": "stream",
     "text": [
      "Summary: pointer tip to pointer ref PntRef_T_EndP =\n",
      "[[  1.   0.   0.   0.]\n",
      " [  0.   1.   0.   0.]\n",
      " [  0.   0.   1. 100.]\n",
      " [  0.   0.   0.   1.]]\n",
      "Summary: pointer ref to camera Cam_T_PntRef=\n",
      "[[ 1.38483821e-15 -7.07106781e-01  7.07106781e-01  5.68434189e-14]\n",
      " [-1.62248986e-15  7.07106781e-01  7.07106781e-01  2.84217094e-14]\n",
      " [-1.00000000e+00 -2.11636264e-15  0.00000000e+00  1.00000000e+03]\n",
      " [ 0.00000000e+00  0.00000000e+00  0.00000000e+00  1.00000000e+00]]\n",
      "Summary: patient ref to camera Cam_T_PatRef=\n",
      "[[-1.00000000e+00  0.00000000e+00  0.00000000e+00  0.00000000e+00]\n",
      " [ 0.00000000e+00  3.46944695e-17  1.00000000e+00 -5.00000000e+01]\n",
      " [ 0.00000000e+00  1.00000000e+00 -9.02056208e-17  1.00000000e+03]\n",
      " [ 0.00000000e+00  0.00000000e+00  0.00000000e+00  1.00000000e+00]]\n",
      "Summary: mri to patient ref PatRef_T_MRI=\n",
      "[[   1.    0.    0. -100.]\n",
      " [   0.    1.    0. -130.]\n",
      " [   0.    0.    1.  -80.]\n",
      " [   0.    0.    0.    1.]]\n"
     ]
    }
   ],
   "source": [
    "print(\"Summary: pointer tip to pointer ref PntRef_T_EndP =\\n\" + str(offset_pointer_transform)) \n",
    "print(\"Summary: pointer ref to camera Cam_T_PntRef=\\n\" + str(Cam_T_PntRef)) \n",
    "print(\"Summary: patient ref to camera Cam_T_PatRef=\\n\" + str(Cam_T_PatRef))\n",
    "print(\"Summary: mri to patient ref PatRef_T_MRI=\\n\" + str(PatRef_T_MRI))"
   ]
  },
  {
   "cell_type": "markdown",
   "metadata": {},
   "source": [
    "and dont forget that we constructed the pointer, so that the origin is the tip, and we computed Cam_T_PntRef based on this. So, in the above diagram, PntRef_T_EndP is effectively the identity transformation.\n",
    "\n",
    "In addition, we can just place the tumour at the location given by the pointer tip:\n"
   ]
  },
  {
   "cell_type": "code",
   "execution_count": 69,
   "metadata": {
    "scrolled": true
   },
   "outputs": [
    {
     "name": "stdout",
     "output_type": "stream",
     "text": [
      "Tumour location in camera space=\n",
      "[[   0]\n",
      " [   0]\n",
      " [1000]\n",
      " [   1]]\n",
      "Tumour location in MRI space=\n",
      "[[100.]\n",
      " [130.]\n",
      " [130.]\n",
      " [  1.]]\n",
      "Tumour location in MRI space after transforming camera space one\n",
      "[[100.]\n",
      " [130.]\n",
      " [130.]\n",
      " [  1.]]\n"
     ]
    }
   ],
   "source": [
    "origin = [0, 0, 0]\n",
    "\n",
    "# Tumor in camera space\n",
    "#tumour_in_camera_space = multiply_point_by_matrix(Cam_T_PntRef, origin)\n",
    "tumour_in_camera_space = np.array([ [0],[0],[distance_from_cam],[1] ])\n",
    "print(\"Tumour location in camera space=\\n\" + str(tumour_in_camera_space))\n",
    "\n",
    "# Tumor in MRI space\n",
    "tumour_in_mri_space = pointer_to_mri(Cam_T_PntRef, Cam_T_PatRef, PatRef_T_MRI, origin)\n",
    "print(\"Tumour location in MRI space=\\n\" + str(tumour_in_mri_space))\n",
    "\n",
    "# Transforming tumor in camera space to MRI space to check it is the same   \n",
    "transform = np.linalg.inv(PatRef_T_MRI) @ np.linalg.inv(Cam_T_PatRef) \n",
    "tumour_MRI_from_Cam = multiply_point_by_matrix(transform, tumour_in_camera_space)\n",
    "print('Tumour location in MRI space after transforming camera space one')\n",
    "print(tumour_MRI_from_Cam)"
   ]
  },
  {
   "cell_type": "markdown",
   "metadata": {},
   "source": [
    "And we have the following reference data from above:"
   ]
  },
  {
   "cell_type": "code",
   "execution_count": 16,
   "metadata": {},
   "outputs": [
    {
     "name": "stdout",
     "output_type": "stream",
     "text": [
      "Pointer model=\n",
      "[[  0.   0. 100.   1.]\n",
      " [  0.   0. 150.   1.]\n",
      " [  0.  25. 200.   1.]\n",
      " [  0. -25. 235.   1.]\n",
      " [  0.   0.   0.   1.]]\n",
      "Pointer model in camera space=\n",
      "[[  70.71067812   70.71067812 1000.            1.        ]\n",
      " [ 106.06601718  106.06601718 1000.            1.        ]\n",
      " [ 123.74368671  159.09902577 1000.            1.        ]\n",
      " [ 183.84776311  148.49242405 1000.            1.        ]\n",
      " [   0.            0.         1000.            1.        ]]\n",
      "Patient ref model=\n",
      "[[  0.     0.     0.     1.  ]\n",
      " [  0.    28.59  41.02   1.  ]\n",
      " [  0.     0.    88.     1.  ]\n",
      " [  0.   -44.32  40.45   1.  ]]\n",
      "Patient ref model in camera space=\n",
      "[[ 0.00000e+00 -5.00000e+01  1.00000e+03  1.00000e+00]\n",
      " [ 0.00000e+00 -8.98000e+00  1.02859e+03  1.00000e+00]\n",
      " [ 0.00000e+00  3.80000e+01  1.00000e+03  1.00000e+00]\n",
      " [ 0.00000e+00 -9.55000e+00  9.55680e+02  1.00000e+00]]\n"
     ]
    }
   ],
   "source": [
    "print(\"Pointer model=\\n\" + str(pnt_ref_with_tip))\n",
    "print(\"Pointer model in camera space=\\n\" + str(pnt_ref_in_camera_space_at_patient))\n",
    "print(\"Patient ref model=\\n\" + str(pat_ref))\n",
    "print(\"Patient ref model in camera space=\\n\" + str(pat_ref_in_camera_space_at_patient))\n"
   ]
  },
  {
   "cell_type": "markdown",
   "metadata": {},
   "source": [
    "which are the 4 sets of points that we computed tracking transformations from, using orthogonal procrustes."
   ]
  },
  {
   "cell_type": "markdown",
   "metadata": {},
   "source": [
    "# Summary of steps"
   ]
  },
  {
   "cell_type": "markdown",
   "metadata": {},
   "source": [
    "#### PntRef_T_PntEnd"
   ]
  },
  {
   "cell_type": "markdown",
   "metadata": {},
   "source": [
    "pointer reference"
   ]
  },
  {
   "cell_type": "code",
   "execution_count": 48,
   "metadata": {},
   "outputs": [
    {
     "data": {
      "text/plain": [
       "array([[  0.,   0.,   0.,   1.],\n",
       "       [  0.,   0.,  50.,   1.],\n",
       "       [  0.,  25., 100.,   1.],\n",
       "       [  0., -25., 135.,   1.]])"
      ]
     },
     "execution_count": 48,
     "metadata": {},
     "output_type": "execute_result"
    }
   ],
   "source": [
    "pnt_ref"
   ]
  },
  {
   "cell_type": "markdown",
   "metadata": {},
   "source": [
    "PntRef_T_PntEnd\n",
    "\n",
    "We transform the pointer reference from reference coordinates to pointer's end coordinate system, where the origin is at the pointer's tip\n"
   ]
  },
  {
   "cell_type": "code",
   "execution_count": 49,
   "metadata": {},
   "outputs": [
    {
     "name": "stdout",
     "output_type": "stream",
     "text": [
      "pointer reference after being translated by pointer length (PntRef_T_PntEnd)\n",
      "[[  0.   0.  10.   1.]\n",
      " [  0.   0.  60.   1.]\n",
      " [  0.  25. 110.   1.]\n",
      " [  0. -25. 145.   1.]]\n"
     ]
    }
   ],
   "source": [
    "PntRef_T_PntEnd = get_Ref_T_End(pointer_length, 'z')\n",
    "# pointer reference in endoscopic coordinates\n",
    "pnt_ref_transformed = multiply_points_by_matrix(PntRef_T_PntEnd, pnt_ref, do_transpose=True) # transform all pointer points by this transform\n",
    "print('pointer reference after being translated by pointer length (PntRef_T_PntEnd)')\n",
    "print(pnt_ref_transformed)"
   ]
  },
  {
   "cell_type": "markdown",
   "metadata": {},
   "source": [
    "#### Cam_T_PntRef"
   ]
  },
  {
   "cell_type": "markdown",
   "metadata": {},
   "source": [
    "We now create the reference but in camera coordinates"
   ]
  },
  {
   "cell_type": "markdown",
   "metadata": {},
   "source": [
    "Original reference (as the scale is the same)"
   ]
  },
  {
   "cell_type": "code",
   "execution_count": 50,
   "metadata": {
    "scrolled": true
   },
   "outputs": [
    {
     "data": {
      "text/plain": [
       "array([[  0.,   0.,   0.,   1.],\n",
       "       [ 50.,   0.,   0.,   1.],\n",
       "       [100.,  25.,   0.,   1.],\n",
       "       [135., -25.,   0.,   1.]])"
      ]
     },
     "execution_count": 50,
     "metadata": {},
     "output_type": "execute_result"
    }
   ],
   "source": [
    "pnt_ref_in_camera_space"
   ]
  },
  {
   "cell_type": "markdown",
   "metadata": {},
   "source": [
    "We translate it so that the origin is at the pointer's tip"
   ]
  },
  {
   "cell_type": "code",
   "execution_count": 51,
   "metadata": {},
   "outputs": [
    {
     "name": "stdout",
     "output_type": "stream",
     "text": [
      "pointer reference after being translated by pointer length (camera)\n",
      "[[ 10.   0.   0.   1.]\n",
      " [ 60.   0.   0.   1.]\n",
      " [110.  25.   0.   1.]\n",
      " [145. -25.   0.   1.]]\n"
     ]
    }
   ],
   "source": [
    "offset_pointer_transform_cam = get_Ref_T_End(pointer_length, 'x')\n",
    "pnt_ref_in_camera_space_offset = multiply_points_by_matrix(offset_pointer_transform_cam, pnt_ref_in_camera_space, do_transpose=True)\n",
    "print('pointer reference after being translated by pointer length (camera)')\n",
    "print(pnt_ref_in_camera_space_offset)\n"
   ]
  },
  {
   "cell_type": "markdown",
   "metadata": {},
   "source": [
    "We then want to rotate it to the angle specified and translate it away from the camera at the distance the patient is from the camera\n"
   ]
  },
  {
   "cell_type": "code",
   "execution_count": 52,
   "metadata": {},
   "outputs": [
    {
     "name": "stdout",
     "output_type": "stream",
     "text": [
      "pnt_ref_in_camera_space_transformed is pointer reference in camera coordinates (after being put in position)\n",
      "[[   7.07106781    7.07106781 1000.            1.        ]\n",
      " [  42.42640687   42.42640687 1000.            1.        ]\n",
      " [  60.1040764    95.45941546 1000.            1.        ]\n",
      " [ 120.2081528    84.85281374 1000.            1.        ]]\n"
     ]
    }
   ],
   "source": [
    "# Now we want to rotate around z (according to diagram above), then translate to a distance from camera.\n",
    "rotate_about_z = create_transform([0, 0, 0, 0, 0, pointer_angle]) \n",
    "translate_away_from_camera = create_transform([0, 0, distance_from_cam, 0, 0, 0])\n",
    "\n",
    "# composing the 2 transformations\n",
    "rotate_translate = translate_away_from_camera @ rotate_about_z \n",
    "\n",
    "# transforming reference coordinates by these transformations\n",
    "pnt_ref_in_camera_space_transformed = multiply_points_by_matrix(rotate_translate, pnt_ref_in_camera_space_offset, do_transpose=True)\n",
    "\n",
    "print('pnt_ref_in_camera_space_transformed is pointer reference in camera coordinates (after being put in position)')\n",
    "print(pnt_ref_in_camera_space_transformed)\n"
   ]
  },
  {
   "cell_type": "markdown",
   "metadata": {},
   "source": [
    "Now we have the pointer's reference both in camera coordinates and in pointer coordinates so we can get the transformation Cam_T_PntRef by matching the two"
   ]
  },
  {
   "cell_type": "code",
   "execution_count": 53,
   "metadata": {},
   "outputs": [
    {
     "name": "stdout",
     "output_type": "stream",
     "text": [
      "pointer reference in reference coords: \n",
      "[[  0.   0.  10.]\n",
      " [  0.   0.  60.]\n",
      " [  0.  25. 110.]\n",
      " [  0. -25. 145.]]\n",
      "pointer reference in camera coords: \n",
      "[[   7.07106781    7.07106781 1000.        ]\n",
      " [  42.42640687   42.42640687 1000.        ]\n",
      " [  60.1040764    95.45941546 1000.        ]\n",
      " [ 120.2081528    84.85281374 1000.        ]]\n"
     ]
    }
   ],
   "source": [
    "print('pointer reference in reference coords: ')\n",
    "print(pnt_ref_transformed[:,0:3])\n",
    "\n",
    "print('pointer reference in camera coords: ')\n",
    "print(pnt_ref_in_camera_space_transformed[:,0:3])\n"
   ]
  },
  {
   "cell_type": "code",
   "execution_count": 54,
   "metadata": {},
   "outputs": [
    {
     "name": "stdout",
     "output_type": "stream",
     "text": [
      "Cam_T_PntRef=\n",
      "[[ 1.59218830e-16 -7.07106781e-01  7.07106781e-01  7.10542736e-15]\n",
      " [-1.92482452e-16  7.07106781e-01  7.07106781e-01  0.00000000e+00]\n",
      " [-1.00000000e+00 -2.77555756e-16  0.00000000e+00  1.00000000e+03]\n",
      " [ 0.00000000e+00  0.00000000e+00  0.00000000e+00  1.00000000e+00]]\n"
     ]
    }
   ],
   "source": [
    "Cam_T_PntRef_r, Cam_T_PntRef_t, _ = pro.orthogonal_procrustes(pnt_ref_in_camera_space_transformed[:,0:3], pnt_ref_transformed[:,0:3])\n",
    "\n",
    "# Now we construct the 4x4 tracking transformation. \n",
    "Cam_T_PntRef = mu.construct_rigid_transformation(Cam_T_PntRef_r, Cam_T_PntRef_t)\n",
    "print(\"Cam_T_PntRef=\\n\" + str(Cam_T_PntRef))"
   ]
  },
  {
   "cell_type": "markdown",
   "metadata": {},
   "source": [
    "#### PatRef_T_Cam"
   ]
  },
  {
   "cell_type": "markdown",
   "metadata": {},
   "source": [
    "We have the original patient reference in patient reference coordinates"
   ]
  },
  {
   "cell_type": "code",
   "execution_count": 55,
   "metadata": {},
   "outputs": [
    {
     "data": {
      "text/plain": [
       "array([[  0.  ,   0.  ,   0.  ,   1.  ],\n",
       "       [  0.  ,  28.59,  41.02,   1.  ],\n",
       "       [  0.  ,   0.  ,  88.  ,   1.  ],\n",
       "       [  0.  , -44.32,  40.45,   1.  ]])"
      ]
     },
     "execution_count": 55,
     "metadata": {},
     "output_type": "execute_result"
    }
   ],
   "source": [
    "pat_ref"
   ]
  },
  {
   "cell_type": "markdown",
   "metadata": {},
   "source": [
    "Similarly to the pointer reference, we want to get it in camera coordinates so we can get the transform between the two\n"
   ]
  },
  {
   "cell_type": "markdown",
   "metadata": {},
   "source": [
    "We start with the reference at the same scale but swapping the necessary axes"
   ]
  },
  {
   "cell_type": "code",
   "execution_count": 56,
   "metadata": {},
   "outputs": [
    {
     "data": {
      "text/plain": [
       "array([[  0.  ,   0.  ,   0.  ,   1.  ],\n",
       "       [  0.  ,  41.02,  28.59,   1.  ],\n",
       "       [  0.  ,  88.  ,   0.  ,   1.  ],\n",
       "       [  0.  ,  40.45, -44.32,   1.  ]])"
      ]
     },
     "execution_count": 56,
     "metadata": {},
     "output_type": "execute_result"
    }
   ],
   "source": [
    "pat_ref_in_camera_space"
   ]
  },
  {
   "cell_type": "markdown",
   "metadata": {},
   "source": [
    "And we then move the reference so that it is at the correct position- both away from the camera and relative to the patient"
   ]
  },
  {
   "cell_type": "code",
   "execution_count": 57,
   "metadata": {},
   "outputs": [],
   "source": [
    "# translation to correct place relative to patient\n",
    "translate_along_negative_y = create_transform([0, -cancer_patref_y, 0, 0, 0, 0])\n",
    "# composing transformation of translation relative to patient and translation away from the camera (which was calculated previously)\n",
    "positioning_pat_ref_transform = translate_along_negative_y @ translate_away_from_camera\n",
    "\n",
    "# moving all patient reference points by the calculated translation\n",
    "pat_ref_in_camera_space_at_patient = multiply_points_by_matrix(positioning_pat_ref_transform, pat_ref_in_camera_space, do_transpose=True)\n"
   ]
  },
  {
   "cell_type": "markdown",
   "metadata": {},
   "source": [
    "So now we have the patient reference both in reference coordinates and in camera coordinates."
   ]
  },
  {
   "cell_type": "code",
   "execution_count": 58,
   "metadata": {},
   "outputs": [
    {
     "name": "stdout",
     "output_type": "stream",
     "text": [
      "Patient ref, in model coordinates=\n",
      "[[  0.     0.     0.     1.  ]\n",
      " [  0.    28.59  41.02   1.  ]\n",
      " [  0.     0.    88.     1.  ]\n",
      " [  0.   -44.32  40.45   1.  ]]\n",
      "Patient ref, in camera coordinates=\n",
      "[[ 0.00000e+00 -5.00000e+01  1.00000e+03  1.00000e+00]\n",
      " [ 0.00000e+00 -8.98000e+00  1.02859e+03  1.00000e+00]\n",
      " [ 0.00000e+00  3.80000e+01  1.00000e+03  1.00000e+00]\n",
      " [ 0.00000e+00 -9.55000e+00  9.55680e+02  1.00000e+00]]\n"
     ]
    }
   ],
   "source": [
    "print(\"Patient ref, in model coordinates=\\n\" + str(pat_ref))\n",
    "print(\"Patient ref, in camera coordinates=\\n\" + str(pat_ref_in_camera_space_at_patient))"
   ]
  },
  {
   "cell_type": "markdown",
   "metadata": {},
   "source": [
    "Therefore we can get the transformation between the two by matching the points"
   ]
  },
  {
   "cell_type": "code",
   "execution_count": 59,
   "metadata": {},
   "outputs": [
    {
     "name": "stdout",
     "output_type": "stream",
     "text": [
      "Cam_T_PatRef=\n",
      "[[-1.00000000e+00  0.00000000e+00  0.00000000e+00  0.00000000e+00]\n",
      " [ 0.00000000e+00  3.46944695e-17  1.00000000e+00 -5.00000000e+01]\n",
      " [ 0.00000000e+00  1.00000000e+00 -9.02056208e-17  1.00000000e+03]\n",
      " [ 0.00000000e+00  0.00000000e+00  0.00000000e+00  1.00000000e+00]]\n"
     ]
    }
   ],
   "source": [
    "# First we compute the tracking transformation.\n",
    "Cam_T_PatRef_r, Cam_T_PatRef_t, _ = pro.orthogonal_procrustes(pat_ref_in_camera_space_at_patient[:,0:3], pat_ref[:,0:3])\n",
    "\n",
    "# And then construct the corresponding 4x4 tracking transformation. \n",
    "Cam_T_PatRef = mu.construct_rigid_transformation(Cam_T_PatRef_r, Cam_T_PatRef_t)\n",
    "print(\"Cam_T_PatRef=\\n\" + str(Cam_T_PatRef))\n"
   ]
  },
  {
   "cell_type": "markdown",
   "metadata": {},
   "source": [
    "#### MRI_T_PatRef"
   ]
  },
  {
   "cell_type": "markdown",
   "metadata": {},
   "source": [
    "Finally we have the transformation between the patient reference and the MRI"
   ]
  },
  {
   "cell_type": "code",
   "execution_count": 60,
   "metadata": {
    "scrolled": true
   },
   "outputs": [
    {
     "name": "stdout",
     "output_type": "stream",
     "text": [
      "PatRef_T_MRI=\n",
      "[[   1.    0.    0. -100.]\n",
      " [   0.    1.    0. -130.]\n",
      " [   0.    0.    1.  -80.]\n",
      " [   0.    0.    0.    1.]]\n"
     ]
    }
   ],
   "source": [
    "# Average head dimensions from: https://en.wikipedia.org/wiki/Human_head\n",
    "\n",
    "x_t = 100 # head length (about 20cm)\n",
    "y_t = 130 # menton to top of head (about 25cm)\n",
    "z_t = 80 # head bredth (about 15cm)\n",
    "\n",
    "PatRef_T_MRI = create_transform([-x_t, -y_t, -z_t, 0, 0, 0])\n",
    "print(\"PatRef_T_MRI=\\n\" + str(PatRef_T_MRI))"
   ]
  },
  {
   "cell_type": "markdown",
   "metadata": {},
   "source": [
    "#### Trying these transformations out"
   ]
  },
  {
   "cell_type": "code",
   "execution_count": 63,
   "metadata": {},
   "outputs": [
    {
     "name": "stdout",
     "output_type": "stream",
     "text": [
      "PntRef_T_PntEnd=\n",
      " [[ 1.  0.  0.  0.]\n",
      " [ 0.  1.  0.  0.]\n",
      " [ 0.  0.  1. 10.]\n",
      " [ 0.  0.  0.  1.]]\n",
      "Cam_T_PntRef=\n",
      " [[ 1.59218830e-16 -7.07106781e-01  7.07106781e-01  7.10542736e-15]\n",
      " [-1.92482452e-16  7.07106781e-01  7.07106781e-01  0.00000000e+00]\n",
      " [-1.00000000e+00 -2.77555756e-16  0.00000000e+00  1.00000000e+03]\n",
      " [ 0.00000000e+00  0.00000000e+00  0.00000000e+00  1.00000000e+00]]\n",
      "Cam_T_PatRef=\n",
      " [[-1.00000000e+00  0.00000000e+00  0.00000000e+00  0.00000000e+00]\n",
      " [ 0.00000000e+00  3.46944695e-17  1.00000000e+00 -5.00000000e+01]\n",
      " [ 0.00000000e+00  1.00000000e+00 -9.02056208e-17  1.00000000e+03]\n",
      " [ 0.00000000e+00  0.00000000e+00  0.00000000e+00  1.00000000e+00]]\n",
      "PatRef_T_MRI=\n",
      " [[   1.    0.    0. -100.]\n",
      " [   0.    1.    0. -130.]\n",
      " [   0.    0.    1.  -80.]\n",
      " [   0.    0.    0.    1.]]\n"
     ]
    }
   ],
   "source": [
    "print('PntRef_T_PntEnd=\\n', PntRef_T_PntEnd)\n",
    "print('Cam_T_PntRef=\\n', Cam_T_PntRef)\n",
    "print('Cam_T_PatRef=\\n', Cam_T_PatRef)\n",
    "print('PatRef_T_MRI=\\n', PatRef_T_MRI)\n"
   ]
  },
  {
   "cell_type": "markdown",
   "metadata": {},
   "source": [
    "# Simulation 1: Effect of tracking noise on pointer tip accuracy.\n",
    "\n",
    "Here we add random noise to the location of the tracking markers (pointer and patient ref) and see how far tip position moves relative to the tumour.\n",
    "\n",
    "### Pseudo code\n",
    "\n",
    "* initialise some arrays to store accuracy data, so we can then compute mean/stddev.\n",
    "* for sigma in 0.1 to 1, in steps of 0.1\n",
    "*   for iteration in 1 to 10,000.\n",
    "*     add zero mean Gaussian(sigma) noise to each tracking marker. \n",
    "*     recompute transforms.\n",
    "*     recompute position of pointer tip\n",
    "*     measure Euclidean distance in MRI space\n",
    "* \n",
    "*   compute RMS error over each iteration\n",
    "* produce graph of RMS (TRE) for each value of sigma\n"
   ]
  },
  {
   "cell_type": "code",
   "execution_count": 20,
   "metadata": {},
   "outputs": [
    {
     "data": {
      "image/png": "[encoded data removed]",
      "text/plain": [
       "<Figure size 432x288 with 1 Axes>"
      ]
     },
     "metadata": {
      "needs_background": "light"
     },
     "output_type": "display_data"
    }
   ],
   "source": [
    "number_samples = 1000\n",
    "x_values = []\n",
    "y_values = []\n",
    "for sigma_counter in range(0, 10, 1):\n",
    "    sigma = float(sigma_counter) / float(10)\n",
    "    rms = 0\n",
    "    for i in range(number_samples):\n",
    "        tmp_pointer = add_noise_to_points(pnt_ref_in_camera_space_at_patient[0:4,0:3], sigma) # Mustn't include pointer tip! \n",
    "        tmp_ref = add_noise_to_points(pat_ref_in_camera_space_at_patient[:,0:3], sigma)\n",
    "        \n",
    "        R, t, FRE = pro.orthogonal_procrustes(tmp_pointer, pnt_ref_with_tip[0:4, 0:3])\n",
    "        tmp_pointer_to_cam = mu.construct_rigid_transformation(R, t)\n",
    "        \n",
    "        R, t, FRE = pro.orthogonal_procrustes(tmp_ref, pat_ref[0:4, 0:3])\n",
    "        tmp_reference_to_cam = mu.construct_rigid_transformation(R, t)\n",
    "        \n",
    "        pointer_tip_in_mri_space = pointer_to_mri(tmp_pointer_to_cam, tmp_reference_to_cam, PatRef_T_MRI, origin)\n",
    "        \n",
    "        # euclid_dist is x^2+y^2+x^2\n",
    "        euclid_dist =  (pointer_tip_in_mri_space[0] - tumour_in_mri_space[0]) \\\n",
    "                     * (pointer_tip_in_mri_space[0] - tumour_in_mri_space[0]) \\\n",
    "                     + (pointer_tip_in_mri_space[1] - tumour_in_mri_space[1]) \\\n",
    "                     * (pointer_tip_in_mri_space[1] - tumour_in_mri_space[1]) \\\n",
    "                     + (pointer_tip_in_mri_space[2] - tumour_in_mri_space[2]) \\\n",
    "                     * (pointer_tip_in_mri_space[2] - tumour_in_mri_space[2])\n",
    "        \n",
    "        rms = rms + euclid_dist\n",
    "    rms = rms / float(number_samples)\n",
    "    rms = np.sqrt(rms)\n",
    "    x_values.append(sigma)\n",
    "    y_values.append(rms)\n",
    "    \n",
    "plt.plot(x_values, y_values, 'r', label='TRE (mm)')\n",
    "plt.legend(loc='upper left')\n",
    "plt.xlabel('sigma (pixels)')\n",
    "plt.ylabel('TRE (mm)')\n",
    "plt.show()\n",
    "        \n",
    "\n",
    "        \n",
    "        "
   ]
  },
  {
   "cell_type": "markdown",
   "metadata": {},
   "source": [
    "# Other Experiments?\n",
    "\n",
    "Can add other experiments here. What is the effect of changing the length of the pointer? Or distance from tracker?\n",
    "\n",
    "If I wanted to test how critical the MR to PatRef registration was, I'd create 4 points in CT space and multiply them by PatRef_T_MRI to get the same 4 points in the patient reference space. This isn't an ICP obviously. You'd just have to have a set of points that sort of represent what might be 4 fiducials on the surface of a head. Then you can do the same type of simulation as above, simulating progressively worse fiducial based registration. That's probably enough."
   ]
  },
  {
   "cell_type": "markdown",
   "metadata": {},
   "source": [
    "# Simulation 2: Effect of pointer length\n",
    "\n",
    "Here we change the length of the pointer to see what the corresponding TRE is.\n",
    "\n",
    "### Pseudo code\n",
    "\n",
    "\"\"\" ------ to change\n",
    "* initialise some arrays to store accuracy data, so we can then compute mean/stddev.\n",
    "* for sigma in 0.1 to 1, in steps of 0.1\n",
    "*   for iteration in 1 to 10,000.\n",
    "*     add zero mean Gaussian(sigma) noise to each tracking marker. \n",
    "*     recompute transforms.\n",
    "*     recompute position of pointer tip\n",
    "*     measure Euclidean distance in MRI space\n",
    "* \n",
    "*   compute RMS error over each iteration\n",
    "* produce graph of RMS (TRE) for each value of sigma\n",
    "\"\"\""
   ]
  },
  {
   "cell_type": "code",
   "execution_count": 79,
   "metadata": {},
   "outputs": [],
   "source": [
    "def get_transforms(pnt_ref,pnt_ref_in_camera_space, pat_ref,pat_ref_in_camera_space, pointer_length = 100,pointer_angle = 45, distance_from_cam = 1000, cancer_patref_y = 50  , x_t = 100, y_t = 130, z_t = 80, sigma=False):\n",
    "    \n",
    "    # pointer_length = 100 - P - length from tip of pointer to reference of pointer\n",
    "    # distance_from_cam = 1000 # D - z distance from camera to plane where everything is located- (since the camera and patient reference are aligned in the x and y directions, only distance is in z)\n",
    "    # pointer_angle = 45 - angle of pointer\n",
    "    # cancer_patref_y = 50 - distances from cancer to patient reference\n",
    "    \n",
    "    ############ Pointer end to pointer reference\n",
    "    PntRef_T_PntEnd = get_Ref_T_End(pointer_length, 'z')\n",
    "    # pointer reference in endoscopic coordinates\n",
    "    pnt_ref_transformed = multiply_points_by_matrix(PntRef_T_PntEnd, pnt_ref, do_transpose=True) # transform all pointer points by this transform\n",
    "    \n",
    "    ############# Pointer reference to camera\n",
    "    # pointer reference in camera space \n",
    "    offset_pointer_transform_cam = get_Ref_T_End(pointer_length, 'x')\n",
    "    pnt_ref_in_camera_space_offset = multiply_points_by_matrix(offset_pointer_transform_cam, pnt_ref_in_camera_space, do_transpose=True)\n",
    "    # transforms to position reference correctly\n",
    "    rotate_about_z = create_transform([0, 0, 0, 0, 0, pointer_angle]) \n",
    "    translate_away_from_camera = create_transform([0, 0, distance_from_cam, 0, 0, 0])\n",
    "    rotate_translate = translate_away_from_camera @ rotate_about_z  # composing the 2 transformations\n",
    "    # final camera position\n",
    "    pnt_ref_in_camera_space_transformed = multiply_points_by_matrix(rotate_translate, pnt_ref_in_camera_space_offset, do_transpose=True)\n",
    "    # ADDING NOISE\n",
    "    if sigma:\n",
    "        pnt_ref_in_camera_space_transformed = add_noise_to_points(pnt_ref_in_camera_space_transformed[:,0:3], sigma)\n",
    "    # and now we get the transformation\n",
    "    Cam_T_PntRef_r, Cam_T_PntRef_t, _ = pro.orthogonal_procrustes(pnt_ref_in_camera_space_transformed[:,0:3], pnt_ref_transformed[:,0:3])\n",
    "    # Now we construct the 4x4 tracking transformation. \n",
    "    Cam_T_PntRef = mu.construct_rigid_transformation(Cam_T_PntRef_r, Cam_T_PntRef_t)\n",
    "    \n",
    "    ############# Camera to patient reference\n",
    "    # translation to correct place relative to patient\n",
    "    translate_along_negative_y = create_transform([0, -cancer_patref_y, 0, 0, 0, 0])\n",
    "    # composing transformation of translation relative to patient and translation away from the camera (which was calculated previously)\n",
    "    positioning_pat_ref_transform = translate_along_negative_y @ translate_away_from_camera\n",
    "    # moving all patient reference points by the calculated translation\n",
    "    pat_ref_in_camera_space_at_patient = multiply_points_by_matrix(positioning_pat_ref_transform, pat_ref_in_camera_space, do_transpose=True)\n",
    "    if sigma:\n",
    "        pat_ref_in_camera_space_at_patient = add_noise_to_points(pat_ref_in_camera_space_at_patient[:,0:3], sigma)\n",
    "    # First we compute the tracking transformation.\n",
    "    Cam_T_PatRef_r, Cam_T_PatRef_t, _ = pro.orthogonal_procrustes(pat_ref_in_camera_space_at_patient[:,0:3], pat_ref[:,0:3])\n",
    "    # And then construct the corresponding 4x4 tracking transformation. \n",
    "    Cam_T_PatRef = mu.construct_rigid_transformation(Cam_T_PatRef_r, Cam_T_PatRef_t)\n",
    "    PatRef_T_Cam = np.linalg.inv(Cam_T_PatRef)                                                                  \n",
    "\n",
    "    \n",
    "    ############# Patient reference to MRI                                                       \n",
    "    PatRef_T_MRI = create_transform([-x_t, -y_t, -z_t, 0, 0, 0])\n",
    "    MRI_T_PatRef = np.linalg.inv(PatRef_T_MRI)      \n",
    "                                                                  \n",
    "    return PntRef_T_PntEnd, Cam_T_PntRef, PatRef_T_Cam, MRI_T_PatRef\n",
    "    "
   ]
  },
  {
   "cell_type": "code",
   "execution_count": 82,
   "metadata": {},
   "outputs": [],
   "source": [
    "x_values = []\n",
    "y_values = []\n",
    "sigma = 0.9\n",
    "\n",
    "for pointer_length in range(10, 30, 1):\n",
    "    PntRef_T_PntEnd, Cam_T_PntRef, PatRef_T_Cam, MRI_T_PatRef = get_transforms(pnt_ref,pnt_ref_in_camera_space, pat_ref,pat_ref_in_camera_space, pointer_length = 100)\n",
    "    \n",
    "    # adding noise\n",
    "    rms = 0\n",
    "    for i in range(number_samples):\n",
    "        #pnt_ref_noisy = add_noise_to_points(pnt_ref, sigma) \n",
    "        #pat_ref_noisy = add_noise_to_points(pat_ref, sigma)\n",
    "        \n",
    "        PntRef_T_PntEnd, Cam_T_PntRef, PatRef_T_Cam, MRI_T_PatRef = get_transforms(pnt_ref,pnt_ref_in_camera_space, pat_ref,pat_ref_in_camera_space, pointer_length = 100)\n",
    "    \n",
    "        pointer_tip_in_mri_space = pointer_to_mri(Cam_T_PntRef, np.linalg.inv(PatRef_T_Cam), PatRef_T_MRI, origin)\n",
    "        \n",
    "        euclid_dist =  (pointer_tip_in_mri_space[0] - tumour_in_mri_space[0]) \\\n",
    "                     * (pointer_tip_in_mri_space[0] - tumour_in_mri_space[0]) \\\n",
    "                     + (pointer_tip_in_mri_space[1] - tumour_in_mri_space[1]) \\\n",
    "                     * (pointer_tip_in_mri_space[1] - tumour_in_mri_space[1]) \\\n",
    "                     + (pointer_tip_in_mri_space[2] - tumour_in_mri_space[2]) \\\n",
    "                     * (pointer_tip_in_mri_space[2] - tumour_in_mri_space[2])\n",
    "    \n",
    "        rms = rms + euclid_dist\n",
    "    rms = rms / float(number_samples)\n",
    "    rms = np.sqrt(rms)\n",
    "    x_values.append(pointer_length)\n",
    "    y_values.append(rms)\n",
    "    \n",
    "    \n",
    "    \n",
    "    \n"
   ]
  },
  {
   "cell_type": "code",
   "execution_count": 83,
   "metadata": {},
   "outputs": [
    {
     "data": {
      "image/png": "[encoded data removed]",
      "text/plain": [
       "<Figure size 432x288 with 1 Axes>"
      ]
     },
     "metadata": {
      "needs_background": "light"
     },
     "output_type": "display_data"
    }
   ],
   "source": [
    "plt.plot(x_values, y_values, 'r', label='TRE (mm)')\n",
    "plt.legend(loc='upper left')\n",
    "plt.xlabel('sigma (pixels)')\n",
    "plt.ylabel('TRE (mm)')\n",
    "plt.show()"
   ]
  },
  {
   "cell_type": "code",
   "execution_count": null,
   "metadata": {},
   "outputs": [],
   "source": []
  }
 ],
 "metadata": {
  "kernelspec": {
   "display_name": "Python 3 (ipykernel)",
   "language": "python",
   "name": "python3"
  },
  "language_info": {
   "codemirror_mode": {
    "name": "ipython",
    "version": 3
   },
   "file_extension": ".py",
   "mimetype": "text/x-python",
   "name": "python",
   "nbconvert_exporter": "python",
   "pygments_lexer": "ipython3",
   "version": "3.8.12"
  }
 },
 "nbformat": 4,
 "nbformat_minor": 1
}