{
 "cells": [
  {
   "cell_type": "markdown",
   "metadata": {},
   "source": [
    "## REGISTRATION AND TRACKING OF POINTER IN CT SCAN\n",
    "\n",
    "\n",
    "\n",
    "\n"
   ]
  },
  {
   "cell_type": "code",
   "execution_count": 1,
   "metadata": {
    "pycharm": {
     "is_executing": true,
     "name": "#%%\n"
    }
   },
   "outputs": [],
   "source": [
    "import numpy as np\n",
    "\n",
    "from matplotlib import pyplot as plt\n",
    "import sksurgerycore.algorithms.procrustes as pro\n",
    "import sksurgerycore.transforms.matrix as mu\n"
   ]
  },
  {
   "cell_type": "code",
   "execution_count": 2,
   "metadata": {
    "pycharm": {
     "name": "#%%\n"
    }
   },
   "outputs": [],
   "source": [
    "def centre_transform(T, origin):\n",
    "    T1 = np.eye(4)\n",
    "    T1[0:3,3]= np.array(origin) # translation of origin to centre of image\n",
    "    T2 = np.linalg.inv(T1) # inverse translation back to origina location\n",
    "\n",
    "    centred_transform = np.dot(T1, np.dot( T , T2 ))\n",
    "    centred_transform[0:3, 3] += T[0:3, 3]\n",
    "    return centred_transform\n",
    "\n",
    "def get_transform(T, origin):\n",
    "\n",
    "    THom = np.eye(4)\n",
    "\n",
    "    THom[0,3] = T[0]\n",
    "    THom[1,3] = T[1]\n",
    "    THom[2,3] = T[2]\n",
    "\n",
    "    # defining rotation in x\n",
    "    theta_x = T[3] * np.pi /180\n",
    "    rotX = np.eye(4)\n",
    "    if theta_x != 0:\n",
    "        rotX[1, 1] = np.cos(theta_x)\n",
    "        rotX[2, 2] = np.cos(theta_x)\n",
    "        rotX[2, 1] = np.sin(theta_x)\n",
    "        rotX[1, 2] = -np.sin(theta_x)\n",
    "\n",
    "    # defining rotation in y\n",
    "    theta_y = T[4] * np.pi /180\n",
    "    rotY = np.eye(4)\n",
    "    if theta_y != 0:\n",
    "        rotY[0, 0] = np.cos(theta_y)\n",
    "        rotY[2, 2] = np.cos(theta_y)\n",
    "        rotY[0, 2] = np.sin(theta_y)\n",
    "        rotY[2, 0] = -np.sin(theta_y)\n",
    "\n",
    "    # defining rotation in z\n",
    "    theta_z = T[5] * np.pi /180\n",
    "    rotZ = np.eye(4)\n",
    "    if theta_z != 0:\n",
    "        rotZ[0, 0] = np.cos(theta_z  )\n",
    "        rotZ[1, 1] = np.cos(theta_z )\n",
    "        rotZ[1, 0] = np.sin(theta_z )\n",
    "        rotZ[0, 1] = -np.sin(theta_z )\n",
    "\n",
    "    # combining rotation matrices with translation to rotate around centre\n",
    "    rotations = centre_transform(rotX @ rotY @ rotZ, origin)\n",
    "\n",
    "    # scaling\n",
    "    S = np.eye(4)\n",
    "    if len(T)==7:\n",
    "        # making 3 values at diagonals scale factor\n",
    "        S = S * T[6]\n",
    "        S[-1,-1] = 1\n",
    "        S = centre_transform(S, origin)\n",
    "\n",
    "    # multiplying all these matrices to get final transform\n",
    "    THom = THom @ S @ rotations\n",
    "    return THom"
   ]
  },
  {
   "cell_type": "markdown",
   "metadata": {},
   "source": [
    "![img](./images/pointer_setup.png)"
   ]
  },
  {
   "cell_type": "markdown",
   "metadata": {},
   "source": [
    "In the above image, we can see the general setup involved in the surgery when using a pointer. The goal is to be able to display the pointer in image coordinates as we can see in the image below:\n",
    "\n",
    "![pointer on MRI](./images/MRI_pointer.png)"
   ]
  },
  {
   "cell_type": "markdown",
   "metadata": {},
   "source": [
    "The goal is therefore turning the pointer's coordinates to MRI coordinates.\n",
    "\n",
    "X<sub>MRI</sub> = T X<sub>PntEnd</sub>\n",
    "\n",
    "where T are the transformations involved in turning from the pointer's point to the MRI coordinates. These transformations are the following:\n",
    "\n",
    "T = <sup>MRI</sup>T<sub>PatRef</sub> * \n",
    "    <sup>PatRef</sup>T<sub>Cam</sub>  * \n",
    "    <sup>Cam</sup>T<sub>PntRef</sub> * \n",
    "    <sup>PntRef</sup>T<sub>endP</sub>\n",
    "    \n",
    "In the following sections we will go step by step on how to go from each of these transforms"
   ]
  },
  {
   "cell_type": "markdown",
   "metadata": {},
   "source": [
    "Here is an image with all the transforms:\n",
    "\n",
    "![pointer setup with transforms](./images/pointer_setup_transforms.png)"
   ]
  },
  {
   "cell_type": "markdown",
   "metadata": {},
   "source": [
    "# ASSUMPTIONS / SETUP"
   ]
  },
  {
   "cell_type": "markdown",
   "metadata": {},
   "source": [
    "1. Cancer, patient reference, pointer reference are all aligned in z direction (have same z coordinate) and are facing the camera straight on so that the distance is D\n",
    "\n",
    "2. Patient reference is at a set distance Yc from the cancer but aligned in the X direction\n",
    "\n",
    "3. pointer is touching the cancer, so the pointer and cancer have the same coordinates\n",
    "\n",
    "4. Length of pointer is known\n",
    "\n",
    "5. Angle of pointer is known"
   ]
  },
  {
   "cell_type": "markdown",
   "metadata": {},
   "source": [
    "![pointer assumptions from sagittal view](./images/pointer_setup_assumptions_sagittal.png)\n",
    "![pointer assumptions from transverse view](./images/pointer_setup_assumptions_transverse.png)"
   ]
  },
  {
   "cell_type": "code",
   "execution_count": 3,
   "metadata": {
    "pycharm": {
     "name": "#%%\n"
    }
   },
   "outputs": [],
   "source": [
    "# ALL MEASUREMENTS IN MM\n",
    "\n",
    "# P - length from tip of pointer to reference of pointer\n",
    "pointer_length = 100\n",
    "\n",
    "# D - z distance from camera to plane where everything is located\n",
    "distance_from_cam = 1000 # since the camera and patient reference are aligned in the x and y directions, only distance is in z\n",
    "\n",
    "# 0 - angle of pointer\n",
    "pointer_angle = 45\n",
    "\n",
    "# Yc- distances from cancer to patient reference\n",
    "cancer_patref_y = 50  # Yc\n",
    "# Zc and Yc would be 0 as the patient reference and cancer are aligned"
   ]
  },
  {
   "cell_type": "markdown",
   "metadata": {},
   "source": [
    "# 1. Point reference to camera coordinates\n",
    "\n",
    "Here is an image of the pointer with its reference:\n",
    "\n",
    "![pointer image](./images/pointer_image.png)\n",
    "![pointer image](./images/pointer_geometry.png)\n",
    "\n",
    "In our case, let us assume we already know what the length of the pointer is."
   ]
  },
  {
   "cell_type": "code",
   "execution_count": 4,
   "metadata": {
    "pycharm": {
     "name": "#%%\n"
    },
    "scrolled": true
   },
   "outputs": [
    {
     "name": "stdout",
     "output_type": "stream",
     "text": [
      "pointer length is: 100mm\n"
     ]
    }
   ],
   "source": [
    "print(f'pointer length is: {pointer_length}mm' )"
   ]
  },
  {
   "cell_type": "markdown",
   "metadata": {},
   "source": [
    "Original pointer reference coordinates"
   ]
  },
  {
   "cell_type": "code",
   "execution_count": 5,
   "metadata": {
    "pycharm": {
     "name": "#%%\n"
    },
    "scrolled": true
   },
   "outputs": [
    {
     "name": "stdout",
     "output_type": "stream",
     "text": [
      "[[  0.   0.   0.]\n",
      " [  0.   0.  50.]\n",
      " [  0.  25. 100.]\n",
      " [  0. -25. 135.]]\n"
     ]
    },
    {
     "data": {
      "image/png": "[encoded data removed]",
      "text/plain": [
       "<Figure size 432x288 with 1 Axes>"
      ]
     },
     "metadata": {
      "needs_background": "light"
     },
     "output_type": "display_data"
    }
   ],
   "source": [
    "# pointer reference (from datasheet)\n",
    "pnt_ref =  np.zeros((4, 3))\n",
    "pnt_ref[1][2] = 50\n",
    "pnt_ref[2][1] = 25\n",
    "pnt_ref[2][2] = 100\n",
    "pnt_ref[3][1] = -25\n",
    "pnt_ref[3][2] = 135\n",
    "print(pnt_ref)\n",
    "\n",
    "# plotting original points\n",
    "plt.figure()\n",
    "plt.plot(pnt_ref[:,1],pnt_ref[:,2], marker='*',linestyle = 'None',)\n",
    "plt.title('markers on pointer in pointer coordinates')\n",
    "plt.xlabel('y')\n",
    "plt.ylabel('z')\n",
    "plt.gca().set_aspect('equal', adjustable='box')\n",
    "\n",
    "plt.show()\n"
   ]
  },
  {
   "cell_type": "markdown",
   "metadata": {},
   "source": [
    "TRANSFORMING POINTER COORDS FROM POINTER END"
   ]
  },
  {
   "cell_type": "code",
   "execution_count": 6,
   "metadata": {
    "pycharm": {
     "name": "#%%\n"
    },
    "scrolled": false
   },
   "outputs": [
    {
     "name": "stdout",
     "output_type": "stream",
     "text": [
      "[[  0.   0. 100.]\n",
      " [  0.   0. 150.]\n",
      " [  0.  25. 200.]\n",
      " [  0. -25. 235.]]\n"
     ]
    },
    {
     "data": {
      "image/png": "[encoded data removed]",
      "text/plain": [
       "<Figure size 432x288 with 1 Axes>"
      ]
     },
     "metadata": {
      "needs_background": "light"
     },
     "output_type": "display_data"
    }
   ],
   "source": [
    "# adding pointer length to each coords in z direction\n",
    "pnt_ref_transformed = np.copy(pnt_ref)\n",
    "pnt_ref_transformed[:,2]+=pointer_length\n",
    "print(pnt_ref_transformed)\n",
    "\n",
    "# adding pointer end to matrix of pointer coords to better visualise on a plot\n",
    "pnt_tip = np.array([[0,0,0]])\n",
    "pnt_ref_with_tip = np.concatenate((pnt_ref_transformed, pnt_tip), axis=0)\n",
    "\n",
    "plt.figure()\n",
    "plt.plot(pnt_ref_with_tip[:,1],pnt_ref_with_tip[:,2], marker='*',linestyle = 'None',)\n",
    "plt.title('markers on pointer in PntRef coordinates')\n",
    "plt.xlabel('y')\n",
    "plt.ylabel('z')\n",
    "plt.gca().set_aspect('equal', adjustable='box')\n",
    "\n",
    "plt.show()"
   ]
  },
  {
   "cell_type": "markdown",
   "metadata": {},
   "source": [
    "## Here is now the transformation between the pointer's tip coordinates to the marker coordinates (<sup>pntRef</sup> T <sub>endP</sub>)"
   ]
  },
  {
   "cell_type": "code",
   "execution_count": 7,
   "metadata": {
    "scrolled": true
   },
   "outputs": [
    {
     "name": "stdout",
     "output_type": "stream",
     "text": [
      "[[ 1.00000000e+00  0.00000000e+00  0.00000000e+00]\n",
      " [ 0.00000000e+00  1.00000000e+00 -4.16333634e-17]\n",
      " [ 0.00000000e+00  0.00000000e+00  1.00000000e+00]]\n",
      "[[ 0.00000000e+00]\n",
      " [ 7.12971349e-15]\n",
      " [-1.00000000e+02]]\n",
      "7.485857825702899e-15\n"
     ]
    }
   ],
   "source": [
    "# getting the transformation from pointer's end coordinates to marker coordinates\n",
    "R_endP_endRef, t_endP_endRef, FRE_endP_endRef = pro.orthogonal_procrustes(pnt_ref, pnt_ref_transformed)\n",
    "print(R_endP_endRef) # should be no rotation\n",
    "print(t_endP_endRef) # should be a translation of the length of the pinter in the z direction\n",
    "print(FRE_endP_endRef)"
   ]
  },
  {
   "cell_type": "markdown",
   "metadata": {},
   "source": [
    "# 2. MARKER'S COORDINATES TO CAMERA COORDINATES"
   ]
  },
  {
   "cell_type": "markdown",
   "metadata": {},
   "source": [
    "GENERATING 3D ROTATION"
   ]
  },
  {
   "cell_type": "code",
   "execution_count": 8,
   "metadata": {
    "pycharm": {
     "name": "#%%\n"
    }
   },
   "outputs": [
    {
     "name": "stdout",
     "output_type": "stream",
     "text": [
      "[[ 1.          0.          0.          0.        ]\n",
      " [ 0.          0.70710678 -0.70710678  0.        ]\n",
      " [ 0.          0.70710678  0.70710678  0.        ]]\n",
      "[[  0.   0. 100.]\n",
      " [  0.   0. 150.]\n",
      " [  0.  25. 200.]\n",
      " [  0. -25. 235.]]\n",
      "[[   0.          -70.71067812   70.71067812    0.        ]\n",
      " [   0.         -106.06601718  106.06601718    0.        ]\n",
      " [   0.         -123.74368671  159.09902577    0.        ]\n",
      " [   0.         -183.84776311  148.49242405    0.        ]]\n"
     ]
    },
    {
     "data": {
      "image/png": "[encoded data removed]",
      "text/plain": [
       "<Figure size 432x288 with 1 Axes>"
      ]
     },
     "metadata": {
      "needs_background": "light"
     },
     "output_type": "display_data"
    }
   ],
   "source": [
    "# setting transform and origin of rotation\n",
    "T = [0,0,0,45,0,0] #([Tx, Ty, Tz, Rx, Ry, Rz])\n",
    "origin = [0, 0 , 0]\n",
    "\n",
    "# getting homogenous transformation\n",
    "THom = get_transform(T,origin)\n",
    "print(THom[:3, :])\n",
    "print(pnt_ref_transformed)\n",
    "\n",
    "# transforming with this transform\n",
    "transformed_pointer = (THom[:,:3] @ pnt_ref_transformed.T).T\n",
    "print(transformed_pointer)\n",
    "\n",
    "# plotting result\n",
    "\n",
    "plt.figure()\n",
    "plt.plot(transformed_pointer[:,1],transformed_pointer[:,2], marker='*',linestyle = 'None',)\n",
    "plt.title('markers on pointer in pointer coordinates')\n",
    "plt.xlabel('y')\n",
    "plt.ylabel('x')\n",
    "plt.gca().set_aspect('equal', adjustable='box')\n",
    "\n",
    "plt.show()"
   ]
  },
  {
   "cell_type": "markdown",
   "metadata": {},
   "source": [
    "TRANDFORMING TO CAMERA COORDINATES"
   ]
  },
  {
   "cell_type": "code",
   "execution_count": 9,
   "metadata": {},
   "outputs": [
    {
     "name": "stdout",
     "output_type": "stream",
     "text": [
      "[[   0.          -70.71067812   70.71067812 1000.        ]\n",
      " [   0.         -106.06601718  106.06601718 1000.        ]\n",
      " [   0.         -123.74368671  159.09902577 1000.        ]\n",
      " [   0.         -183.84776311  148.49242405 1000.        ]]\n"
     ]
    }
   ],
   "source": [
    "# turning z axis to D\n",
    "transformed_pointer[0:4,3] = distance_from_cam\n",
    "print(transformed_pointer)"
   ]
  },
  {
   "cell_type": "markdown",
   "metadata": {},
   "source": [
    "### Now getting pointer reference point in camera coordinates <sup>Cam</sup>T<sub>PntRef</sub>"
   ]
  },
  {
   "cell_type": "code",
   "execution_count": 10,
   "metadata": {},
   "outputs": [
    {
     "name": "stdout",
     "output_type": "stream",
     "text": [
      "[[ 0.          0.          1.        ]\n",
      " [ 0.70710678  0.70710678  0.        ]\n",
      " [-0.70710678  0.70710678  0.        ]]\n",
      "[[-1.00000000e+03]\n",
      " [-1.42108547e-14]\n",
      " [ 8.52651283e-14]]\n",
      "2.6822400070865448e-14\n"
     ]
    }
   ],
   "source": [
    "# getting the transformation from pointer's marker coords to camera coordinates\n",
    "\n",
    "R_endRef_cam, t_endRef_cam, FRE_endRef_cam = pro.orthogonal_procrustes(pnt_ref_transformed , transformed_pointer[:,1:])\n",
    "print(R_endRef_cam)\n",
    "print(t_endRef_cam)\n",
    "print(FRE_endRef_cam)"
   ]
  },
  {
   "cell_type": "markdown",
   "metadata": {},
   "source": [
    "# 2. CT TO WORLD COORDINATES"
   ]
  },
  {
   "cell_type": "markdown",
   "metadata": {},
   "source": [
    "In order to convert CT coordinates to camera coordinates, we typically would take the marker and move it over the surface of the patient's head. We then use an ICP algorithm to match the two surfaces- of the points on the face and those on the CT."
   ]
  },
  {
   "cell_type": "markdown",
   "metadata": {},
   "source": [
    "We assume however for the purpose of this simulation that we know the transformation from the CT to camera coordinates. We assume the CT scan coordinates are translated by a certain amount from the patient coordinates.\n",
    "\n",
    "![MRI to camera coordinates](./images/3D_to_cam.png)"
   ]
  },
  {
   "cell_type": "code",
   "execution_count": 33,
   "metadata": {},
   "outputs": [
    {
     "name": "stdout",
     "output_type": "stream",
     "text": [
      "[[  1.   0.   0. -10.]\n",
      " [  0.   1.   0. -13.]\n",
      " [  0.   0.   1.  -8.]\n",
      " [  0.   0.   0.   1.]]\n"
     ]
    }
   ],
   "source": [
    "# average head dimensions from: https://en.wikipedia.org/wiki/Human_head\n",
    "x = 10 # head length (about 20)\n",
    "y = 13 # menton to top of head (about 25)\n",
    "z = -8 # head bredth (about 15)\n",
    "translations = [-x,-y,z, 0, 0, 0]\n",
    "cam_to_MRI = get_transform(translations, origin)\n",
    "print(cam_to_MRI)"
   ]
  },
  {
   "cell_type": "markdown",
   "metadata": {},
   "source": [
    "### Getting camera to MRI transform <sup>MRI</sup>T<sub>Cam</sub>"
   ]
  },
  {
   "cell_type": "code",
   "execution_count": 44,
   "metadata": {},
   "outputs": [
    {
     "name": "stdout",
     "output_type": "stream",
     "text": [
      "[[1. 0. 0.]\n",
      " [0. 1. 0.]\n",
      " [0. 0. 1.]]\n",
      "[[-10.]\n",
      " [-13.]\n",
      " [ -8.]]\n"
     ]
    }
   ],
   "source": [
    "R_cam_MRI = cam_to_MRI[:3,:3]\n",
    "t_cam_MRI = np.array([cam_to_MRI[:3,3]]).T\n",
    "print(R_cam_MRI)\n",
    "print(t_cam_MRI)"
   ]
  },
  {
   "cell_type": "code",
   "execution_count": 67,
   "metadata": {},
   "outputs": [
    {
     "name": "stdout",
     "output_type": "stream",
     "text": [
      "[[   0    0 1000]]\n",
      "[[-10. -13. 992.]]\n"
     ]
    }
   ],
   "source": [
    "point_in_cam = np.array([[0,0,distance_from_cam]])\n",
    "print(point_in_cam)\n",
    "point_in_MRI = ((R_cam_MRI@point_in_cam.T) + t_cam_MRI).T\n",
    "print(point_in_MRI)"
   ]
  },
  {
   "cell_type": "markdown",
   "metadata": {},
   "source": [
    "# to complete the whole transformation\n"
   ]
  },
  {
   "cell_type": "code",
   "execution_count": 59,
   "metadata": {},
   "outputs": [
    {
     "data": {
      "text/plain": [
       "array([[0, 0, 0]])"
      ]
     },
     "execution_count": 59,
     "metadata": {},
     "output_type": "execute_result"
    }
   ],
   "source": [
    "# we start with a point in pointer's end coordinates- eg. the cancer is touching the pointer's end\n",
    "cancer_pointer = np.array([[0,0,0]])\n",
    "cancer_pointer"
   ]
  },
  {
   "cell_type": "code",
   "execution_count": 60,
   "metadata": {},
   "outputs": [
    {
     "name": "stdout",
     "output_type": "stream",
     "text": [
      "[[ 0.00000000e+00  7.12971349e-15 -1.00000000e+02]]\n"
     ]
    }
   ],
   "source": [
    "# go to pointer's marker coords\n",
    "cancer_marker = ((R_endP_endRef@cancer_pointer.T) + t_endP_endRef).T\n",
    "print(cancer_marker)"
   ]
  },
  {
   "cell_type": "code",
   "execution_count": 61,
   "metadata": {},
   "outputs": [
    {
     "name": "stdout",
     "output_type": "stream",
     "text": [
      "[[-1.10000000e+03 -9.16938596e-15  9.03065970e-14]]\n"
     ]
    }
   ],
   "source": [
    "# now from marker to world\n",
    "cancer_world = (np.matmul(R_endRef_cam, np.transpose(cancer_marker)) + t_endRef_cam).T\n",
    "print(cancer_world)"
   ]
  },
  {
   "cell_type": "code",
   "execution_count": 65,
   "metadata": {},
   "outputs": [
    {
     "name": "stdout",
     "output_type": "stream",
     "text": [
      "[-1110.   -13.    -8.]\n"
     ]
    }
   ],
   "source": [
    "# finally from world to ct\n",
    "#pointer_CT = (np.matmul(ct_to_pat[:,:3], np.transpose(point_in_cam)) + t_cam_CT).T\n",
    "#print(cancer_world)\n",
    "#cancer_world_new = np.concatenate((cancer_world, np.array([[1]])), axis=1)\n",
    "#cancer_CT = ct_to_pat@cancer_world_new.T \n",
    "#print(cancer_CT)\n",
    "\n",
    "cancer_MRI = (np.matmul(R_cam_MRI, np.transpose(cancer_world)) + t_cam_MRI).T\n",
    "cancer_MRI = cancer_MRI[0]\n"
   ]
  },
  {
   "cell_type": "code",
   "execution_count": 69,
   "metadata": {},
   "outputs": [
    {
     "name": "stdout",
     "output_type": "stream",
     "text": [
      "[-1110.   -13.    -8.]\n",
      "[[-10. -13. 992.]]\n"
     ]
    }
   ],
   "source": [
    "print(cancer_MRI)\n",
    "print(point_in_MRI)"
   ]
  },
  {
   "cell_type": "code",
   "execution_count": 68,
   "metadata": {},
   "outputs": [
    {
     "ename": "IndexError",
     "evalue": "index 1 is out of bounds for axis 0 with size 1",
     "output_type": "error",
     "traceback": [
      "\u001B[0;31m---------------------------------------------------------------------------\u001B[0m",
      "\u001B[0;31mIndexError\u001B[0m                                Traceback (most recent call last)",
      "\u001B[0;32m/var/folders/f8/9ykhlb9n76gfpx7n7jd6pjxr0000gn/T/ipykernel_5463/2218574823.py\u001B[0m in \u001B[0;36m<module>\u001B[0;34m\u001B[0m\n\u001B[1;32m      1\u001B[0m \u001B[0mplt\u001B[0m\u001B[0;34m.\u001B[0m\u001B[0mplot\u001B[0m\u001B[0;34m(\u001B[0m\u001B[0mcancer_MRI\u001B[0m\u001B[0;34m[\u001B[0m\u001B[0;36m1\u001B[0m\u001B[0;34m]\u001B[0m\u001B[0;34m,\u001B[0m \u001B[0mcancer_MRI\u001B[0m\u001B[0;34m[\u001B[0m\u001B[0;36m2\u001B[0m\u001B[0;34m]\u001B[0m\u001B[0;34m,\u001B[0m \u001B[0mmarker\u001B[0m\u001B[0;34m=\u001B[0m\u001B[0;34m'*'\u001B[0m\u001B[0;34m)\u001B[0m\u001B[0;34m\u001B[0m\u001B[0;34m\u001B[0m\u001B[0m\n\u001B[0;32m----> 2\u001B[0;31m \u001B[0mplt\u001B[0m\u001B[0;34m.\u001B[0m\u001B[0mplot\u001B[0m\u001B[0;34m(\u001B[0m\u001B[0mpoint_in_MRI\u001B[0m\u001B[0;34m[\u001B[0m\u001B[0;36m1\u001B[0m\u001B[0;34m]\u001B[0m\u001B[0;34m,\u001B[0m \u001B[0mpoint_in_MRI\u001B[0m\u001B[0;34m[\u001B[0m\u001B[0;36m2\u001B[0m\u001B[0;34m]\u001B[0m\u001B[0;34m,\u001B[0m \u001B[0mmarker\u001B[0m\u001B[0;34m=\u001B[0m\u001B[0;34m'^'\u001B[0m\u001B[0;34m)\u001B[0m\u001B[0;34m\u001B[0m\u001B[0;34m\u001B[0m\u001B[0m\n\u001B[0m\u001B[1;32m      3\u001B[0m \u001B[0mplt\u001B[0m\u001B[0;34m.\u001B[0m\u001B[0mxlabel\u001B[0m\u001B[0;34m(\u001B[0m\u001B[0;34m'y'\u001B[0m\u001B[0;34m)\u001B[0m\u001B[0;34m\u001B[0m\u001B[0;34m\u001B[0m\u001B[0m\n\u001B[1;32m      4\u001B[0m \u001B[0mplt\u001B[0m\u001B[0;34m.\u001B[0m\u001B[0mylabel\u001B[0m\u001B[0;34m(\u001B[0m\u001B[0;34m'z'\u001B[0m\u001B[0;34m)\u001B[0m\u001B[0;34m\u001B[0m\u001B[0;34m\u001B[0m\u001B[0m\n\u001B[1;32m      5\u001B[0m \u001B[0mplt\u001B[0m\u001B[0;34m.\u001B[0m\u001B[0mshow\u001B[0m\u001B[0;34m(\u001B[0m\u001B[0;34m)\u001B[0m\u001B[0;34m\u001B[0m\u001B[0;34m\u001B[0m\u001B[0m\n",
      "\u001B[0;31mIndexError\u001B[0m: index 1 is out of bounds for axis 0 with size 1"
     ]
    },
    {
     "data": {
      "image/png": "[encoded data removed]",
      "text/plain": [
       "<Figure size 432x288 with 1 Axes>"
      ]
     },
     "metadata": {
      "needs_background": "light"
     },
     "output_type": "display_data"
    }
   ],
   "source": [
    "plt.plot(cancer_MRI[0], cancer_MRI[1], marker='*')\n",
    "plt.plot(point_in_MRI[0], point_in_MRI[1], marker='^')\n",
    "plt.xlabel('y')\n",
    "plt.ylabel('z')\n",
    "plt.show()"
   ]
  },
  {
   "cell_type": "code",
   "execution_count": 20,
   "metadata": {},
   "outputs": [
    {
     "data": {
      "image/png": "[encoded data removed]",
      "text/plain": [
       "<Figure size 432x288 with 1 Axes>"
      ]
     },
     "metadata": {
      "needs_background": "light"
     },
     "output_type": "display_data"
    }
   ],
   "source": [
    "plt.plot(cancer_CT[0], cancer_CT[2], marker='*')\n",
    "plt.plot(point_in_MRI[0], pointer_CT[2], marker='^')\n",
    "\n",
    "plt.xlabel('x')\n",
    "plt.ylabel('z')\n",
    "plt.show()"
   ]
  },
  {
   "cell_type": "code",
   "execution_count": null,
   "metadata": {},
   "outputs": [],
   "source": []
  },
  {
   "cell_type": "code",
   "execution_count": null,
   "metadata": {},
   "outputs": [],
   "source": []
  },
  {
   "cell_type": "code",
   "execution_count": null,
   "metadata": {},
   "outputs": [],
   "source": []
  },
  {
   "cell_type": "code",
   "execution_count": null,
   "metadata": {},
   "outputs": [],
   "source": []
  },
  {
   "cell_type": "code",
   "execution_count": null,
   "metadata": {},
   "outputs": [],
   "source": []
  },
  {
   "cell_type": "code",
   "execution_count": null,
   "metadata": {},
   "outputs": [],
   "source": []
  },
  {
   "cell_type": "code",
   "execution_count": null,
   "metadata": {},
   "outputs": [],
   "source": []
  },
  {
   "cell_type": "code",
   "execution_count": null,
   "metadata": {},
   "outputs": [],
   "source": []
  },
  {
   "cell_type": "code",
   "execution_count": null,
   "metadata": {},
   "outputs": [],
   "source": []
  },
  {
   "cell_type": "code",
   "execution_count": null,
   "metadata": {},
   "outputs": [],
   "source": []
  },
  {
   "cell_type": "code",
   "execution_count": null,
   "metadata": {},
   "outputs": [],
   "source": []
  },
  {
   "cell_type": "code",
   "execution_count": null,
   "metadata": {},
   "outputs": [],
   "source": []
  },
  {
   "cell_type": "code",
   "execution_count": null,
   "metadata": {},
   "outputs": [],
   "source": []
  },
  {
   "cell_type": "code",
   "execution_count": null,
   "metadata": {},
   "outputs": [],
   "source": []
  },
  {
   "cell_type": "markdown",
   "metadata": {},
   "source": [
    "# PATIENT REFERENCE\n",
    "\n",
    "![real patient reference](./images/real_pat_ref.png)"
   ]
  },
  {
   "cell_type": "markdown",
   "metadata": {},
   "source": [
    "![patient reference coordinates](./images/pointer_patref_marker.png)"
   ]
  },
  {
   "cell_type": "code",
   "execution_count": 21,
   "metadata": {},
   "outputs": [],
   "source": [
    "# defining reference coordibates in ref coords\n",
    "#A: x=0.00, y= 0.00, z=0.00 \n",
    "#B: x=0.00, y= 28.59, z=41.02 \n",
    "#C: x=0.00, y= 00.00, z=88.00 \n",
    "#D: x=0.00, y=-44.32, z=40.45\n",
    "    \n",
    "# encoding the robot reference marker points into a numpy mattrix\n",
    "pat_ref = np.zeros((4, 3)) \n",
    "pat_ref[1][1] = 28.59 \n",
    "pat_ref[1][2] = 41.02 \n",
    "pat_ref[2][2] = 88 \n",
    "pat_ref[3][1] = -44.32 \n",
    "pat_ref[3][2] = 40.45\n",
    "\n"
   ]
  },
  {
   "cell_type": "markdown",
   "metadata": {},
   "source": [
    "TRANSFORMING PATIENT REFERENCE COORDINATES TO CAMERA COORDINATES\n",
    "\n",
    "- we assume the patient reference centre is at the same level as the cancer and so the x coordinates are the same\n",
    "- the distance in y direction between cancer and reference is known\n",
    "\n",
    "\n",
    "![reminder of patient reference assumptions](./images/pat_ref_assumptions.png)"
   ]
  },
  {
   "cell_type": "code",
   "execution_count": 22,
   "metadata": {
    "scrolled": true
   },
   "outputs": [
    {
     "name": "stdout",
     "output_type": "stream",
     "text": [
      "[[  0.     0.     0.  ]\n",
      " [  0.    28.59  41.02]\n",
      " [  0.     0.    88.  ]\n",
      " [  0.   -44.32  40.45]]\n"
     ]
    }
   ],
   "source": [
    "print(pat_ref)"
   ]
  },
  {
   "cell_type": "code",
   "execution_count": 23,
   "metadata": {},
   "outputs": [
    {
     "name": "stdout",
     "output_type": "stream",
     "text": [
      "marker points in camera coordinates:\n",
      "[[  0.     0.     0.  ]\n",
      " [  0.    28.59  41.02]\n",
      " [  0.     0.    88.  ]\n",
      " [  0.   -44.32  40.45]]\n",
      "[[   0.    -50.   1000.  ]\n",
      " [   0.    -21.41 1041.02]\n",
      " [   0.    -50.   1088.  ]\n",
      " [   0.    -94.32 1040.45]]\n"
     ]
    },
    {
     "data": {
      "image/png": "[encoded data removed]",
      "text/plain": [
       "<Figure size 432x288 with 1 Axes>"
      ]
     },
     "metadata": {
      "needs_background": "light"
     },
     "output_type": "display_data"
    }
   ],
   "source": [
    "# Defining the 3 marker points in CT coordinates\n",
    "image_points = np.zeros((4,3))\n",
    "# position of markers along z axis is the same\n",
    "z_offset = 200\n",
    "\n",
    "pat_ref_cam = np.copy(pat_ref)\n",
    "# x-axis stays as 0 for every point\n",
    "\n",
    "# y-axis- adding Yc to all points in reference\n",
    "pat_ref_cam[:,1] -= cancer_patref_y\n",
    "\n",
    "#z-axis- adding to all points the distance D\n",
    "pat_ref_cam[:,2] += distance_from_cam \n",
    "\n",
    "print('marker points in camera coordinates:') \n",
    "print(pat_ref)\n",
    "print(pat_ref_cam)\n",
    "# Draw them in 2D. Its a triangle.\n",
    "plt.scatter(pat_ref[:,1],pat_ref[:,2] ) \n",
    "plt.xlabel('y')\n",
    "plt.ylabel('z')\n",
    "plt.title('markers as seen on camera')\n",
    "plt.show()"
   ]
  },
  {
   "cell_type": "markdown",
   "metadata": {},
   "source": [
    "DEFINING PATIENT REFERENCE COORDINATES ON CT\n",
    "\n",
    "-typical sizes for x and y is 256 by 256\n",
    "\n",
    "![](./images/CT_assumptions.png)"
   ]
  },
  {
   "cell_type": "code",
   "execution_count": 24,
   "metadata": {},
   "outputs": [],
   "source": [
    "Y_cancer = 20\n",
    "Y_cancer_ref = 100\n",
    "Y_ref = 10\n",
    "\n",
    "X_cancer_ref = 128 #(half-way through image)\n",
    "X_ref = (0.5*72.91/0.5*88)*Y_ref # since the patient reference is rigid, the geometry needs to match\n",
    "\n",
    "slice_num = 200"
   ]
  },
  {
   "cell_type": "code",
   "execution_count": 25,
   "metadata": {},
   "outputs": [
    {
     "name": "stdout",
     "output_type": "stream",
     "text": [
      "[[   128.     120.     200. ]\n",
      " [-64032.8    130.     200. ]\n",
      " [   128.     140.     200. ]\n",
      " [ 64288.8    130.     200. ]]\n"
     ]
    },
    {
     "data": {
      "image/png": "[encoded data removed]",
      "text/plain": [
       "<Figure size 432x288 with 1 Axes>"
      ]
     },
     "metadata": {
      "needs_background": "light"
     },
     "output_type": "display_data"
    }
   ],
   "source": [
    "pat_ref_CT = np.zeros((4, 3)) \n",
    "\n",
    "# z of all markers is the same as they are in the same slice\n",
    "pat_ref_CT[:,2] = 200\n",
    "\n",
    "# this is the top marker (A)\n",
    "pat_ref_CT[0,0] = X_cancer_ref # x\n",
    "pat_ref_CT[0,1] = Y_cancer + Y_cancer_ref # y\n",
    "\n",
    "# this is the left marker (B)\n",
    "pat_ref_CT[1,0] = X_cancer_ref-X_ref # x\n",
    "pat_ref_CT[1,1] = Y_cancer + Y_cancer_ref+Y_ref # y\n",
    "\n",
    "# this is the bottom marker (C)\n",
    "pat_ref_CT[2,0] = X_cancer_ref # x\n",
    "pat_ref_CT[2,1] = Y_cancer + Y_cancer_ref + 2*Y_ref # y\n",
    "\n",
    "# this is the right marker (D)\n",
    "pat_ref_CT[3,0] = X_cancer_ref + X_ref # x\n",
    "pat_ref_CT[3,1] = Y_cancer + Y_cancer_ref + Y_ref # y\n",
    "\n",
    "print(pat_ref_CT) \n",
    "\n",
    "plt.scatter(pat_ref_CT[:,0],pat_ref_CT[:,1] ) \n",
    "plt.xlabel('y')\n",
    "plt.ylabel('z')\n",
    "plt.title('markers as seen on camera')\n",
    "plt.show()"
   ]
  },
  {
   "cell_type": "markdown",
   "metadata": {},
   "source": [
    "GETTING TRANSFORM FROM CAMERA COORDINATES -> CT COORDINATES\n"
   ]
  },
  {
   "cell_type": "code",
   "execution_count": 26,
   "metadata": {},
   "outputs": [
    {
     "name": "stdout",
     "output_type": "stream",
     "text": [
      "\n",
      "transformation from patref in camera to CT coordinates\n",
      "Rotation:\n",
      "[[-1.93879049e-22 -9.99969453e-01 -7.81614848e-03]\n",
      " [-1.31838984e-16 -7.81614848e-03  9.99969453e-01]\n",
      " [-1.00000000e+00 -2.22051390e-16  4.33682006e-16]]\n",
      "Translation:\n",
      "[[  82.2164466 ]\n",
      " [-912.75720369]\n",
      " [ 200.        ]]\n",
      "FRE:\n",
      "45342.76497464919\n"
     ]
    }
   ],
   "source": [
    "# getting transform to go from patient reference in camera to patient reference in CT coords\n",
    "R_cam_CT, t_cam_CT, FRE_cam_CT = pro.orthogonal_procrustes(pat_ref_CT , pat_ref_cam )\n",
    "\n",
    "# Print matrices.\n",
    "print('')\n",
    "print('transformation from patref in camera to CT coordinates') \n",
    "print(\"Rotation:\" )\n",
    "print(R_cam_CT)\n",
    "print(\"Translation:\" )\n",
    "print(t_cam_CT)\n",
    "print(\"FRE:\")\n",
    "print(FRE_cam_CT)"
   ]
  },
  {
   "cell_type": "code",
   "execution_count": 27,
   "metadata": {},
   "outputs": [],
   "source": [
    "patref_in_CT_coordinates = (np.matmul(R_cam_CT, np.transpose(pat_ref_cam)) + t_cam_CT).T"
   ]
  },
  {
   "cell_type": "code",
   "execution_count": 28,
   "metadata": {},
   "outputs": [
    {
     "name": "stdout",
     "output_type": "stream",
     "text": [
      "[[   128.     120.     200. ]\n",
      " [-64032.8    130.     200. ]\n",
      " [   128.     140.     200. ]\n",
      " [ 64288.8    130.     200. ]]\n",
      "[[124.3987708   87.60305718 200.        ]\n",
      " [ 95.48902571 128.39834047 200.        ]\n",
      " [123.71094973 175.60036908 200.        ]\n",
      " [168.40125377 128.39823327 200.        ]]\n"
     ]
    }
   ],
   "source": [
    "print(pat_ref_CT)\n",
    "print(patref_in_CT_coordinates)"
   ]
  },
  {
   "cell_type": "code",
   "execution_count": 29,
   "metadata": {},
   "outputs": [
    {
     "data": {
      "image/png": "[encoded data removed]",
      "text/plain": [
       "<Figure size 432x288 with 1 Axes>"
      ]
     },
     "metadata": {
      "needs_background": "light"
     },
     "output_type": "display_data"
    }
   ],
   "source": [
    "plt.figure()\n",
    "plt.scatter(pat_ref_CT[:,0],pat_ref_CT[:,1], label='CT' ) \n",
    "plt.scatter(patref_in_CT_coordinates[:,1], patref_in_CT_coordinates[:,0] , label='transformed') \n",
    "\n",
    "plt.legend();\n",
    "plt.xlabel('x')\n",
    "plt.ylabel('y')\n",
    "plt.title('registration between camera to CT coords')\n",
    "plt.show()"
   ]
  },
  {
   "cell_type": "markdown",
   "metadata": {},
   "source": [
    "# POINTER LOCATION IN CT COORDINATES"
   ]
  },
  {
   "cell_type": "code",
   "execution_count": 30,
   "metadata": {},
   "outputs": [
    {
     "name": "stdout",
     "output_type": "stream",
     "text": [
      "[   0.    0. 1000.]\n"
     ]
    }
   ],
   "source": [
    "pointer_cam = np.zeros(3)\n",
    "pointer_cam[2] = distance_from_cam\n",
    "print(pointer_cam)"
   ]
  },
  {
   "cell_type": "code",
   "execution_count": 31,
   "metadata": {},
   "outputs": [],
   "source": [
    "pointer_CT = (np.matmul(R_cam_CT, np.transpose(pointer_cam)) + t_cam_CT).T"
   ]
  },
  {
   "cell_type": "code",
   "execution_count": null,
   "metadata": {},
   "outputs": [],
   "source": []
  },
  {
   "cell_type": "code",
   "execution_count": null,
   "metadata": {},
   "outputs": [],
   "source": []
  }
 ],
 "metadata": {
  "kernelspec": {
   "display_name": "Python 3 (ipykernel)",
   "language": "python",
   "name": "python3"
  },
  "language_info": {
   "codemirror_mode": {
    "name": "ipython",
    "version": 3
   },
   "file_extension": ".py",
   "mimetype": "text/x-python",
   "name": "python",
   "nbconvert_exporter": "python",
   "pygments_lexer": "ipython3",
   "version": "3.8.12"
  }
 },
 "nbformat": 4,
 "nbformat_minor": 1
}