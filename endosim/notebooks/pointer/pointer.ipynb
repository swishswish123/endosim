{
 "cells": [
  {
   "cell_type": "code",
   "execution_count": 2,
   "metadata": {
    "pycharm": {
     "is_executing": true,
     "name": "#%%\n"
    }
   },
   "outputs": [],
   "source": [
    "import numpy as np\n",
    "\n",
    "from matplotlib import pyplot as plt"
   ]
  },
  {
   "cell_type": "code",
   "execution_count": 3,
   "metadata": {
    "pycharm": {
     "name": "#%%\n"
    }
   },
   "outputs": [],
   "source": [
    "def centre_transform(T, origin):\n",
    "    T1 = np.eye(4)\n",
    "    T1[0:3,3]= np.array(origin) # translation of origin to centre of image\n",
    "    T2 = np.linalg.inv(T1) # inverse translation back to origina location\n",
    "\n",
    "    centred_transform = np.dot(T1, np.dot( T , T2 ))\n",
    "    centred_transform[0:3, 3] += T[0:3, 3]\n",
    "    return centred_transform\n",
    "\n",
    "def get_transform(T, origin):\n",
    "\n",
    "    THom = np.eye(4)\n",
    "\n",
    "    THom[0,3] = T[0]\n",
    "    THom[1,3] = T[1]\n",
    "    THom[2,3] = T[2]\n",
    "\n",
    "    # defining rotation in x\n",
    "    theta_x = T[3] * np.pi /180\n",
    "    rotX = np.eye(4)\n",
    "    if theta_x != 0:\n",
    "        rotX[1, 1] = np.cos(theta_x)\n",
    "        rotX[2, 2] = np.cos(theta_x)\n",
    "        rotX[2, 1] = np.sin(theta_x)\n",
    "        rotX[1, 2] = -np.sin(theta_x)\n",
    "\n",
    "    # defining rotation in y\n",
    "    theta_y = T[4] * np.pi /180\n",
    "    rotY = np.eye(4)\n",
    "    if theta_y != 0:\n",
    "        rotY[0, 0] = np.cos(theta_y)\n",
    "        rotY[2, 2] = np.cos(theta_y)\n",
    "        rotY[0, 2] = np.sin(theta_y)\n",
    "        rotY[2, 0] = -np.sin(theta_y)\n",
    "\n",
    "    # defining rotation in z\n",
    "    theta_z = T[5] * np.pi /180\n",
    "    rotZ = np.eye(4)\n",
    "    if theta_z != 0:\n",
    "        rotZ[0, 0] = np.cos(theta_z  )\n",
    "        rotZ[1, 1] = np.cos(theta_z )\n",
    "        rotZ[1, 0] = np.sin(theta_z )\n",
    "        rotZ[0, 1] = -np.sin(theta_z )\n",
    "\n",
    "    # combining rotation matrices with translation to rotate around centre\n",
    "    rotations = centre_transform(rotX @ rotY @ rotZ, origin)\n",
    "\n",
    "    # scaling\n",
    "    S = np.eye(4)\n",
    "    if len(T)==7:\n",
    "        # making 3 values at diagonals scale factor\n",
    "        S = S * T[6]\n",
    "        S[-1,-1] = 1\n",
    "        S = centre_transform(S, origin)\n",
    "\n",
    "    # multiplying all these matrices to get final transform\n",
    "    THom = THom @ S @ rotations\n",
    "    return THom"
   ]
  },
  {
   "cell_type": "markdown",
   "metadata": {},
   "source": [
    "## REGISTRATION AND TRACKING OF POINTER IN CT SCAN\n",
    "\n",
    "\n",
    "\n",
    "\n"
   ]
  },
  {
   "cell_type": "markdown",
   "metadata": {},
   "source": [
    "![img](./images/pointer_setup.png)"
   ]
  },
  {
   "cell_type": "markdown",
   "metadata": {},
   "source": [
    "In the above image, we can see the general setup involved in the surgery when using a pointer. The goal is to be able to display the pointer in image coordinates as we can see in the image below:\n",
    "\n",
    "![pointer on MRI](./images/MRI_pointer.png)"
   ]
  },
  {
   "cell_type": "markdown",
   "metadata": {},
   "source": [
    "The goal is therefore turning the pointer's coordinates to MRI coordinates.\n",
    "\n",
    "Xmri = T XendP\n",
    "\n",
    "where T are the transformations involved in turning from the pointer's point to the MRI coordinates. These transformations are the following:\n",
    "\n",
    "T = MRI<-T<-PatRef * PatRef<-T<-Cam  * Cam<-T<-PntRef * PntRef<-T<-endP\n",
    "\n",
    "In the following sections we will go step by step on how to go from each of these transforms"
   ]
  },
  {
   "cell_type": "markdown",
   "metadata": {},
   "source": [
    "Here is an image with all the transforms:\n",
    "\n",
    "![pointer setup with transforms](./images/pointer_setup_transforms.png)"
   ]
  },
  {
   "cell_type": "markdown",
   "metadata": {},
   "source": [
    "# ASSUMPTIONS / SETUP"
   ]
  },
  {
   "cell_type": "markdown",
   "metadata": {},
   "source": [
    "1. Cancer, patient reference, pointer reference are all aligned in z direction (have same z coordinate) and are facing the camera straight on so that the distance is D\n",
    "\n",
    "2. Patient reference is at a set distance Yc from the cancer but aligned in the X direction\n",
    "\n",
    "3. pointer is touching the cancer, so the pointer and cancer have the same coordinates\n",
    "\n",
    "4. Length of pointer is known\n",
    "\n",
    "5. Angle of pointer is known"
   ]
  },
  {
   "cell_type": "code",
   "execution_count": 4,
   "metadata": {
    "pycharm": {
     "name": "#%%\n"
    }
   },
   "outputs": [],
   "source": [
    "# ALL MEASUREMENTS IN MM\n",
    "\n",
    "# P - length from tip of pointer to reference of pointer\n",
    "pointer_length = 100\n",
    "\n",
    "# D - z distance from camera to plane where everything is located\n",
    "distance_from_cam = 1000 # since the camera and patient reference are aligned in the x and y directions, only distance is in z\n",
    "\n",
    "# 0 - angle of pointer\n",
    "pointer_angle = 45\n",
    "\n",
    "# Yc- distances from cancer to patient reference\n",
    "cancer_patref_y = 50  # Yc\n",
    "# Zc and Yc would be 0 as the patient reference and cancer are aligned"
   ]
  },
  {
   "cell_type": "markdown",
   "metadata": {},
   "source": [
    "# 1. Point reference to camera coordinates\n",
    "\n",
    "Here is an image of the pointer with its reference:\n",
    "\n",
    "![pointer image](./images/pointer_image.png)\n",
    "![pointer image](./images/pointer_geometry.png)\n",
    "\n",
    "In our case, let us assume we already know what the length of the pointer is."
   ]
  },
  {
   "cell_type": "code",
   "execution_count": 11,
   "metadata": {
    "pycharm": {
     "name": "#%%\n"
    }
   },
   "outputs": [
    {
     "name": "stdout",
     "output_type": "stream",
     "text": [
      "pointer length is: 100mm\n"
     ]
    }
   ],
   "source": [
    "print(f'pointer length is: {pointer_length}mm' )"
   ]
  },
  {
   "cell_type": "markdown",
   "metadata": {},
   "source": [
    "Original pointer reference coordinates"
   ]
  },
  {
   "cell_type": "code",
   "execution_count": 12,
   "metadata": {
    "pycharm": {
     "name": "#%%\n"
    }
   },
   "outputs": [
    {
     "name": "stdout",
     "output_type": "stream",
     "text": [
      "[[  0.   0.   0.]\n",
      " [  0.   0.  50.]\n",
      " [  0.  25. 100.]\n",
      " [  0. -25. 135.]]\n"
     ]
    },
    {
     "data": {
      "image/png": "[encoded data removed]",
      "text/plain": [
       "<Figure size 432x288 with 1 Axes>"
      ]
     },
     "metadata": {
      "needs_background": "light"
     },
     "output_type": "display_data"
    }
   ],
   "source": [
    "# pointer reference (from datasheet)\n",
    "pnt_ref =  np.zeros((4, 3))\n",
    "pnt_ref[1][2] = 50\n",
    "pnt_ref[2][1] = 25\n",
    "pnt_ref[2][2] = 100\n",
    "pnt_ref[3][1] = -25\n",
    "pnt_ref[3][2] = 135\n",
    "print(pnt_ref)\n",
    "\n",
    "# plotting original points\n",
    "plt.figure()\n",
    "plt.plot(pnt_ref[:,1],pnt_ref[:,2], marker='*',linestyle = 'None',)\n",
    "plt.title('markers on pointer in pointer coordinates')\n",
    "plt.xlabel('y')\n",
    "plt.ylabel('z')\n",
    "plt.gca().set_aspect('equal', adjustable='box')\n",
    "\n",
    "plt.show()\n"
   ]
  },
  {
   "cell_type": "markdown",
   "metadata": {},
   "source": [
    "TRANSFORMING TO COORDINATES FROM POINTER END"
   ]
  },
  {
   "cell_type": "code",
   "execution_count": 13,
   "metadata": {
    "pycharm": {
     "name": "#%%\n"
    }
   },
   "outputs": [
    {
     "name": "stdout",
     "output_type": "stream",
     "text": [
      "[[  0.   0. 100.]\n",
      " [  0.   0. 150.]\n",
      " [  0.  25. 200.]\n",
      " [  0. -25. 235.]\n",
      " [  0.   0.   0.]]\n"
     ]
    },
    {
     "data": {
      "image/png": "[encoded data removed]",
      "text/plain": [
       "<Figure size 432x288 with 1 Axes>"
      ]
     },
     "metadata": {
      "needs_background": "light"
     },
     "output_type": "display_data"
    }
   ],
   "source": [
    "# adding pointer length to each coords in z direction\n",
    "pnt_ref[:,2]+=pointer_length\n",
    "# adding pointer end to matrix of pointer coords\n",
    "pnt_tip = np.array([[0,0,0]])\n",
    "pnt_ref = np.concatenate((pnt_ref, pnt_tip), axis=0)\n",
    "print(pnt_ref)\n",
    "\n",
    "plt.figure()\n",
    "plt.plot(pnt_ref[:,1],pnt_ref[:,2], marker='*',linestyle = 'None',)\n",
    "plt.title('markers on pointer in pointer coordinates')\n",
    "plt.xlabel('y')\n",
    "plt.ylabel('z')\n",
    "plt.gca().set_aspect('equal', adjustable='box')\n",
    "\n",
    "plt.show()"
   ]
  },
  {
   "cell_type": "markdown",
   "metadata": {},
   "source": [
    "GENERATING 3D ROTATION"
   ]
  },
  {
   "cell_type": "code",
   "execution_count": 8,
   "metadata": {
    "pycharm": {
     "name": "#%%\n"
    }
   },
   "outputs": [
    {
     "name": "stdout",
     "output_type": "stream",
     "text": [
      "[[ 1.          0.          0.          0.        ]\n",
      " [ 0.          0.70710678 -0.70710678  0.        ]\n",
      " [ 0.          0.70710678  0.70710678  0.        ]]\n",
      "[[  0.   0.   0.   0.   0.]\n",
      " [  0.   0.  25. -25.   0.]\n",
      " [100. 150. 200. 235.   0.]]\n",
      "[[   0.          -70.71067812   70.71067812    0.        ]\n",
      " [   0.         -106.06601718  106.06601718    0.        ]\n",
      " [   0.         -123.74368671  159.09902577    0.        ]\n",
      " [   0.         -183.84776311  148.49242405    0.        ]\n",
      " [   0.            0.            0.            0.        ]]\n"
     ]
    },
    {
     "data": {
      "image/png": "[encoded data removed]",
      "text/plain": [
       "<Figure size 432x288 with 1 Axes>"
      ]
     },
     "metadata": {
      "needs_background": "light"
     },
     "output_type": "display_data"
    }
   ],
   "source": [
    "# setting transform and origin of rotation\n",
    "T = [0,0,0,45,0,0] #([Tx, Ty, Tz, Rx, Ry, Rz])\n",
    "origin = [0, 0 , 0]\n",
    "\n",
    "# getting homogenous transformation\n",
    "THom = get_transform(T,origin)\n",
    "print(THom[:3, :])\n",
    "print(pnt_ref.T)\n",
    "\n",
    "# transforming with this transform\n",
    "transformed_pointer = (THom[:,:3] @ pnt_ref.T).T\n",
    "print(transformed_pointer)\n",
    "\n",
    "# plotting result\n",
    "\n",
    "plt.figure()\n",
    "plt.plot(transformed_pointer[:,1],transformed_pointer[:,2], marker='*',linestyle = 'None',)\n",
    "plt.title('markers on pointer in pointer coordinates')\n",
    "plt.xlabel('y')\n",
    "plt.ylabel('z')\n",
    "plt.gca().set_aspect('equal', adjustable='box')\n",
    "\n",
    "plt.show()"
   ]
  },
  {
   "cell_type": "markdown",
   "metadata": {},
   "source": [
    "TRANDFORMING TO CAMERA COORDINATES"
   ]
  },
  {
   "cell_type": "code",
   "execution_count": 24,
   "metadata": {},
   "outputs": [
    {
     "name": "stdout",
     "output_type": "stream",
     "text": [
      "[[   0.          -70.71067812   70.71067812 1000.        ]\n",
      " [   0.         -106.06601718  106.06601718 1000.        ]\n",
      " [   0.         -123.74368671  159.09902577 1000.        ]\n",
      " [   0.         -183.84776311  148.49242405 1000.        ]\n",
      " [   0.            0.            0.            0.        ]]\n"
     ]
    }
   ],
   "source": [
    "# turning z axis to D\n",
    "transformed_pointer[0:4,3] = distance_from_cam\n",
    "print(transformed_pointer)"
   ]
  },
  {
   "cell_type": "code",
   "execution_count": null,
   "metadata": {},
   "outputs": [],
   "source": []
  },
  {
   "cell_type": "markdown",
   "metadata": {},
   "source": [
    "# PATIENT REFERENCE\n",
    "\n",
    "![real patient reference](./images/real_pat_ref.png)"
   ]
  },
  {
   "cell_type": "code",
   "execution_count": null,
   "metadata": {},
   "outputs": [],
   "source": []
  }
 ],
 "metadata": {
  "kernelspec": {
   "display_name": "Python 3 (ipykernel)",
   "language": "python",
   "name": "python3"
  },
  "language_info": {
   "codemirror_mode": {
    "name": "ipython",
    "version": 3
   },
   "file_extension": ".py",
   "mimetype": "text/x-python",
   "name": "python",
   "nbconvert_exporter": "python",
   "pygments_lexer": "ipython3",
   "version": "3.8.12"
  }
 },
 "nbformat": 4,
 "nbformat_minor": 1
}