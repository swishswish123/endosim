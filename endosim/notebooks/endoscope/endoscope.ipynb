{
 "cells": [
  {
   "cell_type": "code",
   "execution_count": 5,
   "metadata": {},
   "outputs": [],
   "source": [
    "\n",
    "import copy\n",
    "import numpy as np\n",
    "import cv2\n",
    "import random\n",
    "from scipy.spatial.transform import Rotation as spr\n",
    "from matplotlib import pyplot as plt\n",
    "import sksurgerycore.algorithms.procrustes as pro\n",
    "import sksurgerycore.transforms.matrix as mu\n"
   ]
  },
  {
   "cell_type": "code",
   "execution_count": 20,
   "metadata": {
    "pycharm": {
     "is_executing": true
    }
   },
   "outputs": [],
   "source": [
    "# ALL MEASUREMENTS IN MM\n",
    "\n",
    "# P - length from tip of pointer to reference of pointer\n",
    "pointer_length = 100\n",
    "\n",
    "# D - z distance from camera to plane where everything is located\n",
    "distance_from_cam = 1000 # since the camera and patient reference are aligned in the x and y directions, only distance is in z\n",
    "\n",
    "# 0 - angle of pointer\n",
    "pointer_angle = 45\n",
    "\n",
    "# Yc - distances from cancer to patient reference\n",
    "cancer_patref_y = 50  \n",
    "\n",
    "# NDI quotes 0.25mm for Polaris Spectra, some papers estimate it at 0.17mm\n",
    "typical_tracking_sigma = 0.25\n",
    "\n",
    "# For Model 2 and 3, using an endoscope, this determines the distance of a target of interest from the endoscope.\n",
    "working_distance = 50\n",
    "\n",
    "# For Model 2 and 3, the length of the endoscope.\n",
    "length_of_endoscope = 100 # use 300 after merging\n"
   ]
  },
  {
   "cell_type": "code",
   "execution_count": 21,
   "metadata": {
    "pycharm": {
     "name": "#%% import some utils functions\n"
    }
   },
   "outputs": [],
   "source": [
    "from end_utils import create_transform, \\\n",
    "                                  multiply_points_by_matrix, \\\n",
    "                                  multiply_point_by_matrix, pointer_to_mri,\\\n",
    "                                  camera_to_mri, mri_to_camera, add_noise_to_points,\\\n",
    "                                  add_noise_to_params, extract_rigid_body_parameters,\\\n",
    "                                  rigid_body_parameters_to_matrix, \\\n",
    "                                  convert_4x1_to_1x1x3, project_camera_point_to_image, \\\n",
    "                                  create_pnt_ref, create_pnt_ref_in_camera_space, create_pat_ref, \\\n",
    "                                  create_pat_ref_in_camera_space, get_ref_T_tip, calculate_euclid_dist\n",
    "\n"
   ]
  },
  {
   "cell_type": "markdown",
   "metadata": {
    "collapsed": true
   },
   "source": [
    "# Simulation 2: Accuracy of AR using tracked endoscope\n",
    "\n",
    "In Model 1, we studied the accuracy of measuring a point in 3D space, using a tracked pointer, and converting that to a point in the MR/CT scan, via registration.\n",
    "\n",
    "In Model 2, we want to study the accuracy of a tracked endoscope, and what the expected accuracy of an overlay will be. The overlay accuracy, could be measured in terms of accuracy in 3D in the endoscope camera frame, or in terms of 2D pixel accuracy.\n",
    "\n",
    "In order to make this a like-for-like comparison, we should keep most of the reference data identical. The difference now, is we swap a pointer for a laparoscope. We will need an additional hand-eye calibration, and reference data to project from camera space onto image space, but we leave all other data the same. \n",
    "\n",
    "![endoscope](./images/endoscope_setup.png)\n"
   ]
  },
  {
   "cell_type": "markdown",
   "metadata": {},
   "source": [
    "## EndP to EndRef\n",
    "\n",
    "We start by getting the transform between the endoscope's tip to the reference."
   ]
  },
  {
   "cell_type": "code",
   "execution_count": 22,
   "metadata": {
    "pycharm": {
     "is_executing": true
    }
   },
   "outputs": [
    {
     "name": "stdout",
     "output_type": "stream",
     "text": [
      "[[  0.   0.   0.   1.]\n",
      " [  0.   0.  50.   1.]\n",
      " [  0.  25. 100.   1.]\n",
      " [  0. -25. 135.   1.]]\n"
     ]
    },
    {
     "data": {
      "image/png": "[encoded data removed]",
      "text/plain": [
       "<Figure size 432x288 with 1 Axes>"
      ]
     },
     "metadata": {
      "needs_background": "light"
     },
     "output_type": "display_data"
    }
   ],
   "source": [
    "# Creating pointer reference (from datasheet). Using homogenous (4 numbers, x,y,z,1) as row vectors.\n",
    "end_ref =  create_pnt_ref()\n",
    "print(end_ref)\n",
    "\n",
    "# Plotting original points, to check it looks ok.\n",
    "plt.figure()\n",
    "plt.plot(end_ref[:,1],end_ref[:,2], marker='*',linestyle = 'None',)\n",
    "plt.title('markers on endoscope in endref coordinates')\n",
    "plt.xlabel('y')\n",
    "plt.ylabel('z')\n",
    "plt.gca().set_aspect('equal', adjustable='box')\n",
    "plt.show()"
   ]
  },
  {
   "cell_type": "code",
   "execution_count": 23,
   "metadata": {},
   "outputs": [
    {
     "data": {
      "image/png": "[encoded data removed]",
      "text/plain": [
       "<Figure size 432x288 with 1 Axes>"
      ]
     },
     "metadata": {
      "needs_background": "light"
     },
     "output_type": "display_data"
    }
   ],
   "source": [
    "# Here we offset the points by the length of the pointer to make the origin the endoscope's tip\n",
    "offset_marker_transform = get_ref_T_tip(length_of_endoscope, 'z') # create transform of all points depending on pointer's length\n",
    "end_ref_transformed = multiply_points_by_matrix(offset_marker_transform, end_ref, do_transpose=True) # transform all pointer points by this reference\n",
    "end_ref_with_tip = np.concatenate((end_ref_transformed, [[0, 0, 0, 1]]), axis=0) # adding tip to points\n",
    "\n",
    "\n",
    "# Plotting trabsformed points\n",
    "plt.figure()\n",
    "plt.plot(end_ref_with_tip[:,1],end_ref_with_tip[:,2], marker='*',linestyle = 'None',)\n",
    "plt.title('markers on endoscope in endP coordinates')\n",
    "plt.xlabel('y')\n",
    "plt.ylabel('z')\n",
    "plt.gca().set_aspect('equal', adjustable='box')\n",
    "plt.show()\n"
   ]
  },
  {
   "cell_type": "markdown",
   "metadata": {},
   "source": [
    "## EndRef to Cam"
   ]
  },
  {
   "cell_type": "code",
   "execution_count": 24,
   "metadata": {},
   "outputs": [
    {
     "name": "stdout",
     "output_type": "stream",
     "text": [
      "end_ref_in_camera_space_at_patient=\n",
      "[[  70.71067812   70.71067812 1000.            1.        ]\n",
      " [ 106.06601718  106.06601718 1000.            1.        ]\n",
      " [ 123.74368671  159.09902577 1000.            1.        ]\n",
      " [ 183.84776311  148.49242405 1000.            1.        ]\n",
      " [   0.            0.         1000.            1.        ]]\n"
     ]
    },
    {
     "data": {
      "image/png": "[encoded data removed]",
      "text/plain": [
       "<Figure size 432x288 with 1 Axes>"
      ]
     },
     "metadata": {
      "needs_background": "light"
     },
     "output_type": "display_data"
    }
   ],
   "source": [
    "end_ref_in_camera_space =  create_pnt_ref_in_camera_space()\n",
    "\n",
    "offset_marker_transform_cam = create_transform([pointer_length, 0, 0, 0, 0, 0])\n",
    "end_ref_in_camera_space_transformed = multiply_points_by_matrix(offset_marker_transform_cam, end_ref_in_camera_space, do_transpose=True)\n",
    "end_ref_in_camera_space_with_tip = np.concatenate((end_ref_in_camera_space_transformed, [[0, 0, 0, 1]]), axis=0)\n",
    "\n",
    "# Now we want to rotate around z (according to diagram above), then translate to a distance from camera.\n",
    "rotate_about_z = create_transform([0, 0, 0, 0, 0, pointer_angle]) \n",
    "translate_away_from_camera = create_transform([0, 0, distance_from_cam, 0, 0, 0])\n",
    "end_ref_in_camera_space_at_patient = multiply_points_by_matrix(translate_away_from_camera @ rotate_about_z, end_ref_in_camera_space_with_tip, do_transpose=True)\n",
    "print(\"end_ref_in_camera_space_at_patient=\\n\" + str(end_ref_in_camera_space_at_patient))\n",
    "\n",
    "\n",
    "# Plotting trabsformed points\n",
    "plt.figure()\n",
    "plt.plot(end_ref_in_camera_space_at_patient[:,0],end_ref_in_camera_space_at_patient[:,1], marker='*',linestyle = 'None',)\n",
    "plt.title('endoscope reference in camera coordinate system at position of patient')\n",
    "plt.xlabel('y')\n",
    "plt.ylabel('z')\n",
    "plt.gca().set_aspect('equal', adjustable='box')\n",
    "plt.show()"
   ]
  },
  {
   "cell_type": "code",
   "execution_count": 25,
   "metadata": {},
   "outputs": [
    {
     "name": "stdout",
     "output_type": "stream",
     "text": [
      "endoscope_markers_in_camera_space=\n",
      "[[  70.71067812   70.71067812 1000.        ]\n",
      " [ 106.06601718  106.06601718 1000.        ]\n",
      " [ 123.74368671  159.09902577 1000.        ]\n",
      " [ 183.84776311  148.49242405 1000.        ]]\n",
      "endoscope_markers_in_marker_space=\n",
      "[[  0.   0. 100.]\n",
      " [  0.   0. 150.]\n",
      " [  0.  25. 200.]\n",
      " [  0. -25. 235.]]\n"
     ]
    }
   ],
   "source": [
    "endoscope_markers_in_camera_space = end_ref_in_camera_space_at_patient[0:4,0:3]\n",
    "########## NOTE- IS THIS CORRECT? WOUDN'T IT JUST BE end_Ref? If it's in marker space the 0,0 should be in marker A?\n",
    "endoscope_markers_in_marker_space = end_ref_with_tip[0:4,0:3]\n",
    "\n",
    "print(\"endoscope_markers_in_camera_space=\\n\" + str(endoscope_markers_in_camera_space))\n",
    "print(\"endoscope_markers_in_marker_space=\\n\" + str(endoscope_markers_in_marker_space))\n"
   ]
  },
  {
   "cell_type": "markdown",
   "metadata": {},
   "source": [
    "Calculating transform between endoscope's marker space to camera space"
   ]
  },
  {
   "cell_type": "code",
   "execution_count": 26,
   "metadata": {},
   "outputs": [
    {
     "name": "stdout",
     "output_type": "stream",
     "text": [
      "Cam_T_EndRef_r=\n",
      "[[ 1.59218830e-16 -7.07106781e-01  7.07106781e-01]\n",
      " [-1.92482452e-16  7.07106781e-01  7.07106781e-01]\n",
      " [-1.00000000e+00 -2.77555756e-16  0.00000000e+00]]\n",
      "Cam_T_EndRef_t=\n",
      "[[2.84217094e-14]\n",
      " [0.00000000e+00]\n",
      " [1.00000000e+03]]\n",
      "Cam_T_Endo_FRE=\n",
      "1.2306961192854808e-14\n",
      "Cam_T_EndRef=\n",
      "[[ 1.59218830e-16 -7.07106781e-01  7.07106781e-01  2.84217094e-14]\n",
      " [-1.92482452e-16  7.07106781e-01  7.07106781e-01  0.00000000e+00]\n",
      " [-1.00000000e+00 -2.77555756e-16  0.00000000e+00  1.00000000e+03]\n",
      " [ 0.00000000e+00  0.00000000e+00  0.00000000e+00  1.00000000e+00]]\n"
     ]
    }
   ],
   "source": [
    "# getting transformation between coordinate systems\n",
    "Cam_T_EndRef_r, Cam_T_EndRef_t, Cam_T_Endo_FRE = pro.orthogonal_procrustes(endoscope_markers_in_camera_space, endoscope_markers_in_marker_space)\n",
    "print(\"Cam_T_EndRef_r=\\n\" + str(Cam_T_EndRef_r))\n",
    "print(\"Cam_T_EndRef_t=\\n\" + str(Cam_T_EndRef_t))\n",
    "print(\"Cam_T_Endo_FRE=\\n\" + str(Cam_T_Endo_FRE))\n",
    "# reconstructing translation and rotation to one matrix\n",
    "Cam_T_EndRef = mu.construct_rigid_transformation(Cam_T_EndRef_r, Cam_T_EndRef_t)\n",
    "print(\"Cam_T_EndRef=\\n\" + str(Cam_T_EndRef))\n",
    "\n"
   ]
  },
  {
   "cell_type": "markdown",
   "metadata": {},
   "source": [
    "## Patient reference tracking (PatRef to Cam)"
   ]
  },
  {
   "cell_type": "code",
   "execution_count": 27,
   "metadata": {},
   "outputs": [],
   "source": [
    "# Encoding the reference marker points into a numpy matrix\n",
    "pat_ref = create_pat_ref()"
   ]
  },
  {
   "cell_type": "code",
   "execution_count": 28,
   "metadata": {},
   "outputs": [
    {
     "name": "stdout",
     "output_type": "stream",
     "text": [
      "[[  0.     0.     0.     0.  ]\n",
      " [  0.    41.02  28.59   0.  ]\n",
      " [  0.    88.     0.     0.  ]\n",
      " [  0.    40.45 -44.32   0.  ]]\n"
     ]
    }
   ],
   "source": [
    "pat_ref_in_camera_space = create_pat_ref_in_camera_space()\n",
    "\n",
    "# Now put it in the right place (away from patient as in pointer simulation)\n",
    "translate_along_negative_y = create_transform([0, -cancer_patref_y, 0, 0, 0, 0])\n",
    "pat_ref_in_camera_space_at_patient = multiply_points_by_matrix(translate_along_negative_y @ translate_away_from_camera, pat_ref_in_camera_space, do_transpose=True)\n"
   ]
  },
  {
   "cell_type": "code",
   "execution_count": 29,
   "metadata": {},
   "outputs": [],
   "source": [
    "\n",
    "# As above, compute the tracking transformation.\n",
    "Cam_T_PatRef_r, Cam_T_PatRef_t, Cam_T_PatRef_FRE = pro.orthogonal_procrustes(pat_ref_in_camera_space_at_patient[:,0:3], pat_ref[:,0:3])\n",
    "\n",
    "\n",
    "# Also, construct a 4x4 tracking transformation. It should look like a translation, with no rotation.\n",
    "Cam_T_PatRef = mu.construct_rigid_transformation(Cam_T_PatRef_r, Cam_T_PatRef_t)\n"
   ]
  },
  {
   "cell_type": "markdown",
   "metadata": {},
   "source": [
    "## PatRef to MRI\n",
    "\n",
    "As with the pointer simulation, we apply a known translation"
   ]
  },
  {
   "cell_type": "code",
   "execution_count": 30,
   "metadata": {},
   "outputs": [
    {
     "name": "stdout",
     "output_type": "stream",
     "text": [
      "Cam_T_PntRef=\n",
      "[[   1.    0.    0. -100.]\n",
      " [   0.    1.    0. -130.]\n",
      " [   0.    0.    1.  -80.]\n",
      " [   0.    0.    0.    1.]]\n"
     ]
    }
   ],
   "source": [
    "# Average head dimensions from: https://en.wikipedia.org/wiki/Human_head\n",
    "\n",
    "x_t = 100 # head length (about 20cm)\n",
    "y_t = 130 # menton to top of head (about 25cm)\n",
    "z_t = 80 # head bredth (about 15cm)\n",
    "\n",
    "PatRef_T_MRI = create_transform([-x_t, -y_t, -z_t, 0, 0, 0])\n",
    "print(\"Cam_T_PntRef=\\n\" + str(PatRef_T_MRI))"
   ]
  },
  {
   "cell_type": "code",
   "execution_count": 31,
   "metadata": {},
   "outputs": [
    {
     "name": "stdout",
     "output_type": "stream",
     "text": [
      "PatRef_T_MRI=\n",
      "[[   1.    0.    0. -100.]\n",
      " [   0.    1.    0. -130.]\n",
      " [   0.    0.    1.  -80.]\n",
      " [   0.    0.    0.    1.]]\n",
      "PatRef_T_MRI_parameters=[0.0, 0.0, 0.0, -100.0, -130.0, -80.0]\n"
     ]
    }
   ],
   "source": [
    "# These are the baseline parameters for the MRI registration (whether thats PBR or SBR)\n",
    "PatRef_T_MRI_parameters = extract_rigid_body_parameters(PatRef_T_MRI)\n",
    "print(\"PatRef_T_MRI=\\n\" + str(PatRef_T_MRI))\n",
    "print(\"PatRef_T_MRI_parameters=\" + str(PatRef_T_MRI_parameters))"
   ]
  },
  {
   "cell_type": "markdown",
   "metadata": {},
   "source": [
    "## Summary of some details"
   ]
  },
  {
   "cell_type": "code",
   "execution_count": 35,
   "metadata": {},
   "outputs": [
    {
     "name": "stdout",
     "output_type": "stream",
     "text": [
      "endoscope_markers_in_camera_space=\n",
      "[[  70.71067812   70.71067812 1000.        ]\n",
      " [ 106.06601718  106.06601718 1000.        ]\n",
      " [ 123.74368671  159.09902577 1000.        ]\n",
      " [ 183.84776311  148.49242405 1000.        ]]\n",
      "endoscope_markers_in_marker_space=\n",
      "[[  0.   0. 100.]\n",
      " [  0.   0. 150.]\n",
      " [  0.  25. 200.]\n",
      " [  0. -25. 235.]]\n",
      "\n",
      "\n",
      "Cam_T_EndRef_r=\n",
      "[[ 1.59218830e-16 -7.07106781e-01  7.07106781e-01]\n",
      " [-1.92482452e-16  7.07106781e-01  7.07106781e-01]\n",
      " [-1.00000000e+00 -2.77555756e-16  0.00000000e+00]]\n",
      "Cam_T_EndRef_t=\n",
      "[[2.84217094e-14]\n",
      " [0.00000000e+00]\n",
      " [1.00000000e+03]]\n",
      "Cam_T_Endo_FRE=\n",
      "1.2306961192854808e-14\n",
      "Cam_T_EndRef=\n",
      "[[ 1.59218830e-16 -7.07106781e-01  7.07106781e-01  2.84217094e-14]\n",
      " [-1.92482452e-16  7.07106781e-01  7.07106781e-01  0.00000000e+00]\n",
      " [-1.00000000e+00 -2.77555756e-16  0.00000000e+00  1.00000000e+03]\n",
      " [ 0.00000000e+00  0.00000000e+00  0.00000000e+00  1.00000000e+00]]\n",
      "\n",
      "\n",
      "Patient ref model=\n",
      "[[  0.     0.     0.     1.  ]\n",
      " [  0.    28.59  41.02   1.  ]\n",
      " [  0.     0.    88.     1.  ]\n",
      " [  0.   -44.32  40.45   1.  ]]\n",
      "Patient ref model in camera space=\n",
      "[[ 0.00000e+00 -5.00000e+01  1.00000e+03  1.00000e+00]\n",
      " [ 0.00000e+00 -8.98000e+00  1.02859e+03  1.00000e+00]\n",
      " [ 0.00000e+00  3.80000e+01  1.00000e+03  1.00000e+00]\n",
      " [ 0.00000e+00 -9.55000e+00  9.55680e+02  1.00000e+00]]\n",
      "Cam_T_PatRef_r=\n",
      "[[-1.00000000e+00  0.00000000e+00  0.00000000e+00]\n",
      " [ 0.00000000e+00  3.46944695e-17  1.00000000e+00]\n",
      " [ 0.00000000e+00  1.00000000e+00 -9.02056208e-17]]\n",
      "Cam_T_PatRef_t=\n",
      "[[   0.]\n",
      " [ -50.]\n",
      " [1000.]]\n",
      "Cam_T_PatRef_FRE=\n",
      "7.105427357601002e-15\n",
      "Cam_T_PatRef=\n",
      "[[-1.00000000e+00  0.00000000e+00  0.00000000e+00  0.00000000e+00]\n",
      " [ 0.00000000e+00  3.46944695e-17  1.00000000e+00 -5.00000000e+01]\n",
      " [ 0.00000000e+00  1.00000000e+00 -9.02056208e-17  1.00000000e+03]\n",
      " [ 0.00000000e+00  0.00000000e+00  0.00000000e+00  1.00000000e+00]]\n",
      "\n",
      "\n",
      "PatRef_T_MRI=\n",
      "[[   1.    0.    0. -100.]\n",
      " [   0.    1.    0. -130.]\n",
      " [   0.    0.    1.  -80.]\n",
      " [   0.    0.    0.    1.]]\n",
      "PatRef_T_MRI_parameters=[0.0, 0.0, 0.0, -100.0, -130.0, -80.0]\n"
     ]
    }
   ],
   "source": [
    "# Endoscope ref tracking\n",
    "print(\"endoscope_markers_in_camera_space=\\n\" + str(endoscope_markers_in_camera_space))\n",
    "print(\"endoscope_markers_in_marker_space=\\n\" + str(endoscope_markers_in_marker_space))\n",
    "\n",
    "print('\\n')\n",
    "print(\"Cam_T_EndRef_r=\\n\" + str(Cam_T_EndRef_r))\n",
    "print(\"Cam_T_EndRef_t=\\n\" + str(Cam_T_EndRef_t))\n",
    "print(\"Cam_T_Endo_FRE=\\n\" + str(Cam_T_Endo_FRE))\n",
    "print(\"Cam_T_EndRef=\\n\" + str(Cam_T_EndRef))\n",
    "\n",
    "\n",
    "\n",
    "\n",
    "# Patient ref tracking\n",
    "print('\\n')\n",
    "print(\"Patient ref model=\\n\" + str(pat_ref))\n",
    "print(\"Patient ref model in camera space=\\n\" + str(pat_ref_in_camera_space_at_patient))\n",
    "print(\"Cam_T_PatRef_r=\\n\" + str(Cam_T_PatRef_r))\n",
    "print(\"Cam_T_PatRef_t=\\n\" + str(Cam_T_PatRef_t))\n",
    "print(\"Cam_T_PatRef_FRE=\\n\" + str(Cam_T_PatRef_FRE))\n",
    "print(\"Cam_T_PatRef=\\n\" + str(Cam_T_PatRef))\n",
    "\n",
    "# MRI to PatRef transform and parameters\n",
    "print('\\n')\n",
    "print(\"PatRef_T_MRI=\\n\" + str(PatRef_T_MRI))\n",
    "print(\"PatRef_T_MRI_parameters=\" + str(PatRef_T_MRI_parameters))\n"
   ]
  },
  {
   "cell_type": "markdown",
   "metadata": {},
   "source": [
    "## Laparoscope specific parameters\n",
    "\n",
    "Previously the length of the pointer was specified in the variable: pointer_length, typically about 100mm.\n",
    "\n",
    "(To Do, actually measure the medtronic one).\n",
    "\n",
    "We need a function to create a hand-eye transformation, between the tracking marker on the laparoscope, and the camera coordinate system."
   ]
  },
  {
   "cell_type": "code",
   "execution_count": 46,
   "metadata": {},
   "outputs": [],
   "source": [
    "# NOTE TO MENTION- ISN'T THIS THE SAME AS OFFSET FUNCTION?\n",
    "def create_hand_eye(length_of_endoscope):\n",
    "    transform = np.eye(4)\n",
    "    transform[2][3] = -(pointer_length - length_of_endoscope)\n",
    "    return transform"
   ]
  },
  {
   "cell_type": "markdown",
   "metadata": {},
   "source": [
    "### Check hand-eye is working\n",
    "\n",
    "If you look at the above coordinates in the variable endoscope_markers_in_marker_space"
   ]
  },
  {
   "cell_type": "code",
   "execution_count": 47,
   "metadata": {},
   "outputs": [
    {
     "name": "stdout",
     "output_type": "stream",
     "text": [
      "[[  0.   0. 100.]\n",
      " [  0.   0. 150.]\n",
      " [  0.  25. 200.]\n",
      " [  0. -25. 235.]]\n"
     ]
    }
   ],
   "source": [
    "print(endoscope_markers_in_marker_space)"
   ]
  },
  {
   "cell_type": "markdown",
   "metadata": {},
   "source": [
    "The tracking ball nearest the tip has a +ve z coordinate of 100 ((((to double check with matt)))))). \n",
    "\n",
    "If we move towards the pointer/laparoscope tip, you'd expect the z-coordinate to decrease. \n",
    "\n",
    "Furthermore, if we imagine that the laparoscope is 30cm/300mm long, then a point that is 300mm from the tracking ball would have z-coordinate -200. \n",
    "\n",
    "So, if we multiple [0, 0, -200] by hand-eye (i.e. the marker-to-camera transformation, we would expect the [0, 0, -200] to be mapped to [0, 0, 0], i.e the centre of projection of the laparoscope. "
   ]
  },
  {
   "cell_type": "code",
   "execution_count": 61,
   "metadata": {},
   "outputs": [
    {
     "name": "stdout",
     "output_type": "stream",
     "text": [
      "Input=[[   0.]\n",
      " [   0.]\n",
      " [-200.]\n",
      " [   1.]]\n",
      "Transform=[[  1.   0.   0.   0.]\n",
      " [  0.   1.   0.   0.]\n",
      " [  0.   0.   1. 200.]\n",
      " [  0.   0.   0.   1.]]\n",
      "Output=[[0.]\n",
      " [0.]\n",
      " [0.]\n",
      " [1.]]\n"
     ]
    }
   ],
   "source": [
    "length_of_endoscope = 300\n",
    "\n",
    "cop_in_laparascope_marker_space=np.zeros((4,1))\n",
    "cop_in_laparascope_marker_space[2][0] = -200\n",
    "cop_in_laparascope_marker_space[3][0] = 1\n",
    "print(\"Input=\" + str(cop_in_laparascope_marker_space))\n",
    "\n",
    "hand_eye = create_hand_eye(length_of_endoscope)\n",
    "print(\"Transform=\" + str(hand_eye))\n",
    "\n",
    "cop_in_camera_space = multiply_point_by_matrix(hand_eye, cop_in_laparascope_marker_space)\n",
    "print(\"Output=\" + str(cop_in_camera_space))\n"
   ]
  },
  {
   "cell_type": "markdown",
   "metadata": {},
   "source": [
    "## Target Point in Camera and MRI space- come back to this\n",
    "\n",
    "Imagine that the working distance of the endoscope is about 5cm? (ToDo, check this for something realistic). Then we need to know the location of the target point in camera, and world space."
   ]
  },
  {
   "cell_type": "code",
   "execution_count": 62,
   "metadata": {},
   "outputs": [
    {
     "name": "stdout",
     "output_type": "stream",
     "text": [
      "Target in camera space=[[ 0.]\n",
      " [ 0.]\n",
      " [50.]\n",
      " [ 1.]]\n",
      "Target in MRI space=[[206.06601718]\n",
      " [130.        ]\n",
      " [ 23.93398282]\n",
      " [  1.        ]]\n"
     ]
    }
   ],
   "source": [
    "target_location_in_camera_space = np.zeros((4,1))\n",
    "target_location_in_camera_space[2][0] = working_distance\n",
    "target_location_in_camera_space[3][0] = 1\n",
    "\n",
    "target_location_in_mri_space = camera_to_mri(Cam_T_EndRef, Cam_T_PatRef, PatRef_T_MRI, hand_eye, target_location_in_camera_space)\n",
    "\n",
    "print(\"Target in camera space=\" + str(target_location_in_camera_space))\n",
    "print(\"Target in MRI space=\" + str(target_location_in_mri_space))"
   ]
  },
  {
   "cell_type": "markdown",
   "metadata": {},
   "source": [
    "We now have a laparoscope system set up. Let's simulate what the effect of tracker noise is on 3D and 2D overlay accuracy, and also registration errors (mm/degrees), on both 3D and 2D overlay accuracy. "
   ]
  },
  {
   "cell_type": "markdown",
   "metadata": {},
   "source": [
    "# Simulation 1: Effect of Tracker Noise on Endoscope System"
   ]
  },
  {
   "cell_type": "code",
   "execution_count": 64,
   "metadata": {},
   "outputs": [
    {
     "data": {
      "image/png": "[encoded data removed]",
      "text/plain": [
       "<Figure size 432x288 with 1 Axes>"
      ]
     },
     "metadata": {
      "needs_background": "light"
     },
     "output_type": "display_data"
    }
   ],
   "source": [
    "number_samples = 1000\n",
    "x_values = []\n",
    "y_values = []\n",
    "for sigma_counter in range(0, 10, 1):\n",
    "    sigma = float(sigma_counter) / float(10)\n",
    "    rms = 0\n",
    "    for i in range(number_samples):\n",
    "        \n",
    "        # Here we add tracking noise to the endoscope and reference.\n",
    "        tmp_endoscope = add_noise_to_points(endoscope_markers_in_camera_space, sigma) # Mustn't include pointer tip! \n",
    "        tmp_ref = add_noise_to_points(pat_ref_in_camera_space_at_patient[:,0:3], sigma)\n",
    "\n",
    "        R, t, FRE = pro.orthogonal_procrustes(tmp_endoscope, endoscope_markers_in_marker_space)\n",
    "        tmp_endoscope_to_cam = mu.construct_rigid_transformation(R, t)\n",
    "        \n",
    "        R, t, FRE = pro.orthogonal_procrustes(tmp_ref, pat_ref[0:4, 0:3])\n",
    "        tmp_reference_to_cam = mu.construct_rigid_transformation(R, t)\n",
    "        \n",
    "        transformed_point = camera_to_mri(tmp_endoscope_to_cam, tmp_reference_to_cam, PatRef_T_MRI, hand_eye, target_location_in_camera_space)\n",
    "        euclid_dist = calculate_euclid_dist(transformed_point, target_location_in_mri_space)\n",
    "        \n",
    "        rms = rms + euclid_dist\n",
    "    rms = rms / float(number_samples)\n",
    "    rms = np.sqrt(rms)\n",
    "    x_values.append(sigma)\n",
    "    y_values.append(rms)\n",
    "    \n",
    "plt.plot(x_values, y_values, 'r', label='TRE (mm)')\n",
    "plt.legend(loc='upper left')\n",
    "plt.xlabel('sigma ')\n",
    "plt.ylabel('TRE (mm)')\n",
    "plt.show()\n",
    "        "
   ]
  },
  {
   "cell_type": "markdown",
   "metadata": {},
   "source": [
    "# Simulation 2: Tracking error + Registration error for Endoscope System\n",
    "\n",
    "As above, we'd like to simulate the effects of registration error, as well as tracking error."
   ]
  },
  {
   "cell_type": "code",
   "execution_count": 65,
   "metadata": {},
   "outputs": [
    {
     "data": {
      "image/png": "[encoded data removed]",
      "text/plain": [
       "<Figure size 432x288 with 1 Axes>"
      ]
     },
     "metadata": {
      "needs_background": "light"
     },
     "output_type": "display_data"
    }
   ],
   "source": [
    "number_samples = 1000\n",
    "x_values = []\n",
    "y_values = []\n",
    "for sigma_counter in range(0, 10, 1):\n",
    "    sigma = float(sigma_counter) / float(10)\n",
    "    rms = 0\n",
    "    for i in range(number_samples):\n",
    "        \n",
    "        # Here we add tracking noise to the pointer and reference.\n",
    "        tmp_endoscope = add_noise_to_points(endoscope_markers_in_camera_space, typical_tracking_sigma) # Mustn't include pointer tip! \n",
    "        tmp_ref = add_noise_to_points(pat_ref_in_camera_space_at_patient[:,0:3], typical_tracking_sigma)\n",
    "        \n",
    "        # Here we add noise onto the PatRef_T_MRI_parameters, and reconstruct a new registration\n",
    "        tmp_params = add_noise_to_params(PatRef_T_MRI_parameters, sigma)\n",
    "        tmp_mri_to_patref = rigid_body_parameters_to_matrix(tmp_params)\n",
    "        \n",
    "        R, t, FRE = pro.orthogonal_procrustes(tmp_endoscope, endoscope_markers_in_marker_space)\n",
    "        tmp_endoscope_to_cam = mu.construct_rigid_transformation(R, t)\n",
    "        \n",
    "        R, t, FRE = pro.orthogonal_procrustes(tmp_ref, pat_ref[0:4, 0:3])\n",
    "        tmp_reference_to_cam = mu.construct_rigid_transformation(R, t)\n",
    "        \n",
    "        transformed_point = camera_to_mri(tmp_endoscope_to_cam, tmp_reference_to_cam, tmp_mri_to_patref, hand_eye, target_location_in_camera_space)\n",
    "        \n",
    "        euclid_dist =  calculate_euclid_dist(transformed_point, target_location_in_mri_space)\n",
    "        \n",
    "        rms = rms + euclid_dist\n",
    "    rms = rms / float(number_samples)\n",
    "    rms = np.sqrt(rms)\n",
    "    x_values.append(sigma)\n",
    "    y_values.append(rms)\n",
    "    \n",
    "plt.plot(x_values, y_values, 'r', label='TRE (mm)')\n",
    "plt.legend(loc='upper left')\n",
    "plt.xlabel('sigma (rotations(degrees)/translations(mm))')\n",
    "plt.ylabel('TRE (mm)')\n",
    "plt.show()\n",
    "     "
   ]
  },
  {
   "cell_type": "markdown",
   "metadata": {},
   "source": [
    "# Simulation 3: Effect of Hand-Eye and Tracking Error in Endoscope System\n",
    "\n",
    "In addition to above, what if we vary hand-eye, is this better/worse, meaning less/more important to get right than the registration?\n",
    "\n",
    "Matt: The problem with this experiment, is we don't yet know how variable a typical hand-eye calibration is. Imagine the scenario where 10 different members of staff, did 10 different calibrations, and we looked at the standard-deviation (sigma) of the rotation parameters, and translation parameters. Would they be within the range of sigma of 0-1? If they are much worse, then the numbers below will need adjusting."
   ]
  },
  {
   "cell_type": "code",
   "execution_count": 66,
   "metadata": {},
   "outputs": [
    {
     "data": {
      "image/png": "[encoded data removed]",
      "text/plain": [
       "<Figure size 432x288 with 1 Axes>"
      ]
     },
     "metadata": {
      "needs_background": "light"
     },
     "output_type": "display_data"
    }
   ],
   "source": [
    "Hand_T_Eye_parameters = extract_rigid_body_parameters(hand_eye)\n",
    "\n",
    "number_samples = 1000\n",
    "x_values = []\n",
    "y_values = []\n",
    "for sigma_counter in range(0, 10, 1):\n",
    "    sigma = float(sigma_counter) / float(10)\n",
    "    rms = 0\n",
    "    for i in range(number_samples):\n",
    "        \n",
    "        # Here we add tracking noise to the pointer and reference.\n",
    "        tmp_endoscope = add_noise_to_points(endoscope_markers_in_camera_space, typical_tracking_sigma) # Mustn't include pointer tip! \n",
    "        tmp_ref = add_noise_to_points(pat_ref_in_camera_space_at_patient[:,0:3], typical_tracking_sigma)\n",
    "        \n",
    "        # Here we add noise onto the PatRef_T_MRI_parameters, and reconstruct a new registration\n",
    "        tmp_hand_eye_params = add_noise_to_params(Hand_T_Eye_parameters, sigma)\n",
    "        tmp_hand_eye = rigid_body_parameters_to_matrix(tmp_hand_eye_params)\n",
    "        \n",
    "        R, t, FRE = pro.orthogonal_procrustes(tmp_endoscope, endoscope_markers_in_marker_space)\n",
    "        tmp_endoscope_to_cam = mu.construct_rigid_transformation(R, t)\n",
    "        \n",
    "        R, t, FRE = pro.orthogonal_procrustes(tmp_ref, pat_ref[0:4, 0:3])\n",
    "        tmp_reference_to_cam = mu.construct_rigid_transformation(R, t)\n",
    "        \n",
    "        transformed_point = camera_to_mri(tmp_endoscope_to_cam, tmp_reference_to_cam, PatRef_T_MRI, tmp_hand_eye, target_location_in_camera_space)\n",
    "        \n",
    "        euclid_dist = calculate_euclid_dist(transformed_point, target_location_in_mri_space)\n",
    "        \n",
    "        rms = rms + euclid_dist\n",
    "    rms = rms / float(number_samples)\n",
    "    rms = np.sqrt(rms)\n",
    "    x_values.append(sigma)\n",
    "    y_values.append(rms)\n",
    "    \n",
    "plt.plot(x_values, y_values, 'r', label='TRE (mm)')\n",
    "plt.legend(loc='upper left')\n",
    "plt.xlabel('sigma (rotations(degrees)/translations(mm))')\n",
    "plt.ylabel('TRE (mm)')\n",
    "plt.show()\n",
    "     "
   ]
  },
  {
   "cell_type": "markdown",
   "metadata": {},
   "source": [
    "# Simulation 4: In AR How Many Pixels Off?\n",
    "\n",
    "The above simulations simply measure the true 3D distance in MRI space. So, given tracking errors, and either hand-eye or registration errors, how far off would we be if we mapped back to MRI space. (Similarly we could run the application the other way round, and express this in camera space, but the error would be the same).\n",
    "\n",
    "But, given that the field of view is so, small, how many pixels would this amount to? Most endoscopes run on 1920x1080p Full HD, on a reasonable monitor. So, how many pixels off are we?\n",
    "\n",
    "In the simulation below, we will assume we are dealing with a perfect hand-eye calibration, and repeat the experiment that investigated errors in registration, but this time, projecting to the image coordinates, and measuring the distance in pixels. If subsequent lab experiments show that hand-eye is more critical, then the experiment below can be repeated, but varying the hand-eye instead of the registration."
   ]
  },
  {
   "cell_type": "code",
   "execution_count": 67,
   "metadata": {},
   "outputs": [
    {
     "name": "stdout",
     "output_type": "stream",
     "text": [
      "Intrinsics are:[[664.6329766    0.         931.53151205]\n",
      " [  0.         663.83211807 520.64004697]\n",
      " [  0.           0.           1.        ]]\n",
      "Distortion coefficients are:[-4.0929449e-01  2.1631278e-01  1.1120000e-05  1.2712000e-03\n",
      " -7.2057120e-02]\n",
      "target_location_in_image_coordinates=[931.53151205 520.64004697]\n"
     ]
    }
   ],
   "source": [
    "# Camera calibration\n",
    "intrinsics = np.loadtxt('calibration/intrinsics.txt')\n",
    "distortion = np.loadtxt('calibration/distortion.txt')\n",
    "\n",
    "print(\"Intrinsics are:\" + str(intrinsics))\n",
    "print(\"Distortion coefficients are:\" + str(distortion))\n",
    "\n",
    "# Need to project target point to image plane. Incidentally, the target point \n",
    "# was straight along the optical axis, so should project to the middle of the image.\n",
    "target_location_in_image_coordinates = project_camera_point_to_image(target_location_in_camera_space, intrinsics, distortion)\n",
    "print(\"target_location_in_image_coordinates=\" + str(target_location_in_image_coordinates))"
   ]
  },
  {
   "cell_type": "code",
   "execution_count": 69,
   "metadata": {},
   "outputs": [
    {
     "data": {
      "image/png": "[encoded data removed]",
      "text/plain": [
       "<Figure size 432x288 with 1 Axes>"
      ]
     },
     "metadata": {
      "needs_background": "light"
     },
     "output_type": "display_data"
    }
   ],
   "source": [
    "number_samples = 1000\n",
    "x_values = []\n",
    "y_values = []\n",
    "for sigma_counter in range(0, 10, 1):\n",
    "    sigma = float(sigma_counter) / float(10)\n",
    "    rms = 0\n",
    "    for i in range(number_samples):\n",
    "        \n",
    "        # Here we add tracking noise to the pointer and reference.\n",
    "        tmp_endoscope = add_noise_to_points(endoscope_markers_in_camera_space, typical_tracking_sigma) # Mustn't include pointer tip! \n",
    "        tmp_ref = add_noise_to_points(pat_ref_in_camera_space_at_patient[:,0:3], typical_tracking_sigma)\n",
    "        \n",
    "        # Here we add noise onto the PatRef_T_MRI_parameters, and reconstruct a new registration\n",
    "        tmp_params = add_noise_to_params(PatRef_T_MRI_parameters, sigma)\n",
    "        tmp_mri_to_patref = rigid_body_parameters_to_matrix(tmp_params)\n",
    "        \n",
    "        R, t, FRE = pro.orthogonal_procrustes(tmp_endoscope, endoscope_markers_in_marker_space)\n",
    "        tmp_endoscope_to_cam = mu.construct_rigid_transformation(R, t)\n",
    "        \n",
    "        R, t, FRE = pro.orthogonal_procrustes(tmp_ref, pat_ref[0:4, 0:3])\n",
    "        tmp_reference_to_cam = mu.construct_rigid_transformation(R, t)\n",
    "        \n",
    "        transformed_point_in_camera_space = mri_to_camera(tmp_endoscope_to_cam, tmp_reference_to_cam, tmp_mri_to_patref, hand_eye, target_location_in_mri_space)\n",
    "        transformed_point_in_image_space = project_camera_point_to_image(transformed_point_in_camera_space, intrinsics, distortion)\n",
    "        \n",
    "        euclid_dist =  (transformed_point_in_image_space[0] - target_location_in_image_coordinates[0]) \\\n",
    "                     * (transformed_point_in_image_space[0] - target_location_in_image_coordinates[0]) \\\n",
    "                     + (transformed_point_in_image_space[1] - target_location_in_image_coordinates[1]) \\\n",
    "                     * (transformed_point_in_image_space[1] - target_location_in_image_coordinates[1]) \n",
    "        \n",
    "        rms = rms + euclid_dist\n",
    "    rms = rms / float(number_samples)\n",
    "    rms = np.sqrt(rms)\n",
    "    x_values.append(sigma)\n",
    "    y_values.append(rms)\n",
    "    \n",
    "plt.plot(x_values, y_values, 'r', label='TRE (mm)')\n",
    "plt.legend(loc='upper left')\n",
    "plt.xlabel('sigma (rotations(degrees)/translations(mm))')\n",
    "plt.ylabel('RMS (Pixels)')\n",
    "plt.show()\n"
   ]
  },
  {
   "cell_type": "markdown",
   "metadata": {},
   "source": [
    "# Summary of Model 2\n",
    "\n",
    "It's interesting to compare 3D errors, and the subsequent effect in pixels in 2D. \n",
    "\n",
    "From Simulation 3, we can see that with an NDI Polaris Spectra that has a sigma of 0.25, we would expect to get TREs of about 1.5mm. Furthermore, if we upgraded to the latest Veiga, which has a sigma of about 0.12, we might achieve TREs around 0.5mm. \n",
    "\n",
    "In Simulation 4, and assuming from the literature that rotational errors and translational errors of surface based registration are 0.5-1.0 mm/degrees, then we might expect TRE errors of about 3-6mm. (TODO: Can we do a surface based registration experiment ourselves?)\n",
    "\n",
    "In simulation 5, we can see that with an NDI Polaris Spectra that has a sigma of 0.25, and simulating Hand-Eye calibration errors with sigma 0-1 for rotational and translational parameters, we see that if errors are in the 0.5-1.0mm/degrees level, then we might expect TRE errors of about 2.75-4.0mm. (TODO: We need to do some calibrations and get realistic values for intrinsic, distortion, and distance from camera.)\n",
    "\n",
    "Simulation 6 shows us that given a perfect hand-eye, and if we again use a sigma of 0.5-1.0 mm/degrees for the registration performance, and a 'typical' level of noise on tracking markers (e.g. like Simulation 4), that TRE of around 3-6mm would map to 80 - 140 pixels. Given that a modern endoscope is 1920x1080, (full HD), then we would expect errors between 4-7% of the screen width and 7-13%& in height, which will look pretty terrible.\n"
   ]
  },
  {
   "cell_type": "code",
   "execution_count": null,
   "metadata": {},
   "outputs": [],
   "source": []
  }
 ],
 "metadata": {
  "kernelspec": {
   "display_name": "Python 3 (ipykernel)",
   "language": "python",
   "name": "python3"
  },
  "language_info": {
   "codemirror_mode": {
    "name": "ipython",
    "version": 3
   },
   "file_extension": ".py",
   "mimetype": "text/x-python",
   "name": "python",
   "nbconvert_exporter": "python",
   "pygments_lexer": "ipython3",
   "version": "3.8.12"
  }
 },
 "nbformat": 4,
 "nbformat_minor": 1
}
