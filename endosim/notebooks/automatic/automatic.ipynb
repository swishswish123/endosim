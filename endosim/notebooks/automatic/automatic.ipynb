{
 "cells": [
  {
   "cell_type": "markdown",
   "metadata": {
    "collapsed": true
   },
   "source": [
    "## Automatic simulation\n",
    "\n",
    "In this simulation we go directly from the patient coordinates to the MRI coordinates"
   ]
  },
  {
   "cell_type": "code",
   "execution_count": 20,
   "metadata": {
    "pycharm": {
     "is_executing": true
    }
   },
   "outputs": [],
   "source": [
    "import numpy as np\n",
    "import matplotlib.pyplot as plt\n",
    "import cv2\n",
    "import random\n"
   ]
  },
  {
   "cell_type": "code",
   "execution_count": 21,
   "metadata": {
    "pycharm": {
     "is_executing": true
    }
   },
   "outputs": [],
   "source": [
    "from end_utils import create_transform, \\\n",
    "                                  multiply_points_by_matrix, \\\n",
    "                                  multiply_point_by_matrix, pointer_to_mri,\\\n",
    "                                  camera_to_mri, mri_to_camera, add_noise_to_points,\\\n",
    "                                  add_noise_to_params, extract_rigid_body_parameters,\\\n",
    "                                  rigid_body_parameters_to_matrix, \\\n",
    "                                  convert_4x1_to_1x1x3, project_camera_point_to_image, \\\n",
    "                                  create_pnt_ref, create_pnt_ref_in_camera_space, create_pat_ref, \\\n",
    "                                  create_pat_ref_in_camera_space, get_ref_T_tip, calculate_euclid_dist, convert_points_nx3_to_1xnx3\n"
   ]
  },
  {
   "cell_type": "code",
   "execution_count": 22,
   "metadata": {
    "pycharm": {
     "is_executing": true
    }
   },
   "outputs": [],
   "source": [
    "# creating 4 points in patient coordinates\n",
    "\n",
    "z = 200 # head length (about 20cm)\n",
    "x = 250 # menton to top of head (about 25cm)\n",
    "y = 150 # head bredth (about 15cm)\n",
    "\n",
    "\n",
    "points = np.array(\n",
    "[\n",
    "    [-x,-y,z],\n",
    "    [-x,y,z],\n",
    "    [x,y,z],\n",
    "    [x,-y,z],\n",
    "])\n",
    "\n",
    "\n",
    "cancer_point = convert_points_nx3_to_1xnx3(np.array([[0,0,0]]))\n",
    "\n",
    "#points_converted = convert_points_nx3_to_1xnx3(points)\n"
   ]
  },
  {
   "cell_type": "code",
   "execution_count": 23,
   "metadata": {
    "pycharm": {
     "is_executing": true
    }
   },
   "outputs": [
    {
     "data": {
      "image/png": "[encoded data removed]",
      "text/plain": [
       "<Figure size 432x288 with 1 Axes>"
      ]
     },
     "metadata": {
      "needs_background": "light"
     },
     "output_type": "display_data"
    }
   ],
   "source": [
    "plt.figure()\n",
    "plt.scatter(points[:,0], points[:,1])\n",
    "plt.show()"
   ]
  },
  {
   "cell_type": "markdown",
   "metadata": {},
   "source": [
    "## projecting points from 3D to 2D"
   ]
  },
  {
   "cell_type": "code",
   "execution_count": 24,
   "metadata": {
    "pycharm": {
     "is_executing": true
    }
   },
   "outputs": [
    {
     "name": "stdout",
     "output_type": "stream",
     "text": [
      "Intrinsics are:[[664.6329766    0.         931.53151205]\n",
      " [  0.         663.83211807 520.64004697]\n",
      " [  0.           0.           1.        ]]\n",
      "Distortion coefficients are:[-4.0929449e-01  2.1631278e-01  1.1120000e-05  1.2712000e-03\n",
      " -7.2057120e-02]\n"
     ]
    }
   ],
   "source": [
    "intrinsics = np.loadtxt('calibration/intrinsics.txt')\n",
    "distortion = np.loadtxt('calibration/distortion.txt')\n",
    "\n",
    "print(\"Intrinsics are:\" + str(intrinsics))\n",
    "print(\"Distortion coefficients are:\" + str(distortion))\n"
   ]
  },
  {
   "cell_type": "code",
   "execution_count": 25,
   "metadata": {
    "pycharm": {
     "is_executing": true
    }
   },
   "outputs": [],
   "source": [
    "points_converted = convert_points_nx3_to_1xnx3(points)\n",
    "\n",
    "rvec = np.zeros((1,3))\n",
    "tvec = np.zeros((1,3))\n",
    "image_points, jacobian = cv2.projectPoints(points_converted, rvec, tvec, intrinsics, distortion)"
   ]
  },
  {
   "cell_type": "code",
   "execution_count": 26,
   "metadata": {
    "pycharm": {
     "is_executing": true
    }
   },
   "outputs": [
    {
     "name": "stdout",
     "output_type": "stream",
     "text": [
      "[[ 590.70593181  315.33086881]\n",
      " [ 590.67821662  725.99720692]\n",
      " [1281.2560626   729.16169462]\n",
      " [1281.2283474   312.1663811 ]]\n"
     ]
    }
   ],
   "source": [
    "image_points = image_points.squeeze()\n",
    "print(image_points)"
   ]
  },
  {
   "cell_type": "code",
   "execution_count": 27,
   "metadata": {
    "pycharm": {
     "is_executing": true
    }
   },
   "outputs": [
    {
     "data": {
      "image/png": "[encoded data removed]",
      "text/plain": [
       "<Figure size 432x288 with 1 Axes>"
      ]
     },
     "metadata": {
      "needs_background": "light"
     },
     "output_type": "display_data"
    }
   ],
   "source": [
    "plt.figure()\n",
    "plt.scatter(image_points[:,0], image_points[:,1])\n",
    "plt.show()"
   ]
  },
  {
   "cell_type": "markdown",
   "metadata": {},
   "source": [
    "# Simulation 1: adding noise to image points (2D)"
   ]
  },
  {
   "cell_type": "markdown",
   "metadata": {},
   "source": [
    "First we add noise to the image points (that is- add noise in 2D)"
   ]
  },
  {
   "cell_type": "code",
   "execution_count": 28,
   "metadata": {
    "pycharm": {
     "is_executing": true
    }
   },
   "outputs": [],
   "source": [
    "image_points_noisy = add_noise_to_points(image_points,0.25)"
   ]
  },
  {
   "cell_type": "markdown",
   "metadata": {},
   "source": [
    "We then find the corresponding transformation to get us from the 3D image points to the corresponding noisy image points"
   ]
  },
  {
   "cell_type": "code",
   "execution_count": 29,
   "metadata": {
    "pycharm": {
     "is_executing": true
    }
   },
   "outputs": [
    {
     "name": "stdout",
     "output_type": "stream",
     "text": [
      "rotation true:, [[-1.33849327e-04]\n",
      " [ 1.53026096e-02]\n",
      " [ 2.27516157e-07]]\n",
      "translation true:, [[-2.08313803e+00]\n",
      " [-1.82287484e-02]\n",
      " [ 2.01168074e+02]]\n",
      "rotation:, [[-0.00045071]\n",
      " [ 0.01786254]\n",
      " [-0.0006436 ]]\n",
      "translation:, [[-2.88688192e+00]\n",
      " [ 5.64466665e-02]\n",
      " [ 2.00853906e+02]]\n"
     ]
    }
   ],
   "source": [
    "success_true, rotation_vector_true, translation_vector_true = cv2.solvePnP(points.astype('float32'), image_points.astype('float32'), intrinsics, distortion, flags=0 )\n",
    "\n",
    "success, rotation_vector, translation_vector = cv2.solvePnP(points.astype('float32'), image_points_noisy.astype('float32'), intrinsics, distortion, flags=0 )\n",
    "\n",
    "if success_true:\n",
    "    print(f'rotation true:, {rotation_vector_true}')\n",
    "    print(f'translation true:, {translation_vector_true}')\n",
    "else:\n",
    "    print('solution not found')\n",
    "    \n",
    "if success:\n",
    "    print(f'rotation:, {rotation_vector}')\n",
    "    print(f'translation:, {translation_vector}')\n",
    "else:\n",
    "    print('solution not found')\n",
    "    \n",
    "\n",
    "        "
   ]
  },
  {
   "cell_type": "markdown",
   "metadata": {},
   "source": [
    "Finally we project the 3D points to 2D with the true and noisy rotation and translation"
   ]
  },
  {
   "cell_type": "code",
   "execution_count": 30,
   "metadata": {
    "pycharm": {
     "is_executing": true
    },
    "scrolled": true
   },
   "outputs": [
    {
     "name": "stdout",
     "output_type": "stream",
     "text": [
      "[[ 590.71083943  315.32212628]\n",
      " [ 590.68341083  726.00576517]\n",
      " [1281.25122558  729.16991962]\n",
      " [1281.22322562  312.15831522]]\n",
      "[[ 590.46930238  315.89627778]\n",
      " [ 590.69900141  726.25251792]\n",
      " [1281.65085846  729.54468163]\n",
      " [1281.34649043  311.719114  ]]\n"
     ]
    }
   ],
   "source": [
    "point_projected2D_true, jacobian = cv2.projectPoints(points_converted, rotation_vector_true, translation_vector_true, intrinsics, distortion)\n",
    "point_projected2D_true = point_projected2D_true.squeeze()\n",
    "print(point_projected2D_true)\n",
    "\n",
    "point_projected2D, jacobian = cv2.projectPoints(points_converted, rotation_vector, translation_vector, intrinsics, distortion)\n",
    "point_projected2D = point_projected2D.squeeze()\n",
    "print(point_projected2D)\n",
    "\n"
   ]
  },
  {
   "cell_type": "markdown",
   "metadata": {},
   "source": [
    "We can also use this rotation and translation to transform any other point in this coordinate system- eg. a point where the caner is locaed\n"
   ]
  },
  {
   "cell_type": "code",
   "execution_count": 31,
   "metadata": {},
   "outputs": [
    {
     "name": "stdout",
     "output_type": "stream",
     "text": [
      "[924.64967063 520.57989916]\n",
      "[921.98004498 520.82658493]\n"
     ]
    }
   ],
   "source": [
    "cancer_projected2D_true, jacobian = cv2.projectPoints(cancer_point, rotation_vector_true, translation_vector_true, intrinsics, distortion)\n",
    "cancer_projected2D_true = cancer_projected2D_true.squeeze()\n",
    "print(cancer_projected2D_true)\n",
    "\n",
    "cancer_projected2D, jacobian = cv2.projectPoints(cancer_point, rotation_vector, translation_vector, intrinsics, distortion)\n",
    "cancer_projected2D = cancer_projected2D.squeeze()\n",
    "print(cancer_projected2D)\n"
   ]
  },
  {
   "cell_type": "code",
   "execution_count": 33,
   "metadata": {
    "pycharm": {
     "is_executing": true
    }
   },
   "outputs": [
    {
     "data": {
      "image/png": "[encoded data removed]",
      "text/plain": [
       "<Figure size 432x288 with 1 Axes>"
      ]
     },
     "metadata": {
      "needs_background": "light"
     },
     "output_type": "display_data"
    }
   ],
   "source": [
    "plt.figure()\n",
    "plt.scatter(image_points[:,0], image_points[:,1])\n",
    "plt.scatter(point_projected2D[:,0], point_projected2D[:,1])\n",
    "#plt.scatter(image_points_noisy[:,0], image_points_noisy[:,1])\n",
    "\n",
    "plt.scatter(cancer_projected2D[0], cancer_projected2D[1])\n",
    "plt.scatter(cancer_projected2D_true[0], cancer_projected2D_true[1])\n",
    "\n",
    "plt.legend(['original image points', 'projected points', 'original cancer', 'noisy cancer'])\n",
    "\n",
    "plt.show()"
   ]
  },
  {
   "cell_type": "code",
   "execution_count": 34,
   "metadata": {
    "pycharm": {
     "is_executing": true
    }
   },
   "outputs": [
    {
     "data": {
      "image/png": "[encoded data removed]",
      "text/plain": [
       "<Figure size 432x288 with 1 Axes>"
      ]
     },
     "metadata": {
      "needs_background": "light"
     },
     "output_type": "display_data"
    }
   ],
   "source": [
    "\n",
    "number_samples = 1000\n",
    "x_values_px = []\n",
    "y_values_px = []\n",
    "\n",
    "x_values_mm = []\n",
    "y_values_mm = []\n",
    "\n",
    "for sigma_counter in range(0, 10, 1):\n",
    "    sigma = float(sigma_counter) / float(10)\n",
    "    rms = 0\n",
    "    for i in range(number_samples):\n",
    "        \n",
    "        # add noise to image points\n",
    "        image_points_noisy = add_noise_to_points(image_points,sigma)\n",
    "        \n",
    "        # try and match noisy 2D to original 3d object points\n",
    "        # true\n",
    "        success_true, rotation_vector_true, translation_vector_true = cv2.solvePnP(points.astype('float32'), image_points.astype('float32'), intrinsics,distortion, flags=0 )\n",
    "        # noisy\n",
    "        success, rotation_vector, translation_vector = cv2.solvePnP(points.astype('float32'), image_points_noisy.astype('float32'), intrinsics,distortion, flags=0 )\n",
    "\n",
    "        \n",
    "        # project cancer 3D point using the found rotations and translations\n",
    "        # true\n",
    "        point_projected2D_true, _ = cv2.projectPoints(cancer_point, rotation_vector_true, translation_vector_true, intrinsics, distortion)\n",
    "        point_projected2D_true = point_projected2D_true.squeeze()\n",
    "        # noisy\n",
    "        point_projected2D, _ = cv2.projectPoints(cancer_point, rotation_vector, translation_vector, intrinsics, distortion)\n",
    "        point_projected2D = point_projected2D.squeeze()\n",
    "\n",
    "        \n",
    "        \n",
    "        euclid_dist_px =  (point_projected2D_true[0] - point_projected2D[0]) \\\n",
    "                     * (point_projected2D_true[0] - point_projected2D[0]) \\\n",
    "                     + (point_projected2D_true[1] - point_projected2D[1]) \\\n",
    "                     * (point_projected2D_true[1] - point_projected2D[1]) \n",
    "        \n",
    "        #euclid_dist_mm = calculate_euclid_dist()\n",
    "        \n",
    "        rms = rms + euclid_dist_px\n",
    "        \n",
    "    rms = rms / float(number_samples)\n",
    "    rms = np.sqrt(rms)\n",
    "    x_values_px.append(sigma)\n",
    "    y_values_px.append(rms)\n",
    "    \n",
    "plt.plot(x_values_px, y_values_px, 'r', label='TRE (pxls)')\n",
    "plt.title('error (in pixels)')\n",
    "plt.legend(loc='upper left')\n",
    "plt.xlabel('sigma (rotations(degrees)/translations(mm))')\n",
    "plt.ylabel('RMS (Pixels)')\n",
    "plt.show()\n"
   ]
  },
  {
   "cell_type": "markdown",
   "metadata": {},
   "source": [
    "## Simulation 2: adding noise to 3D\n"
   ]
  },
  {
   "cell_type": "code",
   "execution_count": null,
   "metadata": {
    "pycharm": {
     "is_executing": true
    }
   },
   "outputs": [],
   "source": [
    "noisy_points = add_noise_to_points(points, 0.5)\n",
    "\n",
    "plt.figure()\n",
    "plt.scatter(points[:,0], points[:,1])\n",
    "plt.scatter(noisy_points[:,0], noisy_points[:,1])\n",
    "plt.show()\n"
   ]
  },
  {
   "cell_type": "markdown",
   "metadata": {},
   "source": [
    "## Simulation 3: adding noise to both"
   ]
  },
  {
   "cell_type": "code",
   "execution_count": null,
   "metadata": {
    "pycharm": {
     "is_executing": true
    }
   },
   "outputs": [],
   "source": []
  },
  {
   "cell_type": "code",
   "execution_count": null,
   "metadata": {
    "pycharm": {
     "is_executing": true
    }
   },
   "outputs": [],
   "source": []
  }
 ],
 "metadata": {
  "kernelspec": {
   "display_name": "Python 3 (ipykernel)",
   "language": "python",
   "name": "python3"
  },
  "language_info": {
   "codemirror_mode": {
    "name": "ipython",
    "version": 3
   },
   "file_extension": ".py",
   "mimetype": "text/x-python",
   "name": "python",
   "nbconvert_exporter": "python",
   "pygments_lexer": "ipython3",
   "version": "3.8.12"
  }
 },
 "nbformat": 4,
 "nbformat_minor": 1
}