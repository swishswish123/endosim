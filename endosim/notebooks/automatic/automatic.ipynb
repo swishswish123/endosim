{
 "cells": [
  {
   "cell_type": "markdown",
   "metadata": {
    "collapsed": true
   },
   "source": [
    "## Automatic simulation\n",
    "\n",
    "In this simulation we go directly from the patient coordinates to the MRI coordinates"
   ]
  },
  {
   "cell_type": "code",
   "execution_count": 102,
   "metadata": {},
   "outputs": [],
   "source": [
    "import numpy as np\n",
    "import matplotlib.pyplot as plt\n",
    "import cv2\n",
    "import random\n"
   ]
  },
  {
   "cell_type": "code",
   "execution_count": 103,
   "metadata": {},
   "outputs": [],
   "source": [
    "# creating 4 points in patient coordinates\n",
    "\n",
    "z = 200 # head length (about 20cm)\n",
    "x = 250 # menton to top of head (about 25cm)\n",
    "y = 150 # head bredth (about 15cm)\n",
    "\n",
    "\n",
    "points = np.array(\n",
    "[\n",
    "    [-x,-y,z],\n",
    "    [-x,y,z],\n",
    "    [x,y,z],\n",
    "    [x,-y,z],\n",
    "])\n",
    "\n",
    "\n",
    "\n"
   ]
  },
  {
   "cell_type": "code",
   "execution_count": 104,
   "metadata": {},
   "outputs": [
    {
     "data": {
      "image/png": "[encoded data removed]",
      "text/plain": [
       "<Figure size 432x288 with 1 Axes>"
      ]
     },
     "metadata": {
      "needs_background": "light"
     },
     "output_type": "display_data"
    }
   ],
   "source": [
    "plt.figure()\n",
    "plt.scatter(points[:,0], points[:,1])\n",
    "plt.show()"
   ]
  },
  {
   "cell_type": "markdown",
   "metadata": {},
   "source": [
    "## projecting points from 3D to 2D"
   ]
  },
  {
   "cell_type": "code",
   "execution_count": 105,
   "metadata": {},
   "outputs": [
    {
     "name": "stdout",
     "output_type": "stream",
     "text": [
      "Intrinsics are:[[664.6329766    0.         931.53151205]\n",
      " [  0.         663.83211807 520.64004697]\n",
      " [  0.           0.           1.        ]]\n",
      "Distortion coefficients are:[-4.0929449e-01  2.1631278e-01  1.1120000e-05  1.2712000e-03\n",
      " -7.2057120e-02]\n"
     ]
    }
   ],
   "source": [
    "intrinsics = np.loadtxt('calibration/intrinsics.txt')\n",
    "distortion = np.loadtxt('calibration/distortion.txt')\n",
    "\n",
    "print(\"Intrinsics are:\" + str(intrinsics))\n",
    "print(\"Distortion coefficients are:\" + str(distortion))\n"
   ]
  },
  {
   "cell_type": "code",
   "execution_count": 106,
   "metadata": {},
   "outputs": [],
   "source": [
    "def convert_points(p_13):\n",
    "    p_113 = np.zeros((1,1,3))\n",
    "    p_113[0][0][0] = p_13[0]\n",
    "    p_113[0][0][1] = p_13[1]\n",
    "    p_113[0][0][2] = p_13[2]\n",
    "    return p_113"
   ]
  },
  {
   "cell_type": "code",
   "execution_count": 107,
   "metadata": {},
   "outputs": [],
   "source": [
    "rvec = np.zeros((1,3))\n",
    "tvec = np.zeros((1,3))\n",
    "\n",
    "p_143 = np.zeros((1,4,3))\n",
    "\n",
    "for idx, point in enumerate(points):\n",
    "    p_143[:,idx ,:] = convert_points(point)\n",
    "\n",
    "\n",
    "image_points, jacobian = cv2.projectPoints(p_143, rvec, tvec, intrinsics, distortion)"
   ]
  },
  {
   "cell_type": "code",
   "execution_count": 108,
   "metadata": {},
   "outputs": [
    {
     "name": "stdout",
     "output_type": "stream",
     "text": [
      "[[ 590.70593181  315.33086881]\n",
      " [ 590.67821662  725.99720692]\n",
      " [1281.2560626   729.16169462]\n",
      " [1281.2283474   312.1663811 ]]\n"
     ]
    }
   ],
   "source": [
    "image_points = image_points.squeeze()\n",
    "print(image_points)"
   ]
  },
  {
   "cell_type": "code",
   "execution_count": 109,
   "metadata": {},
   "outputs": [
    {
     "data": {
      "image/png": "[encoded data removed]",
      "text/plain": [
       "<Figure size 432x288 with 1 Axes>"
      ]
     },
     "metadata": {
      "needs_background": "light"
     },
     "output_type": "display_data"
    }
   ],
   "source": [
    "plt.figure()\n",
    "plt.scatter(image_points[:,0], image_points[:,1])\n",
    "plt.show()"
   ]
  },
  {
   "cell_type": "markdown",
   "metadata": {},
   "source": [
    "# adding noise to image points"
   ]
  },
  {
   "cell_type": "code",
   "execution_count": 110,
   "metadata": {},
   "outputs": [],
   "source": [
    "def add_noise_to_points(points_in, sigma):\n",
    "    points_out = np.zeros((points_in.shape))\n",
    "    for r in range(points_in.shape[0]):\n",
    "        for c in range(points_in.shape[1]):\n",
    "            points_out[r][c] = points_in[r][c] + random.normalvariate(0, sigma)\n",
    "    return points_out"
   ]
  },
  {
   "cell_type": "code",
   "execution_count": 111,
   "metadata": {},
   "outputs": [],
   "source": [
    "image_points_noisy = add_noise_to_points(image_points,0.25)"
   ]
  },
  {
   "cell_type": "code",
   "execution_count": 112,
   "metadata": {},
   "outputs": [],
   "source": [
    "success, rotation_vector, translation_vector = cv2.solvePnP(points.astype('float32'), image_points_noisy.astype('float32'), intrinsics,distortion, flags=0 )\n"
   ]
  },
  {
   "cell_type": "code",
   "execution_count": 113,
   "metadata": {},
   "outputs": [
    {
     "name": "stdout",
     "output_type": "stream",
     "text": [
      "rotation:, [[-0.00144415]\n",
      " [ 0.01694678]\n",
      " [ 0.00013275]]\n",
      "translation:, [[ -2.54961719]\n",
      " [ -0.26010229]\n",
      " [201.0085703 ]]\n"
     ]
    }
   ],
   "source": [
    "if success:\n",
    "    print(f'rotation:, {rotation_vector}')\n",
    "    print(f'translation:, {translation_vector}')\n",
    "else:\n",
    "    print('solution not found')"
   ]
  },
  {
   "cell_type": "code",
   "execution_count": 114,
   "metadata": {},
   "outputs": [
    {
     "name": "stdout",
     "output_type": "stream",
     "text": [
      "[[ 590.85510556  315.48618007]\n",
      " [ 590.54840232  725.94750218]\n",
      " [1281.53437819  729.54659408]\n",
      " [1281.33209916  312.06229631]]\n"
     ]
    }
   ],
   "source": [
    "point_projected2D, jacobian = cv2.projectPoints(p_143, rotation_vector, translation_vector, intrinsics, distortion)\n",
    "point_projected2D = point_projected2D.squeeze()\n",
    "print(point_projected2D)\n"
   ]
  },
  {
   "cell_type": "code",
   "execution_count": 115,
   "metadata": {},
   "outputs": [
    {
     "data": {
      "image/png": "[encoded data removed]",
      "text/plain": [
       "<Figure size 432x288 with 1 Axes>"
      ]
     },
     "metadata": {
      "needs_background": "light"
     },
     "output_type": "display_data"
    }
   ],
   "source": [
    "plt.figure()\n",
    "plt.scatter(image_points[:,0], image_points[:,1])\n",
    "plt.scatter(point_projected2D[:,0], point_projected2D[:,1])\n",
    "#plt.scatter(image_points_noisy[:,0], image_points_noisy[:,1])\n",
    "plt.legend(['original image points', 'projected points'])\n",
    "plt.show()"
   ]
  },
  {
   "cell_type": "code",
   "execution_count": 117,
   "metadata": {},
   "outputs": [
    {
     "data": {
      "image/png": "[encoded data removed]",
      "text/plain": [
       "<Figure size 432x288 with 1 Axes>"
      ]
     },
     "metadata": {
      "needs_background": "light"
     },
     "output_type": "display_data"
    }
   ],
   "source": [
    "\n",
    "number_samples = 1000\n",
    "x_values = []\n",
    "y_values = []\n",
    "for sigma_counter in range(0, 10, 1):\n",
    "    sigma = float(sigma_counter) / float(10)\n",
    "    rms = 0\n",
    "    for i in range(number_samples):\n",
    "        \n",
    "        # add noise to image points\n",
    "        image_points_noisy = add_noise_to_points(image_points,sigma)\n",
    "        \n",
    "        # try and match noisy 2D to original 3d object points\n",
    "        success, rotation_vector, translation_vector = cv2.solvePnP(points.astype('float32'), image_points_noisy.astype('float32'), intrinsics,distortion, flags=0 )\n",
    "\n",
    "        # project 3D original points using the found rotation and translation\n",
    "        point_projected2D, jacobian = cv2.projectPoints(p_143, rotation_vector, translation_vector, intrinsics, distortion)\n",
    "        point_projected2D = point_projected2D.squeeze()\n",
    "\n",
    "        \n",
    "        euclid_dist =  (point_projected2D[0] - image_points[0]) \\\n",
    "                     * (point_projected2D[0] - image_points[0]) \\\n",
    "                     + (point_projected2D[1] - image_points[1]) \\\n",
    "                     * (point_projected2D[1] - image_points[1]) \n",
    "        \n",
    "        \n",
    "        rms = rms + euclid_dist\n",
    "    rms = rms / float(number_samples)\n",
    "    rms = np.sqrt(rms)\n",
    "    x_values.append(sigma)\n",
    "    y_values.append(rms)\n",
    "    \n",
    "plt.plot(x_values, y_values, 'r', label='TRE (mm)')\n",
    "plt.legend(loc='upper left')\n",
    "plt.xlabel('sigma (rotations(degrees)/translations(mm))')\n",
    "plt.ylabel('RMS (Pixels)')\n",
    "plt.show()\n"
   ]
  },
  {
   "cell_type": "code",
   "execution_count": null,
   "metadata": {},
   "outputs": [],
   "source": [
    "## adding noise to 3D"
   ]
  },
  {
   "cell_type": "code",
   "execution_count": null,
   "metadata": {},
   "outputs": [],
   "source": [
    "## adding noise to both"
   ]
  }
 ],
 "metadata": {
  "kernelspec": {
   "display_name": "Python 3 (ipykernel)",
   "language": "python",
   "name": "python3"
  },
  "language_info": {
   "codemirror_mode": {
    "name": "ipython",
    "version": 3
   },
   "file_extension": ".py",
   "mimetype": "text/x-python",
   "name": "python",
   "nbconvert_exporter": "python",
   "pygments_lexer": "ipython3",
   "version": "3.8.12"
  }
 },
 "nbformat": 4,
 "nbformat_minor": 1
}